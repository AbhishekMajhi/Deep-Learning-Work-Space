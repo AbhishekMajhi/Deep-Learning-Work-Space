{
  "nbformat": 4,
  "nbformat_minor": 0,
  "metadata": {
    "colab": {
      "name": "Voice_Cloning_Final_Eng_Alternative_V1.1.ipynb",
      "provenance": [],
      "collapsed_sections": [],
      "authorship_tag": "ABX9TyMjl1m6GdzYIeUxlBGfvqfz",
      "include_colab_link": true
    },
    "kernelspec": {
      "name": "python3",
      "display_name": "Python 3"
    },
    "language_info": {
      "name": "python"
    }
  },
  "cells": [
    {
      "cell_type": "markdown",
      "metadata": {
        "id": "view-in-github",
        "colab_type": "text"
      },
      "source": [
        "<a href=\"https://colab.research.google.com/github/AbhishekMajhi/Deep-Learning-Work-Space/blob/main/Voice_Cloning_Final_Eng_Alternative_V1_1.ipynb\" target=\"_parent\"><img src=\"https://colab.research.google.com/assets/colab-badge.svg\" alt=\"Open In Colab\"/></a>"
      ]
    },
    {
      "cell_type": "code",
      "execution_count": null,
      "metadata": {
        "id": "63HKj4E9sW0N",
        "colab": {
          "base_uri": "https://localhost:8080/"
        },
        "outputId": "c36982c6-667f-4bdc-c05d-f2a2317438df"
      },
      "outputs": [
        {
          "output_type": "stream",
          "name": "stdout",
          "text": [
            "Mounted at /content/drive\n"
          ]
        }
      ],
      "source": [
        "from google.colab import drive\n",
        "drive.mount('/content/drive')"
      ]
    },
    {
      "cell_type": "code",
      "source": [
        "import shutil\n",
        "import os"
      ],
      "metadata": {
        "id": "XvO1WOOYsiyW"
      },
      "execution_count": null,
      "outputs": []
    },
    {
      "cell_type": "code",
      "source": [
        "!pip install pydub"
      ],
      "metadata": {
        "id": "FGXjy7uos1Qr",
        "colab": {
          "base_uri": "https://localhost:8080/"
        },
        "outputId": "b7716c37-3baa-4a1b-83fe-d8b38b5f120f"
      },
      "execution_count": null,
      "outputs": [
        {
          "output_type": "stream",
          "name": "stdout",
          "text": [
            "Collecting pydub\n",
            "  Downloading pydub-0.25.1-py2.py3-none-any.whl (32 kB)\n",
            "Installing collected packages: pydub\n",
            "Successfully installed pydub-0.25.1\n"
          ]
        }
      ]
    },
    {
      "cell_type": "code",
      "source": [
        "!pip install TTS\n",
        "!pip install --upgrade numpy"
      ],
      "metadata": {
        "id": "ECh-Sxo_si1L"
      },
      "execution_count": null,
      "outputs": []
    },
    {
      "cell_type": "code",
      "source": [
        "# See command help here\n",
        "!tts -h"
      ],
      "metadata": {
        "id": "gXK6HLHqsi4r",
        "colab": {
          "base_uri": "https://localhost:8080/"
        },
        "outputId": "14ea01fa-5edc-4679-8894-61db85c169e1"
      },
      "execution_count": null,
      "outputs": [
        {
          "output_type": "stream",
          "name": "stdout",
          "text": [
            "usage: tts [-h] [--list_models [LIST_MODELS]] [--text TEXT]\n",
            "           [--model_name MODEL_NAME] [--vocoder_name VOCODER_NAME]\n",
            "           [--config_path CONFIG_PATH] [--model_path MODEL_PATH]\n",
            "           [--out_path OUT_PATH] [--use_cuda USE_CUDA]\n",
            "           [--vocoder_path VOCODER_PATH]\n",
            "           [--vocoder_config_path VOCODER_CONFIG_PATH]\n",
            "           [--encoder_path ENCODER_PATH]\n",
            "           [--encoder_config_path ENCODER_CONFIG_PATH]\n",
            "           [--speakers_file_path SPEAKERS_FILE_PATH]\n",
            "           [--language_ids_file_path LANGUAGE_IDS_FILE_PATH]\n",
            "           [--speaker_idx SPEAKER_IDX] [--language_idx LANGUAGE_IDX]\n",
            "           [--speaker_wav SPEAKER_WAV [SPEAKER_WAV ...]]\n",
            "           [--gst_style GST_STYLE] [--list_speaker_idxs [LIST_SPEAKER_IDXS]]\n",
            "           [--list_language_idxs [LIST_LANGUAGE_IDXS]]\n",
            "           [--save_spectogram SAVE_SPECTOGRAM]\n",
            "\n",
            "Synthesize speech on command line.\n",
            "\n",
            "You can either use your trained model or choose a model from the provided list.\n",
            "\n",
            "If you don't specify any models, then it uses LJSpeech based English model.\n",
            "\n",
            "## Example Runs\n",
            "\n",
            "### Single Speaker Models\n",
            "\n",
            "- List provided models:\n",
            "\n",
            "    $ tts --list_models\n",
            "\n",
            "- Run TTS with default models:\n",
            "\n",
            "    $ tts --text \"Text for TTS\"\n",
            "\n",
            "- Run a TTS model with its default vocoder model:\n",
            "\n",
            "    $ tts --text \"Text for TTS\" --model_name \"<language>/<dataset>/<model_name>\n",
            "\n",
            "- Run with specific TTS and vocoder models from the list:\n",
            "\n",
            "    $ tts --text \"Text for TTS\" --model_name \"<language>/<dataset>/<model_name>\" --vocoder_name \"<language>/<dataset>/<model_name>\" --output_path\n",
            "\n",
            "- Run your own TTS model (Using Griffin-Lim Vocoder):\n",
            "\n",
            "    $ tts --text \"Text for TTS\" --model_path path/to/model.pth.tar --config_path path/to/config.json --out_path output/path/speech.wav\n",
            "\n",
            "- Run your own TTS and Vocoder models:\n",
            "    $ tts --text \"Text for TTS\" --model_path path/to/config.json --config_path path/to/model.pth.tar --out_path output/path/speech.wav\n",
            "        --vocoder_path path/to/vocoder.pth.tar --vocoder_config_path path/to/vocoder_config.json\n",
            "\n",
            "### Multi-speaker Models\n",
            "\n",
            "- List the available speakers and choose as <speaker_id> among them:\n",
            "\n",
            "    $ tts --model_name \"<language>/<dataset>/<model_name>\"  --list_speaker_idxs\n",
            "\n",
            "- Run the multi-speaker TTS model with the target speaker ID:\n",
            "\n",
            "    $ tts --text \"Text for TTS.\" --out_path output/path/speech.wav --model_name \"<language>/<dataset>/<model_name>\"  --speaker_idx <speaker_id>\n",
            "\n",
            "- Run your own multi-speaker TTS model:\n",
            "\n",
            "    $ tts --text \"Text for TTS\" --out_path output/path/speech.wav --model_path path/to/config.json --config_path path/to/model.pth.tar --speakers_file_path path/to/speaker.json --speaker_idx <speaker_id>\n",
            "    \n",
            "\n",
            "optional arguments:\n",
            "  -h, --help            show this help message and exit\n",
            "  --list_models [LIST_MODELS]\n",
            "                        list available pre-trained TTS and vocoder models.\n",
            "  --text TEXT           Text to generate speech.\n",
            "  --model_name MODEL_NAME\n",
            "                        Name of one of the pre-trained TTS models in format <language>/<dataset>/<model_name>\n",
            "  --vocoder_name VOCODER_NAME\n",
            "                        Name of one of the pre-trained  vocoder models in format <language>/<dataset>/<model_name>\n",
            "  --config_path CONFIG_PATH\n",
            "                        Path to model config file.\n",
            "  --model_path MODEL_PATH\n",
            "                        Path to model file.\n",
            "  --out_path OUT_PATH   Output wav file path.\n",
            "  --use_cuda USE_CUDA   Run model on CUDA.\n",
            "  --vocoder_path VOCODER_PATH\n",
            "                        Path to vocoder model file. If it is not defined, model uses GL as vocoder. Please make sure that you installed vocoder library before (WaveRNN).\n",
            "  --vocoder_config_path VOCODER_CONFIG_PATH\n",
            "                        Path to vocoder model config file.\n",
            "  --encoder_path ENCODER_PATH\n",
            "                        Path to speaker encoder model file.\n",
            "  --encoder_config_path ENCODER_CONFIG_PATH\n",
            "                        Path to speaker encoder config file.\n",
            "  --speakers_file_path SPEAKERS_FILE_PATH\n",
            "                        JSON file for multi-speaker model.\n",
            "  --language_ids_file_path LANGUAGE_IDS_FILE_PATH\n",
            "                        JSON file for multi-lingual model.\n",
            "  --speaker_idx SPEAKER_IDX\n",
            "                        Target speaker ID for a multi-speaker TTS model.\n",
            "  --language_idx LANGUAGE_IDX\n",
            "                        Target language ID for a multi-lingual TTS model.\n",
            "  --speaker_wav SPEAKER_WAV [SPEAKER_WAV ...]\n",
            "                        wav file(s) to condition a multi-speaker TTS model with a Speaker Encoder. You can give multiple file paths. The d_vectors is computed as their average.\n",
            "  --gst_style GST_STYLE\n",
            "                        Wav path file for GST stylereference.\n",
            "  --list_speaker_idxs [LIST_SPEAKER_IDXS]\n",
            "                        List available speaker ids for the defined multi-speaker model.\n",
            "  --list_language_idxs [LIST_LANGUAGE_IDXS]\n",
            "                        List available language ids for the defined multi-lingual model.\n",
            "  --save_spectogram SAVE_SPECTOGRAM\n",
            "                        If true save raw spectogram for further (vocoder) processing in out_path.\n"
          ]
        }
      ]
    },
    {
      "cell_type": "code",
      "source": [
        "# See the list of TTS model available\n",
        "!tts --list_models"
      ],
      "metadata": {
        "id": "VUUCNODYsi8_",
        "colab": {
          "base_uri": "https://localhost:8080/"
        },
        "outputId": "56af8b79-0a09-42f7-c635-02bac411a65f"
      },
      "execution_count": null,
      "outputs": [
        {
          "output_type": "stream",
          "name": "stdout",
          "text": [
            " Name format: type/language/dataset/model\n",
            " 1: tts_models/multilingual/multi-dataset/your_tts\n",
            " 2: tts_models/en/ek1/tacotron2\n",
            " 3: tts_models/en/ljspeech/tacotron2-DDC\n",
            " 4: tts_models/en/ljspeech/tacotron2-DDC_ph\n",
            " 5: tts_models/en/ljspeech/glow-tts\n",
            " 6: tts_models/en/ljspeech/speedy-speech\n",
            " 7: tts_models/en/ljspeech/tacotron2-DCA\n",
            " 8: tts_models/en/ljspeech/vits\n",
            " 9: tts_models/en/ljspeech/fast_pitch\n",
            " 10: tts_models/en/vctk/sc-glow-tts\n",
            " 11: tts_models/en/vctk/vits\n",
            " 12: tts_models/en/vctk/fast_pitch\n",
            " 13: tts_models/en/sam/tacotron-DDC\n",
            " 14: tts_models/es/mai/tacotron2-DDC\n",
            " 15: tts_models/fr/mai/tacotron2-DDC\n",
            " 16: tts_models/uk/mai/glow-tts\n",
            " 17: tts_models/zh-CN/baker/tacotron2-DDC-GST\n",
            " 18: tts_models/nl/mai/tacotron2-DDC\n",
            " 19: tts_models/de/thorsten/tacotron2-DCA\n",
            " 20: tts_models/ja/kokoro/tacotron2-DDC\n",
            " 1: vocoder_models/universal/libri-tts/wavegrad\n",
            " 2: vocoder_models/universal/libri-tts/fullband-melgan\n",
            " 3: vocoder_models/en/ek1/wavegrad\n",
            " 4: vocoder_models/en/ljspeech/multiband-melgan\n",
            " 5: vocoder_models/en/ljspeech/hifigan_v2\n",
            " 6: vocoder_models/en/ljspeech/univnet\n",
            " 7: vocoder_models/en/vctk/hifigan_v2\n",
            " 8: vocoder_models/en/sam/hifigan_v2\n",
            " 9: vocoder_models/nl/mai/parallel-wavegan\n",
            " 10: vocoder_models/de/thorsten/wavegrad\n",
            " 11: vocoder_models/de/thorsten/fullband-melgan\n",
            " 12: vocoder_models/ja/kokoro/hifigan_v1\n",
            " 13: vocoder_models/uk/mai/multiband-melgan\n"
          ]
        }
      ]
    },
    {
      "cell_type": "markdown",
      "source": [
        "Here we gonna use **\"tts_models/multilingual/multi-dataset/your_tts\"** model from above model list (Run above cell to see the list)."
      ],
      "metadata": {
        "id": "s_dfh5AitR4x"
      }
    },
    {
      "cell_type": "code",
      "source": [
        "!tts --model_name \"tts_models/multilingual/multi-dataset/your_tts\" --speaker_wav WAV_File_Here --text Text_Here --language_idx \"en\""
      ],
      "metadata": {
        "id": "-K2RxmLhsjAf"
      },
      "execution_count": null,
      "outputs": []
    },
    {
      "cell_type": "code",
      "source": [
        "!tts --model_name \"tts_models/en/vctk/vits\" --speaker_wav '/content/drive/MyDrive/Voice Cloning/Data_Files/Vox 1/wav/id10270/5r0dWxy17C8/00002.wav' --text \"Elusion is the act of successfully hiding or escaping from someone. Your cat's elusion makes it hard to find her when it's time to take her to the vet.\" --language_idx \"en\""
      ],
      "metadata": {
        "colab": {
          "base_uri": "https://localhost:8080/"
        },
        "id": "OPnCSUB0DbRX",
        "outputId": "193f53f0-cd47-495f-e5c3-ce813ea1eabd"
      },
      "execution_count": null,
      "outputs": [
        {
          "output_type": "stream",
          "name": "stdout",
          "text": [
            " > Downloading model to /root/.local/share/tts/tts_models--en--vctk--vits\n",
            " > Using model: vits\n",
            " > initialization of speaker-embedding layers.\n",
            " > Using Griffin-Lim as no vocoder model defined\n",
            " > Text: Elusion is the act of successfully hiding or escaping from someone. Your cat's elusion makes it hard to find her when it's time to take her to the vet.\n",
            " > Text splitted to sentences.\n",
            "['Elusion is the act of successfully hiding or escaping from someone.', \"Your cat's elusion makes it hard to find her when it's time to take her to the vet.\"]\n",
            "Traceback (most recent call last):\n",
            "  File \"/usr/local/bin/tts\", line 8, in <module>\n",
            "    sys.exit(main())\n",
            "  File \"/usr/local/lib/python3.7/dist-packages/TTS/bin/synthesize.py\", line 287, in main\n",
            "    wav = synthesizer.tts(args.text, args.speaker_idx, args.language_idx, args.speaker_wav)\n",
            "  File \"/usr/local/lib/python3.7/dist-packages/TTS/utils/synthesizer.py\", line 323, in tts\n",
            "    speaker_embedding = self.tts_model.speaker_manager.compute_d_vector_from_clip(speaker_wav)\n",
            "  File \"/usr/local/lib/python3.7/dist-packages/TTS/tts/utils/speakers.py\", line 287, in compute_d_vector_from_clip\n",
            "    d_vector = _compute(wf)\n",
            "  File \"/usr/local/lib/python3.7/dist-packages/TTS/tts/utils/speakers.py\", line 270, in _compute\n",
            "    waveform = self.speaker_encoder_ap.load_wav(wav_file, sr=self.speaker_encoder_ap.sample_rate)\n",
            "AttributeError: 'NoneType' object has no attribute 'load_wav'\n"
          ]
        }
      ]
    },
    {
      "cell_type": "code",
      "source": [
        "# Now listen to your clone sound\n",
        "from pydub import AudioSegment\n",
        "  \n",
        "sound = AudioSegment.from_wav('/content/tts_output.wav')\n",
        "sound"
      ],
      "metadata": {
        "id": "aQUGcQfmsjEQ",
        "colab": {
          "base_uri": "https://localhost:8080/",
          "height": 61
        },
        "outputId": "5a6b1dd1-0a40-41bd-f7c6-99ecfc4b6873"
      },
      "execution_count": null,
      "outputs": [
        {
          "output_type": "execute_result",
          "data": {
            "text/html": [
              "\n",
              "                    <audio controls>\n",
              "                        <source src=\"data:audio/mpeg;base64,SUQzBAAAAAAAI1RTU0UAAAAPAAADTGF2ZjU3LjgzLjEwMAAAAAAAAAAAAAAA//NYwAAAAAAAAAAAAEluZm8AAAAPAAAA3wAAXsgABQcJDA8RFBYZHB4gIiYoKi0wMjU3Oj0/QUNHSUtOUVNWWFteYGJlaGptb3J0d3l8f4GDhomLjpCTlpianqCipKeqrK+xtLe5u7/Bw8XIy83Q0tXY2tzg4uTm6ezu8fP2+fv9AAAAAExhdmM1Ny4xMAAAAAAAAAAAAAAAACQEUQAAAAAAAF7IlX2MjwAAAAAAAAAAAAAA//M4xAAQyF5MX0YYAAwAgKMIABAhGPZMmQIECBAgQIIJ2eTTB8PuiDB8Hwff4EBAEDnlAG/+XB8//8EAQDH9YPg+BDn/4IOrAgIHMENQJg+qstptIz2ez2ezGY0GgAZ9PkgO4fOtikE6czkx//M4xBsaamrqX49AAqBSIB6r/xSxHBBbfpxCY8RmWL+fh1H71VH/WmpytBrKf/X/9F2P6+rv5///fILu0PP5syzpT////qqeHqvpLmU2fMgX/z7mggm5LDBcXI3uu6tzsrHgjHgN+3BMmWFu//M4xBAYmk68AdgwAIMCRObi6jyWcbd65zCtdn8PuN2xt34+P7+U00949PNY0Pvhu/qPjJ7H3vZ6D598PS4yPHg9AWTXGuyCexH3fcfG//a/HxsZ/01vQox2/UQ6/ZKKsDa91tcTloDaNoEY//M4xAwXQlsKXjvEj0A1s6ZTpbgjYN1iU9awozK6t8WtConMpQVfZA6pVtSN+h3/KdiI/kb+709DlIUylcibssi7syN3SzK7HEjqGPE0ahsFPIkNfbfI4r3uIUfr64gIJTJiVklTC3fx/WdS//M4xA4YKa7afsPEXCYxEHTT+9bN4spcRmIU249KJIvKJMVqev2lgGDCgRs2y9Zy5ah6yKolU7gggGbnVTo3ucGMV/pTshGFNqeQKwDh0Jkj2Bkfri09U3/HJi60e79ViQJBV7qvo25eI0Gl//M4xAwYEdLrHnpGeHV6HuPYvNtSsjkYFQs/+UGipnSrTLSo0FksvUdKi015ZnDUuUjRmk/+f/us6XZk5FS+e7TibR4ohHMWwSvQAwsZvzVWFpCBP4PjigIXYneXJ5N5+hXQMpWiH1RBUYYd//M4xAoWgwriflhHPavabAuTU0WcG5sk6vTuIlsIvdbql9wmyRpIhD4jqGQtbMjrLGd1P/dTy6HJXyQ3bAsgOojnpjdyN3BDD8/IoTyFng7KdsUQRSXYDZKwcjNnhig3bKp/YhQCH1tq7www//M4xA8U4OrnHHoG5H9o/1YdF2wAWA1XcXEexbBrqNLNiLIBWy0phAdi7O1OCT+Rx8yzBEhZc/OidUCCkOlA3mklTvhMYsm8qRsHuQ1tQdX+pbBDr9rWQEVO/+pKjvZ5hV5MIgTb8OPWl6wA//M4xBoUQcraWsMEzCmEwlTVmBIAePvV27ZbMctiGfsLs/qMA2s0OCH9UbU5F0ISiqc7HIZNPatfTXTQeCQdkPf/yWmSEq5A3wXdoUChaGOdFlLV5KRnLdNYgFS5l1r9WZdGQJdNAJ/osSNx//M4xCgUiSLJlEYGNExSl9muRZQ/eEunAYFMkw1sXb2U+LhoTCR4iWIjyXHlA0DWvyX3Hf2/9yqAAvrq7CUb/W0pAM+OU25bAQ51XsonrcGrVXthjCyZh7zt9gPZazbotnpBxNW7gJSdn5Aw//M4xDQUwV65lMMGyN/jH9kHKUuSm9DA7ncYeDVGDRIJMe6eGmen+j9elpHQAr//jEAJrluxl2GtHxPs3BfO/Sh8rU9ewJFlmw8CkrIoZafsx8z5yzIv8yhMTQLDJRrUKB1q0DKWTe4cDoec//M4xEAT2RrRlkvGGrUgsVgZq3ur+Yp6//+C81XABkHWW3X4YEeE6+o1hH0DTKUwQ3Dth8mO0vOPjiQ55DvESvOenbfJpQlmsRrlAxBA6b6NIl7k7e9ieeaFCSm/MIuHWUkr0H+lzqTeR/////M4xE8UIe7WXmCG3HlFgAACvnvQOnc9bimhBpvRfC1h5V24aQD8CUyfxQIyqgxvviYdUOhr3E55V6fcTvDQ89gmPZ1/qVqy/r7r6pqgiMioTtdFXV9/mn0vSW/+p1GfIK625bbZLJHBGWs5//M4xF0UecrGNHjK1Lj4Wyat3PU6VT/10nnCf4crVp6YSZJhZompE0cgz//boRkTl/IqRBV5//XO///+qf//+rJZkX/9W9uhnL1AaIjmAYWGlG2puN63a22wQKthcPc9CSODz4VADDs307jL//M4xGoUKz7yXnhK/3bpdcWb3CI86b18WSK4Ijq+DZK4fuXl+DOw1MsIIQDGAg0IxBi6TYDQKOOOLhhhOWekXT3dvWv//+oupUSDI2245Av50m8iQRW2xluVDBh1DxmGZbbfBOzHWVpsDk1e//M4xHgVIUbyXnsGUs4gEfEwwz3OLitDHEy2zobkK2qFJowqMdxJDpQp4QRML9yoZFjU7xgYJbVxOuo4f0+7SJfw9kf1KiCLpcukWQsdECYnzh9ZB0T/6n7pXiq1YQpV4hvq02oDNA0qDJCA//M4xIIcofK9vMlY9CewIYJQbe62AmACdqcYylDCW7xnJdmMtUtpcESwSP4JHLxhZdaV50lajNfY5/bcc/2t92vL/Zxl9ubeUzBxdZZpG05++BiMklaVjJEP0SpzPikmPL2iMeUe9sgk0KTY//M4xG4gChbOfoPSdJgWBsCJC4WqyOn74oTqLpcXCaqRu1Xh3+rcko/XO4JvPZv+4szTNo8LcOFohqUulsopQNlNeetOGY4r6YJPR1ubry3PGxYdFx7VyWzsa6xapIkxN88ECPEQTW9sr9on//M4xEwe6e8GfsGHSnmEEEFiwH5cqlC+bc6T/rVc9UIuhlDBg+XmBkfXGDFABJwupVfcy4P5+bsFxYFAjbiKZLJGQHXq1/OWI9J4b/V1mI0/Orhkz9m9nVMz8vIq6RWaVR5NBikstkE0ADCi//M4xC8d8cbSWsMHEHlwuESJ6pzQd1bmLXFdf23xdMN6pFEHXZYV23kIe0GjcIkqwBmoDBfo1fZxMTV1R8UEYqZDznvRdv3k7iN5JEmmzoVrOxTNSSXB3gYAtxlGqtESwM/On5ELXPwFcQBA//M4xBYU0ZrNlGDE9FUoaTmF0LIBGvhQEGWqrnnSMvMS0vNjy/rbNszwCAjkNS0wpvb4UNbJbWdtc6eqH1vKPTFRuOt+W/XIi2WVFMAbvfuOhjkjktPSZ5PBrR2WO8OiFDo7HUjOG6XV7oTm//M4xCEVOUa5t0YwAHInSd8/nG+zn/zO3bZw43NS9ajqCxJQdBo8+Lj6xWbajjj19JTFCbQ4dUWDtgrX+/7PSlDcJyXEUfElKsI/B57stIQaB0CXoGgQB2JQ/Ho1RJBZL/VzU4wsaMqZnReP//M4xCseK360AY9AAKNORRYPIq5G19zXiLnsWRFWt6x8Ty/130Oua56tru+v//m1caUOiw8tEKZpqotlQrjruev/9ZcUg8eOpbPruamup7i5Wq//////8ZX/VQiATSaUNdvYzAwRV+NehgNQ//M4xBEVSaq9ldgQAOcuDnZuwCrQy2dpt7lV/8cNly1aHEOGOY5DGWYqDtiQZjHEmDKVnZFLzGur/5fNNd1CjCUKlmgTou392qpS1U/6VbrlKgiJuShGA6IdwEg/OHqoCoLWFziQhYYeZDtW//M4xBoa8zq1lEDTPM2nUON42iVTRDI+n2ZLf9yM03ANzJCieuY02zz+8u/n/5fKe/+6PlLF6ecLBz0/svLCvvKaF8rLbe54KObn/C6ikgsjfXTUwuTt4QCQQGGC60ZFhndIZm0tvMFmWRiw//M4xA0YG0LTHDBHWElfBugyDSRc19IpveZvt6d/6xm0xmf8QUPIwA/jhQCRoJEgQCCKLJJBSVycqNDYSN+xuXkp+ZDZ/Sy9qeZglNPupHZ51zKsZqaVyVO0IJMwwGeIla7djbbo5OAVnhAM//M4xAsU6R7aXFvGMAAgCMIQxF8C8AMEauiWKglCjZ6c5Q4skQnMztOEkKmiRF0kN9ERCLzeGEUHAAx9pBjOKMNorrCBwv7qPfpvN1qXu+K9vIy1EKrbbXb7a3UCgR7L8es+LL4y6lzbcCtV//M4xBYTyTceXsJGxqXrhmU20hQ52d9p+Dr2/uIUUPJBWZnQhXpIc9Aj//YtvAYk/xhyigWEgnIFIqBz4FaKoHDtv///9VXAAPSVJuNwOPq54Jh2X1tUcjcxi1kJQDIoSVVc11GUwLZuATHD//M4xCUVMTbFvmJGpDElD7Sh/m3nrP9VVehQpA7DQlnmZYSvLIcJoKlSsqGmf/87UHNJb2M0LZLKYFAKVZJI3NtbJIAAmeT0ghsHqtoy4y9XF3D7AUGWCIrIIk+UALSOwYSCcBhl84q+VHTw//M4xC8UCR72XjGZAq5sDQpoINEqoS3uHMD6sln4pcIAfUGXqDEQdDikP3yd9Crbf7f/W3f7cFKKR2LtuylMUM+5nZja21s73zWv+fxWyJlP/y58jXgdHcMkf1RQ45ZiQaLv8/z8s+XHW1f///M4xD0Ty0cmXhBRPtRo25HR6OKFkKpZhbEATEQkfFU1hmVYZmrbUAJlsLdgU4LM5Uyt8syZYiR84F2ZJIbAjAY9BnJsSYgzkgdGEhZ5sPgNRIBniiExRBCqm+142q56Zj/3im3hNLHm1IaY//M4xEwU0N7LHDBG5BosFA05R0WVZ6ydeGiNZ8xB1OGCSBAxYy6g5wAeDbAxnmLOCnAP1QYAGQhgk4uZczTVQ8EQiINJ8mmWmUge68g/fDQhER+9tGtBDLKgRvWnhxL3F2UOxGblZtWSSSSS//M4xFcUkR7zGEvMNEbkFQjjgPZ0qFXRtqUnh1KJmZngQwTMHKlfyRj1CxTVpRcKl9PqicMgmjmOAC8qtTAjanCAQiy8OBJDhIrRYXJ2sHfhubC/LSb0I3CSa0dpvKRSlGdUu86uO0ODf+Yo//M4xGMU8ScOWBvMP5+XnX3teLWNFz4AwVCr3sPLsWmLGz2Av7pK4DNOtXEk3lQLkU4ECTnssOXzxq0UJPa2XAuTCUJB2UALr//2f//V26GFFVIpEBWk2JBHAJGk9oDMJj6Q4rw3BjWziiYE//M4xG4U0T7aMnoPIMnJWMgSiYZNjIGrR4rG3eXReXw0za0omFIpKgqzUoBKULMw1sekqhYlBXqDn2b8AYidXS/06XxuL5laGSUoUJ1pTCvClOc1axWaucQmKSNDh6hQs4vFrGhS438b3piM//M4xHkVKQbFTHqM6MtTfsMGWuesnFpSieWeSH3Moebea3nnP/9f7r3nzO25S7meEUm4Tp+5qUnrMMUS3zvo2JQ/liCkEGF2HkcmE3HGVLUerBgTIVQ2Orm19ptv9vrZI9AtMfNLBtOPJYQh//M4xIMcc0a4SnjTPAyUCc1Zu30YqNzS/GlfRsmzmwoSZaOy0aySCe1kUvEsPb/VWRdTY3Ly6xwDEH8pa5SzqR170jszO3lvqccGSIb5Cc+kWE77pdLG29QWFpiloQfIVRBsPRNK1UB9jZpt//M4xHAVgyLWXDBHPVSpcljdaQFLGXMdNtGCkeLGniWx4qE5HIViKkq0aEiryxEC2rVxdKgangFPZ6t2qhMOxKs7yx4sHVgrfyTiU8wJpDAko7hCnhNW7RpWoDuX3TdrGKgyTLZiJRErtYkX//M4xHkVOPbKWjGGcAbOZA9p0uMnhWqu9gDa9GLxY7SoN6mlnkmpaZeXIgXaeOi6VxXTU28srclrclW5ummQAIm43TBBITceyOHAUUSOr0h5CZrkRMJZ/gBYmEGc0d2JHPRMjCU6yw2ZU0rF//M4xIMVQVKpskmGcEtrEPDGqrKYziMaenCC5daXgoYNMhdY1noxa5mkVQTtbV9P379SlU69ddW5Q3AB+tc4FEES0qS1sq2BCKHhZItVFEQvDTHThJR4Ig8ARTthEGdTcOv8IwoSHwZ7OSkc//M4xI0VEUa5nDMGFBJyuLAsPP86c+KqbW/PSg+sjFWUM//5TJ/+uAhbSgCKMUQUoFYz5rOIBU5SF+xVnzJBV02Fn2pEHlAI0wQliwA6B2ve2D5Z763VroPpQ1Pqblz9INXDi3TwmOSOl31f//M4xJcVaKruXsawhk5DZ/oqNq3f/nLEf/6hesIVjIrpONEwz13+LuC1VU3qK4alr7Pkvxek1a65JpivxAP7VxUv/rNzv5dulLxl4q1IMwRKwwfZ28WAdo2CDwPHjC9NNEhGBi6Bi9EPruzp//M4xKAUWO66XMsGzMQkJzz5EGZzv/ppa84wIJReIP+v6HLVxTZZ4h/tX/jlLD+RORn4+cFOE5fW1yEdFAqZPkq3mMMQFJzG0bCdadklesqJnltUbqG7n97+Cl9urjoaKnmMqhhA/e1FBo/l//M4xK0ZEdLVnHpG9rivmLTRhwqKGHm0iV6Gf879P37NkU/SgAAM2koeUL1k+w+Ratbw8HKUvznZVHjv9PpykSuWdMo6j8waUNiu6KXe9n0ZTuumTIy35N9WMu7GWt6KtUe7tTa4CMCZE+wJ//M4xKcXuc7afHrQ5JywZ2rvX//7b9SJKkIEK+kRDCRZbGKgvZpSTjU4+WxD2WaakaK9qr6HVUrDx4sUc/N+q+SCYsVyytrGOY3PF49vo2UMJg9JYeASyAxnqo70pPRrcrrtb9JDJW9m1Ds7//M4xKcU4crKUnmFBPUilchNatFpGKXoyn+parKGoRXAKCMCRihLSYjAvNaSa2zLMJ1kcpD3kPBYWaXJELPmrIkD45T1FT6xMUFY6ExgnaaMxaaSOyzVLCphYZLIxV75NQWU0NSI5oaagCrF//M4xLIZWk7KPFsE8IRkaFN7vX9slqrdLOjVuT00QIWqJh/aSVchoAco1syidh2ol3K4wBNaeqXKZaDo0WXNAgJ6mP4RDJuWZ0lmzMW4dvM9mwIz3MrZx5c/KGJR1RNq3mS5AQ3sFDsUJ5NJ//M4xKsWYQbFdEmSXDEcsQR5IpJ//3JFZhTnYmbQij0zcU9uOCvr/0zxJqz+OSxBozi92/FrLEy3W28m+vm7UXqfF3ANsgzqNBgyqLdf3jMpahMCuzqJh1nxqeDCjoygyXsP9W6n+ct5zSmQ//M4xLAYePbaVn4YbOPF2lxehM/axbqVvTd16/3WxTQKTT0Vx77kzVIQQq8JA+BTguGPHgCvAvI82sm0TlXp9VJEzpt1qniupnXgqHvu57RR7a0Kz/dOsjxj8RHYlDcs2HXQk6Tc8VrJ1rUu//M4xK0ZGcL6VsPKlvMMW30NK3KHIVb7e65/Ll5eSQtarbjaktrbclHgT+g5iGa9bGCFxEeYeDqCNlGEh7XuKxt0SIv9nCeG0KOdDUcrYYe6IaX//UrGeonMfdjqk5B3TJNgcVLjrN3rer////M4xKcW6NbifgvYHJGwlp3PGPe2xMaDuiAGRB4cvBEgHjbelGBHDRiwKnOS4VrhiRDr/fzeb/rjGP/K8zTcJxl7XaFicUO2u753r9mCeCbgCYKLKxTZPRP/tQrFdv+/Yaudc+lAyFI3ASoH//M4xKoUsaL+XnoEssssdRtXSFmr8QRBZA2V2H6ekYG4YpUrmfo8Zt14sPLfQcM3aEPn4ikPn4UQJC0G3HpG8q/tQeO1wK4GTvb1u/vktL//u9mxpFtdZhzlrkstoFBnC3jALJHsbKUE6rxb//M4xLYUAe7FvHhHUFIkEuc79sNAeyfd3TClc43YFIAv7gZpmHjYdNio8mBw+Bw8E4kDNWaaJwLEoYNHhooRIEGuZ7HdL/////1y5BVmqBRuJuTPHl9+wdaHIQo6DvSrqKyd25s7npTGS7Xq//M4xMUUKLa1tsPMpPKI8TE8rZ9iUtOpWE/ELQ5tjnKGmcLulGNnesPxAInvZI1OowOah8VYK1vt2Hv6t////+6pQYgg9WQQur/K5iI5kR3WS1FoNNcepbHKOfL7tAwISFLqT+BazQ8cG4DC//M4xNMVELbqXlvGVrPwsmLmdc5HAboD/KTKKjC4Jx4D8/94Oz447GljlJ1Zt5yrFRIkHxcuoVLqLZxl7iDCCTcqmY//+q1OibVEgI2okNSIfEB4ykI3nVa2GBqSqXTpd54iB4oGQBTa1Srr//M4xN0U8M7eXH4ewsofNvAs3VxKegs39yMlkLBbJ44XMOkXQZl14we1L1WM0I2sXOlpg9FLT5yaFXfTdC8vTSuZ8R79srm7i3leZoIIy0AHNPr8+KBgbvD3MAQImaIDFwAEKgCBqgrjyZ7T//M4xOgZoVq2FMFY5GApnVUyEwbVpNDiWpSNfZa5BE0E0wgJkgCowEkaiJrJhIcomRDWPZhIGupzKz4VYefmfyF5D3W1cavYpylXTqbtfU/W/2raJdl+sdjYerTYZnFzCNq0ptIUCNtsQWsX//M4xOAeCza1bMIGvZIk9VmiMBWJKFh9cLk+1Zvqr/9o7uEMA8jBZNAxjDSIDVyKVUEDOqHtqMrBg7EAiGy2ZoylVT2y124991hcKZRv5StKwzzKn80kqXqt2Ax2az2GtpWuwOnVVds93aS0//M4xMYdS0a5jEhS/PTqwafW4SelsakgyDowgqKzcEaNGo4jP9QNiDpnklyxkQdMnRAamRkaCyNUdHlb485WP638YsqT13QGlHPOQwxSZ63qMHoJx4ko6V8xS0CZaetJkMeFv////UyonVgm//M4xK8VOdrSXEJGCDNNySkj0Lq0sajyAQIQ4z9NZh1KgdYGhyXM61I3MMPIMDtkOGyzdu9oHJ5O5Zm7ES03bvo8a2//+X8/X3GNTCQYct3iXLzI5UCCJRQbMB+Hxez/7P/PU/lFskkc21sT//M4xLkV6d7RvEjM9HaBe7Y/S8FK9d+INYHUt5Wr16F1Hm/7c8bmW+jc1n4IO3HkWN3HqTzo9mZfRU9U97felUX4VEqQ+LPcW9n58eWUDR51TxLoRsfjr1PklYQA99vXLdxS024A+id1ogsB//M4xMAWoeLW+sGGwKExCzbKRyWdh6WUCjGewpRB7Mx+bS3Ujq+x+TlUZZ8PQzNSgIxLrOiWWeJRpgSzrVnb2Ps+G51lv+xetzw137dCkstm322222EkIOcgARxn6ACwSeZTCvfIKygb1Law//M4xMQU0ZsKXsGEzs4pTB3Syvy15WMneJp0+3L7ePqfpQYgACQoVPjmBNhhjzAbF2jUDXPIc26KXG26uu/dzvxGabVddMvV6FrGhIYxIJELmlyQuQdFwdwEFgoRAOWCB4RypDK4cjzEIzlq//M4xM8UaVbNvnpGMJQ4rG52Tz2VpSOa91PtWf/rTsUx12erHN5n/mco3mRv247vhSJiU5VsgfVJV9EYJjMGhdEtebnCGek/gnHc7Buf0ZJYOeKC7nGREDnD4fvznOJw+rlD489nfoNfV9LJ//M4xNwVGV72XjGGUiP0WQe0bsjRHl4w+R3VgRgzk1wVcBgzT8XY4GHVlYOsJCuYT6QgxIFNZOq+XPwEKvDgRtSMpUCJpPfe72+70///rQCFKjlKixUUkjdVKRFoGkYZWAZGG6n/63RQGpbU//M4xOYlItqgAMsK/a0atLLbZBLQX1dMvbRNylvjtQ4S9KxjbFYLTENWMIuEoJPqA5oVSu7+tXQHhZLosWFDM6gKXnEipx1RkLD1uFHkRRZnvcSPf/9P/5tbLW9wqvVVB+66stZW/tHJLey+//M4xLAUOdbSXHiS+F6jpnUGGeapQqZNHg44iEIWHpfFCFnKqyJn2BS8ZRBDSQfKFzIpKIB9bHKFijYoImLFwCp6WCM4w0Ekbpzo+iTpzf+9G1fjlRmQAZSKk0RkhM9CFRWkOtR4TobVE7AJ//M4xL4UiMrqXnnQwgyuSR6f3ufy8JTshoWeVPS8JGJCKfwg7sj3rGkfzLOnVan2AzR0CI845/uOwwQxIvTWA86VnvPT5/9X/21/wv3n+++rCn4q6bmUIIDJQQ4gGwsbax4tEK4I0hg3seK0//M4xMoU0MKsVMJGqDNizhruC/tAQjx8nejmsy3q6WIsknOKZEDD59xggxKlrSNCpI0cXWWSNeXFhxdRJx1qFCytOxv3WMiz8ymLC1dVlpTa6FuXAATf0tVuRkEYamoAYd+3ALKF9UXEj4Ia//M4xNUXWgKo9EmGacRVzXmc1U7ruRJY5QjZvckmTwZt7kb8WV7ovLI5iAxA5aNsH7CtiKk+o8KPuSmH9K9iQoAYYn43Rdq0nZgOW1psC7ZkEnYLSb2sA30qop7qVr+0tbtOAt/6vP5hLdwu//M4xNYV+Tq48hpHRDam2qt7hJGegdVi2GvPzyY8oawsEo+HAne9LlEKhcRCsqQFEhseCSixnu+llX93vfW+01WHBBWbSy+2USK9juUYt0MSVTH+Vm3amBprYTB5rKgkZUZ44lq7KxlRK312//M4xN0UKPbe/sJE5MlYhyUMPmUwvw/+G2VUqpiTMAgsoewcg2wFwyAzRRx96XJ0OjHwyoBi58LBF6z7G5NFe/qnyCoAAxb0kpbeNbWxAqAVRNiqaUrZtQ/se35+//L8rEsNWYowjh98yJy8//M4xOsYGV66NsGG7O30MonofuanvlcnhdPv3vmljA+EJaIB04NiNulZml52Nz8C7fCeVeLLEsR0+r2BvVKHoWwRE/eHIxznOcj5teNinZZFYc7FLqNCQtXvhCDUQRBDoaGtnJAYJjxlSLWL//M4xOkYSVrGXnpGbIMjErBwLZCFWTgnBYlAf4uYhERlOxGNjhUuh5uVSw01AHIQf3kTBr5Pk/NY0mrJ79npsz3mNXV1IyUFmUJv/by1LmWzGt00z/I/MimXCysS1yz/uZEs9KZEZNzQZTLU//M4xOYn20a6PmDe/PU8oVbHHNeAgxLZkfNqVtlJshF544K5VgXoz8QTkaUSEiFTJFB5MqJr4eB6Xg6VCHJZTJWaS27fbSTQOYMOSpCvW9ql9ThZkhKKj+iEEdRmrAB2SGDeF1jV447Gkh8I//M4xKUeY0K5lDDZPDhAYuUFA9QohkNmZdHk9u6x8g/39OtlDqBa9anILrG2rIqNZApRq2PBIZP6NKAnA+WwGLUZIPOs+3SBBmHjzMIKjL5BFmMLuQEjr5oliJoQsVAwWYJ4KJD8TA50Ttsl//M4xIoTKRbWXDDE0KDyjNJEWrRThQXGP+7lf+V0MXeieIlh1bbft//9tbgBetfKI+KlmVzDMXAM2gNTFlrkLoVCps47PRU5nmMMctdLzytQBZMQfqC25sgU2cGKLQTkaa1Jrsfcxu7H10OU//M4xJwVGTLSXGGGkPqqRQBI9kLSoGdlUTHmrbqO3u9wwwXymU1p/ApBTgGGLm9grmlNAbrVwoAIAqRODA4nJ98ialCoVdogBYw+1lCIwlFbJgUWE05oBR7QJIkXwzWz8FBgry5aJFgNBUsP//M4xKYb4SMaXn4SfhmAgiJThIBqCknem+v3CUYRGXpw7d2CUShr///6EkXiiGSlzb7fcDEzE/S4DhBNlaQgAeIQDikcXBD78MICVux+nx320Cm3qKY5Mtn6txyS0oEribA6WAg54TIurZXl//M4xJUVMNLOPnsMZEjI5Te9ik0LaluccnQj83t/kEIASpGmIJbzZI0OMnR5nUdxG1a4wrkaUUfdEk9iyR0QjtScQTn1ZGaeRwT2Y8c3lhkZhfuoRddagxBAsOYnPMus9EEXigrKmmWrQ+ou//M4xJ8UgQLaXmGGcHUHFf///LJqqJpOKWySUWiVuuiHHmrR/yDyvKx7FeyxYIWvkOr/Kb7FWnYGs1awctdkm19ecU6zp30pWDB0YYoEEirRRqJ7rRvqIxtGSXcvazZ/r6vQ9Uq8aK0KxVZh//M4xKwU6SbB/nmE7LNGEEgb6VS1RwlkitDVB+ABFt0p2DVZjuPOuMolRIdJM7NKRJ7VpElQJB8RBMkZtN0yg5BqhIqxiSMAoXgK7UniC3qo+5ydOMnU9vRtCeV1WahNsw3kKU6FMR7HTwki//M4xLcU6T7qXnoGnkirjYKZaBG0KkMi9JUpMS6X8qRVorCYUBMX/d/c8w5KLa0KCAeo0ZF33IACCWLOzFC+46x9Lk1OdZ0NM7o6PdWYgoUxoCoiw8ZGBUDwFG0KJdCw0gQJMkgd0QhgRQcc//M4xMIUQPKcKsMKbI4avkTGROS5AT4CLB6Ey1UmS9lrPrBiQEMLCQ00N0GcqedKlcpsDn4o6yV7fT1exryyoEIg0DgMRE8QSAySnB5d2Mj+YocsgIetQSjHMi7zNudaqi7MIyQhFWqLBxjz//M4xNAUwU6k1HmGbDTiUMYnp7jB13N8/LzkM82L+865wWWSEHnVlXueLPYyYQ1rdhJVD01W66TBdTgtlhDZERLlkwAmEYMnJE1ElRNI3lomowOc76jKirJckmqhsNYupOAooC2RowZc8VQR//M4xNwT6VqUKkjE1M1nw8EAk0upSkxnzzhqvf7LNj+N0j6eX4Vw1x4NLFUIAq3FSJ1ZV28kSoKyyn9NFTQj+EKEyQpDgpzQZZHO8nHkiSUyaRY10ZBUXw4llbKqqgNEqsarxqWFKrSjfAIC//M4xOsXQcqMMkmGlAqA0WNBQCjQVdIkhEExFhoOw0dWCrlLiJQFUa1qAsieJNsET4dKgrhpmdkcRcOqZWsqOMRJGigMCPIJjiIoSBAZhNBEkacWUeYmkRONKLMtBEkacWUfCaUnFlFgYgJp//M4xO0XmhaAIEmGWIYlKVphqBNNIGlppp//////1TTSqE00w1CtNIlammyn029/aUxBTUUzLjEwMKqqqqqqqqqqqqqqqqqqqqqqqqqqqqqqqqqqqqqqqqqqqqqqqqqqqqqqqqqqqqqqqqqq//M4xO0XWSpQCHmGPKqqqqqqqqqqqqqqqqqqqqqqqqqqqqqqqqqqqqqqqkxBTUUzLjEwMKqqqqqqqqqqqqqqqqqqqqqqqqqqqqqqqqqqqqqqqqqqqqqqqqqqqqqqqqqqqqqqqqqqqqqqqqqq//M4xO4VAPEQABmMRaqqqqqqqqqqqqqqqqqqqqqqqqqqqqqqqqqqqqqqqkxBTUUzLjEwMKqqqqqqqqqqqqqqqqqqqqqqqqqqqqqqqqqqqqqqqqqqqqqqqqqqqqqqqqqqqqqqqqqqqqqqqqqq//M4xKAAAANIAAAAAKqqqqqqqqqqqqqqqqqqqqqqqqqqqqqqqqqqqqqqqkxBTUUzLjEwMKqqqqqqqqqqqqqqqqqqqqqqqqqqqqqqqqqqqqqqqqqqqqqqqqqqqqqqqqqqqqqqqqqqqqqqqqqq//M4xKAAAANIAAAAAKqqqqqqqqqqqqqqqqqqqqqqqqqqqqqqqqqqqqqqqkxBTUUzLjEwMKqqqqqqqqqqqqqqqqqqqqqqqqqqqqqqqqqqqqqqqqqqqqqqqqqqqqqqqqqqqqqqqqqqqqqqqqqq//M4xKAAAANIAAAAAKqqqqqqqqqqqqqqqqqqqqqqqqqqqqqqqqqqqqqqqkxBTUUzLjEwMKqqqqqqqqqqqqqqqqqqqqqqqqqqqqqqqqqqqqqqqqqqqqqqqqqqqqqqqqqqqqqqqqqqqqqqqqqq//M4xKAAAANIAAAAAKqqqqqqqqqqqqqqqqqqqqqqqqqqqqqqqqqqqqqqqkxBTUUzLjEwMKqqqqqqqqqqqqqqqqqqqqqqqqqqqqqqqqqqqqqqqqqqqqqqqqqqqqqqqqqqqqqqqqqqqqqqqqqq//M4xKAAAANIAAAAAKqqqqqqqqqqqqqqqqqqqqqqqqqqqqqqqqqqqqqqqkxBTUUzLjEwMKqqqqqqqqqqqqqqqqqqqqqqqqqqqqqqqqqqqqqqqqqqqqqqqqqqqqqqqqqqqqqqqqqqqqqqqqqq//M4xKAAAANIAAAAAKqqqqqqqqqqqqqqqqqqqqqqqqqqqqqqqqqqqqqqqkxBTUUzLjEwMKqqqqqqqqqqqqqqqqqqqqqqqqqqqqqqqqqqqqqqqqqqqqqqqqqqqqqqqqqqqqqqqqqqqqqqqqqq//M4xKAAAANIAAAAAKqqqqqqqqqqqqqqqqqqqqqqqqqqqqqqqqqqqqqqqkxBTUUzLjEwMKqqqqqqqqqqqqqqqqqqqqqqqqqqqqqqqqqqqqqqqqqqqqqqqqqqqqqqqqqqqqqqqqqqqqqqqqqq//M4xKAAAANIAAAAAKqqqqqqqqqqqqqqqqqqqqqqqqqqqqqqqqqqqqqqqkxBTUUzLjEwMKqqqqqqqqqqqqqqqqqqqqqqqqqqqqqqqqqqqqqqqqqqqqqqqqqqqqqqqqqqqqqqqqqqqqqqqqqq//M4xKAAAANIAAAAAKqqqqqqqqqqqqqqqqqqqqqqqqqqqqqqqqqqqqqqqkxBTUUzLjEwMKqqqqqqqqqqqqqqqqqqqqqqqqqqqqqqqqqqqqqqqqqqqqqqqqqqqqqqqqqqqqqqqqqqqqqqqqqq//M4xKAAAANIAAAAAKqqqqqqqqqqqqqqqqqqqqqqqqqqqqqqqqqqqqqqqkxBTUUzLjEwMKqqqqqqqqqqqqqqqqqqqqqqqqqqqqqqqqqqqqqqqqqqqqqqqqqqqqqqqqqqqqqqqqqqqqqqqqqq//M4xKAAAANIAAAAAKqqqqqqqqqqqqqqqqqqqqqqqqqqqqqqqqqqqqqqqkxBTUUzLjEwMKqqqqqqqqqqqqqqqqqqqqqqqqqqqqqqqqqqqqqqqqqqqqqqqqqqqqqqqqqqqqqqqqqqqqqqqqqq//M4xKAAAANIAAAAAKqqqqqqqqqqqqqqqqqqqqqqqqqqqqqqqqqqqqqqqigJKtqAf+iJUJwN0ABFACDgYuAAARBB7vTCEeIjHPTYmmYQQc9PT7aCGXd///xnjP//2vWiPd+7/aIx4w8mmwIQ//M4xKAAAANIAAAAAJIIOTT2IjfEQ56bE02IIY933u9ggg5DDyabECGGQ93rRn////73fiIchh5NNiBDDCIe0Ir9O29x/ECsc+BH5fktr/HnokhgUxrEUfi6Rgq4DobmMvqDaEBF8Tq73MTh//M4xKAAAANIAAAAAFE8mBcAvY5TEe7/JxPUbpuCRibBuCEEtGD/uydRoxJiWD3ExGDKZp/zI8UTY1MTZBBQmAsCAUDhAEzKP/2WpA3NFmRqUUjMxJMmEQjOXS8sxJYoCc//9KX0jRaTF0+1//M4xP8dIvmM90MwAWXzEpjCGRQHuTT5QOnS0lzRA3///zdD//9EvxM0LM0hIwCHIWThDx9AZAJdSUFuCDCng3jgIEg+uaBIVGxObwjRmSVUTHy6k6UhFlnbTRR2Dd5U28RIkV2hLEJSKxtG//M4xOkpO85UAZhoAEbcMzNghnc5tG43NbqVOmDf5O2KirKSplDDCnadOQpUfV0wo6bDFkmLRjV7vaaY1AxUkP/dRLFtiaMk73Nwb3PRMlKzn1SBlvx1NB1YncdSxc1J+/+Bf+EVMKjpoW11//M4xKMnIyZ8AY9IAFSCjE76sOIqVMcBwoFDSVkcI4xWTrNVMyIsgryH5NyV0GBqp9nZtyLRSj6hXShe/0gjexhNuspOs2shNuXnuKR1NeVzIGFRWWA2CZowjICr1AuiVDa4rRz4UPVKyCJQ//M4xGUmEuqQI9pIAYQwKHE6lqMMRtG2j2GY5dub4L3vXFcu2muuzFS/UfKaWevWRncM3J/W9jSvlhD+KZgIVpWMMcLTSNL/I1cqdxeMyFanZt13/egRDgZbdyT/Bjyfv2yMWZ1WB0/6+xEZ//M4xCsfambGXMJM3L1hK1wN7UfpQxufKIMj/dGKn/yjs9UqK9j15TDbNqJaQGzEpkCMcqcKyR8tyaBOt2vgTi7Tm0pbSG4fasY+03rO6r7SnwXAjjtkot1k2UqudmNCcMNd+1jTcgFc73k7//M4xAwYMXr2XnsRIgZWPPVdvxjWSrMkZlcQ3bvESASwUCknu0LsmkSLlvjEhI12YUfBQqekwkJRZbFh1R2Qfx8CQdUVuRfzDHTX2VbZOWeeuI5ZG/0PQlaYVHJIM/ULeG6QJTvVF2z4Wh+l//M4xAoXQSLNvmHG5AngCoGz5yyVT2WXS6BU1aeyD1wdmFQEt5w2HEjaqMGONGDcCqq/8b+MGO1nXwaJFhK7OhJLGmZE8wqCpZZ6/Ow0VeIvnl8RAsJSVxl5auPQsJLuIYB5EJJXDmIEiuPZ//M4xAwYUZaUVUwYAKrYIk6okDNDWnIoFZJHBEwdLlPLEIUikOIRgggMAh24YfgWnTL9fVStNiRqZ3EVdAv+TMtl7gg2E3wgKCACG22jTw0si5SgXYq3cSH1LT78V3YssmRqLHIiuZFNwMJR//M4xAkXmk7MAYNAAC/UC5g+//hHflf/xSd79mn/9qP2FF+aj6r80QjRFIQG18ISHozu//wqcJyDRKVI6MahTHD4+///w7YqUHNKo8OTlghd/hIDgSIIEFQ2iHgSNN/93/M1SGU0vuQKMn6u//M4xAkUkI7e1dkwAHqPo+mV0oag7CozSUQUAdF3Xin5U9LbLci2N6Y8Bxs5ZOjI0eBS4IGYnJH63wwXSjEDAIh9qxcrTxMkAGWqQvp3dy+T7v/9vbrVwAC+JJSthLvTcqG3bPnB+Y0+jZ2B//M4xBUVOSrZnmGGxBCl1L0aCpeWLRJeOgYVqVbMlyZsvZmpbH2moYKpEGqyyw0W0LO1zzIieJllgKGsNKRdmysYw7KrAS//1nXiVlINxty26W6RMNRLoFE+2m1aK/BsmDqD7a+YZ5kNnog9//M4xB8VCdrOXhmGGMXTOLpsaHGr/3b/jRMzIghw/aLDUkOU3qNp0jJS5ZPYRKa9lCN0gxGD+xnrUt95EQOz40UP1XbbZLbZZPsnZ5EhPHhaMopobWgroFhHpknTmwjEEHNXY4aizIgFzEKc//M4xCkVAzLuXEjEvpzpgrfPSIFqZGGQx4d+lG5b78mevScYm///P02tX97y73r/t/p/60PxBJBFwEuxuuTQFdP0CFkJxHEQSD0nRDLTGFk4Mp9t0/Bny7fb7R73d+5hMnya2g+WJnPSOCw4//M4xDQUaQ7SXDMMJPFaCsa7ChUso3OtCEUFCous5Ymi89/7KFf/1yD8si5K264ja3ABTY7ytLXJZ1cSqAWUtMNwACpI+uq0BVNFlE1YKD0Ilm5YJ4M7RKuR/rSZY0G540lQSgkcpKw0RV0i//M4xEEU0ObOXspMwJFXKSsNNVr/UkJK8n/4CfAQ+mqttSWtNyTwF6OlEu5o6gpjSZDayaII2u/YWy3PwA2dpzxKLBIThV8GsSQW9/4UiJQeKH3QjoRVScyP+l01btIq9ntSqNox53upCEQO//M4xEwUocbiXMPKjjlgv3/b/qq+d+b/XbbAAP7a3LIEBcvHdJeIM/CXVrISQcf8hi6LbtG5sTEHyz/hKa5hIu+5oIQiFWjKDQvfofX/L3/T//L3/KJ/LQOustwkeTKMLCsRgNtlCogxxaIe//M4xFgUwdsSXnrQtoaKgAIk70BrgGpKoxGsBBA/JjoIkNaLna9x1s3vScA1dvMpwnG1O/nxJr+ggGrzm+hn4gKimtSe7fPvz0nKRtWZWnGQ0FmteH0CjfolxTIVsSTe+1kilsB2vgKQM18F//M4xGQVGdLOfosK6ACcXT6CR70yetVaDSo2i/lrecKcEi+H/5FI5iLLM5klmJFdvzr/9cgNjm9k4PmbocSgMQbonwdnQp3+d5GyYSFnVk3ilOSRIlqI1K4hlwNT+7YqhL534Fjg+NZl98sm//M4xG4UcwcGXlhFPgCSGMgCDgZQOEQojQ+X64GaM3mf+udytoS1btHM9xK2yVdzkqLJLgEJit7CxbXh6rvFQ4aXJVqoDqkZ20jTkoYK6+Axilx/kmYpbhBtYWcCqH4plmAWNwpZyQyFkGuX//M4xHsUqe7hvHhE/mANTOnZ3RjpVv+ZdMQbhmgMh1QdC/qp9yRYtUwKuzu7W1BvuVZ/q+zXgAEJbqzadEw2R8WFZUsEGw0TFRXGceACFIoPNQSJcB4S8TBi/2URPRn+O6Tmv5LuvY8OcYl///M4xIcUOT7WfnoGyJ9I3Ry688vKd89qW2ohzqDzqsj46zVp+N0KhhisccjkklBj+H6guQMLTHvcIMRzXnaIJ+MxVvz+MhCvv2vD1Y2XZ37Nv4yltBS5xOcmDUNjmzeJEGBCcNrO2CkYOYPc//M4xJUT2cKoaMpGxNaLz0WZ3Jb71+6nudcnyy6FyNVgiiyVxt228DCytZFgahdim9ooq9E9rDp9jj1MhhiJwEH4crOgJF82ojmWuKvNvHctMK5hz1Z5jzZdGOAhMyOD4CKMo0PPZcAGhR0m//M4xKQVyQbeXnpG5tVIxxx1q8C5nrr3vRNOalDdQ8UFRZXaWJrSn329mqQoXjNbOGREaJNQ7KKNygQwcpSGLxSuVrKahlnU7AENOn9A2eLfolN/yeZV3pfUK39fFh+pe7GS2nPlMbCx/91M//M4xKsYUPbCXjYQFEztvqEYLO+idGfv3kzjgPK6dn7Tkysk4ixg8hBMf8xYQFpEJZwdO3vSGX+xCPjFoYTZz72O93UfxrQ3MzL91kX+YuJ7lI3xkYjgCsrAABx6NNB8zLtQjIFDsmcGuCtu//M4xKglGuq0VMsM/WE6FqgRutJBEY0aHBJII7zIcgK2/Bpw6ozSq5gWIr4Z/4i652j+ou+clWz2xHYnBnviJPZ5EkX3zFA8Fji0gUXbMTVmni2nVGLYhPFfq+okWNv7pEj2rSndHHbHf+////M4xHIf4irFtJIe9fnfncqPsYIbg2Hg512aOABBaIAARe7OR2NQWNWle+UiT6aVu7WeNsCxt890Bl7Cn8M/QKVOo18EYqat6l//1aqTqIWftLToRs80maoD1AXHhc45ckKFrCuS17//Xqr7//M4xFEUedbCPMCG2B8FueJSl2A9qcG3H0aYdhSAKgQiSY2N8zQYVM3c2bLbRgSuGNDS4BufoyGUrxIiue/J7UXuag5HAraUFixUBQ0Ya/i9wzLqf2NclXuJW1llD3DtCiBQS56BIgMAok01//M4xF4UmXawdGDE1E3JXlksI3gKiXMViTeN2ud0jucUaKBTkgonhwOoMdIVJwGg5do49UNkdtkEiA7JCJbIYjsSqxWGRyIXC/U8sy6XoaZIWfCpQ0yhb6aQGyUXpWwdFIb8WIWXR0I6Re8I//M4xGoeGzqttjDTsJhBiHSWjlBANo9IROTz9ZJInbZWUlMJCgdAlp7cw3U+l4ZK1SflVmfNfTflnM3opp9Q+/sz79//+fO6bQyQs23qU3vPK639CMgUv8/9l8pZVnXBc1fQt7EzMiG6MULj//M4xFAV80LGXDBNlEnSZp2phLqZWTiekwBA4migbECETg7RDplZrlSgFmZaEUgrKctkpme0aXNnl+f+fZZtpQWXf7Qm4ExzyqNoRD10LQ602q56w3Se39brOLqxzUlqhCIiR17tQVV2W2W2//M4xFcUoVq5FEmGUFbbgYHdZxx/wUgvWwV4m9L/FrRK6trIoeEAxqy4nyfCQwwivuB65hwA6fG2iTH3bcPe43m30nS1e5NtRtoc2ziHIRZHbv/r2r6qjhJMY8PizpitayH//+qCFEOSySyX//M4xGMXAcb2XsJE7nBthf5nB1Wky8TwRNbCUAUW+RgtXmkHd3dLDXZpo0XaioTlmKicDlIaERoiOkS5YXwxLHq3PCAQNW1Bd833WGdKKWdsKISjMVizkxRi6HKgMRCIzQpHBq30PBKd+08W//M4xGYU6KreXjPQCFHa+GaVmXpy5RPTJwhSthVpv0QQynF0mgYmhqNEwJZFFHQVvaMGIDbg4YLCCMvJFC4LJFFkkM8QK6G//qquuvsHz5RKSuRrvYxaDJIuO8G4DKFCNqv1COlHI9Atpjj0//M4xHEVQSbA1DpMAEDNSOA9FGnEx/CShARLB0JM76irUsOGHsIkEAdDXsPj0NLUpQ1SB5NzXpYTi1R/9O9Ll7CQ5AJVAn7NE76oYdxigb+MSsYKYFxHRabFAN1fXghBufHmVeWVX3PEdvWR//M4xHsU2ObOLDDMcCuBYwsly6teveSPDoVFmfWINBAKXCscA3pe5RstYKd9yoag1yqbbWnW4mlVcDg1rH42BEIW5Xhvihm9YYnAK5/FbqkzdV1W6cFqVTN40FpqxYkBqbPUhw21jQDr+NAO//M4xIYTgPbF4BZYDH3TwbX5PQZNFHyunRq0WiGsdFBAq7///7dmtiWKguoCAAj8C1U1rijza2867hpzjzZj6Fc4jEik12QNUxYbIecWEgbUgCsZ8JCzvqK902NQqkruEFjGugn/b/JTo0gP//M4xJcVGVbyVnoFDml0AmjSOK55jXZM73f9lWmoWZG23JJRSOzZiFSS1Qw40Y6SFFiRG3qNyytqlpqP+6ixV3v5Ipk5z031GXd5h5mTrmSKJvBk8CyREikiJQ1f4roBUWwrw6O9Xf6d277v//M4xKEUGYbNvMFG7GX4fDA5JBLjQKslstsz2msloAUB+Nx/N706x7HEuHNHGQDOOGNCP8iFWRIofj8cI1xUGmOCJdR5EyfFasCtltnzBHfmKvFkxQjFCSrYkJQ06ldgql+2Lqu7WkB8qil3//M4xK8VMQraX08wAuXmNprbtIq2rTEO3sUpFl8oxkTW1nubtf9Z/JtP78rM/e5x+nevfiYY/azs5m5/z1+3dyW9n65szv9k3pFV7Wy4Eyql1CoVja67a2ySVyyRw42Drq4OBwVB0GWh6SXK//M4xLknGw6uX49gAV1y3rlOElo8YPUQeWqfOltD67d3XVx4qYPIX+it8JuvZT5Gs1aZsXpBWyeOzOhJG/LdX+gPXe6tOa6e69ufv/LOl/fvtNr9ZplHb935WIztGxXb4rp8zWfXTN2t2Zml//M4xHsnGw7aX49gAD5pOY5mTSn7HSByYn81mBx7969t+dnp2Z+Mo8AH/+Cv/VWEALghOiCYbh6XXwCZPpyoteWCUGdaJW4zIYCdl2Xdsxqe1WyMJGFhJxxQFFnjY0pXKVm1RkcSEnMQcWUV//M4xD0cYn61ldgoACrMYSFaOMdxiLX97cyItjOSxyHJXVn7e7f6vejEoHBsSUlksYUehjFx95QFYwIlBdc+iIKFBWKB8e9oBQlhRU8sOIj+2aXT1ieyzbCEysoxplBn2tOinNM5LS+ybL5///M4xCobSwqlgHmE3BKmHOUxyzm0vnL1m/nZcsjhVLiNxun17qqqk1WQqNuFd2pF0tkpSr2kM5H3g6PZNZ2teXpU0vDMj2Y9R1CODrhBxogqF9PXCA6YNQTh09jRjIegtudtAsQUlkZwHxtz//M4xBsVyYatiUgYALTPSm8MM4bBxCUTKrsUX1P4O7n9M+rc/5kQNq0BpgyTePddKIcoVYTtYWUpjnsF9VT2vlMLhdDmGklUi9WZwwgm0lPnpl66AcyDu7dycSLaA6cp4AFAvgQRqUYPHuAP//M4xCIb2d68AZhoAMLMPQO9S5qovn1l8tEwBSwvIOgLwzrQUt3ZqiseZgktnU2yHfn03UzvScyVv1dm3qaZqBtM847Xq1BkLg6GFxMVuFWKPf2sL3od/1/9KnAjbIArLJABO3aPZC/bkxBO//M4xBET2SbuX8tYAO8Fw8k1yThYBCDk1c4ewyHU73mtfsNa/ebIndtnSd7iQCIT161R3zzycfEGTdJZBluSoEDJN0k+xEmmSRR9FYASMUEzklf8HqKy3y/SYW9PmGTNAt9GzkYe56wMjhlY//M4xCAUWSrOLHqM7DJ6skXF15VvKkztdh1P2owK3IsHMOEwvnKz+8pd4pkxM1pCohemlkUMJt3V/Vo0u30KIKQagq4/Qw2KhEyZzVS8loNHyodvyziGKusJXG4etXDhEIPoC1LjM5FhSnqr//M4xC0UYSq8VVgYAGftldrGPYLQFwiWsFVRK/bEpHCcGiqkJDpJ+qjErBLk1J9f/sqOO22WS2WS2WSt2y2ASxfdxXbIlTMYRRIhXiBF2eKxJH6Nao7SYsdHkeB3mprbkzuiSjFhJe5CtrH2//M4xDojqnb2X49YAsYlJsUzT/tCmGjbSVpU1KmLcXMWocONfsJwpktVAk/uc34v2cx0hxaxJJxw51H83/VJtQOMaf328dpsiTjLVJDJXPbf2bhxhIBBEOAiQCoeCP//+K1mgt4XVorIBAYu//M4xAoVWb64TckYAG+5IHWsn2VrUc1POERSNyTJ9M88p/3LefLTcyujwKKgAKEsDVbF+EZ9J/KZk2V7wVM4LIVcJqA4lkCpQRQCtzuWHHgmAWF3L6rFQ6qI44gtBpmKAXihfbwphDEJmtZg//M4xBMTmWK8zHrMxCCHV41hQAxZ36TSu4BMf5t7D8/X3HtNrgmF47INqGuk1oTBaaXj7Nbn1eioUBUlfVr3bbaUbH///q6NdVGloXC6lP8MA9g7/ISK6W9cQw2AkYjJxlslR5wwvRWD1nTn//M4xCMUmSra/npG7PyW/21H1MjRD1I0YUZmgsnY2uku640Zl45fQTAM8AnqsIhpzszX3X0fM6n//+n9SqeU6rxs7TFnTExBYhuCAqbNnxDKaxaNNJBsUMMoRqZ9KX9RZibcy4qmjan0Dllx//M4xC8UmOKcAMvMzAyei4ql9LIsSE+aOWdBs6o028NNBWsFV8rR/q/0/Wn9376CNYwACkkkiAi9LvCShmEaIXZxQ/isX5fZDQv+YoqEX+C5VRu/GlUb18zkc3SIEylndJ0I1kdG6tVyOipb//M4xDsUukatnsJErLd0tPdSpe7bLPart66yW97fqNJ7N9C/2Me/XjAdNLDOpLYLJwLf7Sylrp8khxOPBPydQRdv2a88OqZQJN7tUqkYCCKk01XR48iGYAKMQwQODC3myeGPnN/lAAh7qgf7//M4xEcUcOasAMPMsIm9fJw8GP/9m2qip8u4eIvw7hXrrBh8l/xuXvougiE5e8r7MEkrP9qxGDrf7LCb+9k1EkjSwYK2mksbV5qTwmiEpt83H1S3v5Pt9m5i9SAaVK41RTDj1d87tzWqgAFK//M4xFQUMdq4AMGFDAAgHzr2+WlgCJ9JR2npQAj0rnaRmTjIH36OcIAOS1RSOXZyLPM6lQe88R8Mkl8FfmHevTDnv7m/8/6nL+a5w8ihHQNykWz//r1VVZB3WNYgUPf3hQwUFhE25nlxsoFe//M4xGITSdK9lMIGwEypTau2WA0lrlghM7ipns42Vud9baLdqHpqXTD9FCImIaDq6qU6+Yb6mDuOJaoixUMjDT89U/d316/6P/pyKoArftpNbWwNh9ACDW/rComnFKYIhquoBB3+WVmIzsy2//M4xHMUmcq4AMHQ8E7iACOIB8QigEf2KLmhCfefOJCaR55oMUruKuTHkCxdMf/kFNjhwRirnlv2ny5QE2Oxrz4Qll0u2utskcEqKCAVLMlAggXsohyVFCWbkTgiUqgK6+b0HKkFd555dPXv//M4xH8VQKrVvgpMFETTqmC2M6acuVIcv/75rr1/66nPK6PqPZYv/UvPdggK0ScM4e6QSHiHeXd/brGEKgaQgmDPj4vTbO1AvJKIm1qxIUeaHA8CyXgEeAjocJJ6Rz5k4xKiyrzrLmVNPahK//M4xIkUAzsCXhhNst1M2pI/a8mnvPf+9fARZwqQDFUWOFd4Zn+kkIAk5QUBHo7QMhVMXhpoTBBCkaagZKSqYNSjqHRQ4lXgqCQoNXbzObEpNebff9Qp1nRHfewteqWPBUn1IXFyYbin+okh//M4xJgSyHLjHjGCGEe99GJXWqhpanHttZpNts9XncTiKBCXwIw2GlIW2KAaI0uFCRyCG2ZjsJgZHj0fZDjYPg/kslqkaYXdm5eTDROXk5I//uo4mTx8Ky+VjWkiBqLr8fGvp75G3LnFz0f7//M4xKsVGUrHH0YYAPnY+3pnzm8mfuabSU82fjueOs5sl7EDh/5Rr0mOdJSaz9311/Xy9/L2e9585W+D8T0bLoFyTkiUjLf/////z7//////0D1dKDIuliWaDBsXwA4JYqJ4EV/Hu/+t1ePP//M4xLUm+87WX4lYAJ3Sju6cgvsPw7IwaIn1Muyyg26ceOdE+WGrGwwZDqTplZYcLkRK4KazoqG1AGhqjDHyOHip0WET2N+eVQr+ppYUSgRHmLVAC1YwYZiTwvIKYBZVOsVJ+A6EKhWVhQHF//M4xHgXoR7Rlc9AAHtaGb5/T0upCwClmSuYMBOIYzSULeXsWg6lYzvEiaVuLkyWnIBgAgpYWR9GtH2HN1iBKd3PyuyQ/c0PTp3Lf94I1Ylcm2uZH5iA1OEXhMSCc8ihNL2/aIsJPsoFWPSt//M4xHgd8hbKNHpHRGAxg4AAktQRsZ8pCzVx/cho3XR/Mh+IP9yRA7p0AA1V9AACSfiDSM5dHJVfRpJKFEi0XbAokkcZOU9oM9LbgqtrdpKBqAwgyBT4utWNZylaUKZ3P/7fe+i4MmGzZKxG//M4xF8WeSrW1nsMiNGOW4BJfywHycBIOmRtHXejAM2ebMp1GTD/hh7yjplYJpxplZoi3R14iy8RdBWsM1ueSwmpbYTvWw8LINHki51gvoqvbX/7teqRVF91YogoieFOSDuX98OGqClpOvqR//M4xGQUaQ7i/hvKGEG2q2NsnokBIVwpSPd2hw8ff74EfZhjkS2Hk0zMffsdkqgrvddKuiTM70lVZFJ2vLI0a9Np1CmWF1KVTkv9CQoTpU5XuSkfRY93q5y44LFdCKRNpZMzKqkOUjVQhx19//M4xHEUQOLCVsMQqLMszrpqKsPUqjKhYDD+YvlVby31Na4qzmVDGO6iLRMHVXmGMdH8htTod6Px1Wr0dCoNPYQ1QW1Zi7TbUr9M1MUxZsai1eijT/WYlHIJneY6vmkjUmFahaCjWWqphobk//M4xH8UCWqkyssKxMnmZnO20mebNeIIBMT01nXdOLm2koBEsyZdSirbkWbRhJHr92vqfVUSb/cRCtcfvOiaxXnn4jgOIn3UpJC09FNe6lWTA+kMAgVHLuoJxw3Te+ag5TqJCYeTN7Ydt+7h//M4xI0VWUaYK1gYAIbE02PFRq991D1r1nrvGk4A/SIzmLnkZPHriqfvm3rnUUHlCJQg51vcooknHT+/+NI7RYXusdFJUT0Zhzmwl7Zm7+f//5SJBWxpUtnD8l9LM3JGx2qe58Ou///////z//M4xJYmK4Kwy5hYAH/8ssAAEppDWWg0pYNWGi2ulWnxikmgPlcTMcA6WXNcT1r2ZcrsucMBBMKix8tc7lDVfy4eYWBVDQebvvBZdv4dDYbLbUJ6L2rpDLotYgrSVr5ZCE78k5KqcZaktttt//M4xFwVYSq9tc8YAJJRBEmQE4Enl2bQ44z7Z0abw9ilbYCtpGpmRJFsc1vxVM1yLjekyQavYPQ4AmhAgPAOPNvAxpRYqMERQCnv7Ue7d+nbVo/qETmClTJ/vH0vd7PrnOjmcwGNm1DcPm/j//M4xGUUGS7eX0kYAjgJjlKwcGAlPg1aAb3QfBEdNS4LwbngsFQWhkuspbNEcFgeGBk4XEEQZrXsXD+3Fx4LQ+Lpj8acMdJMMM988YHJQqKnPcaI1V/4pWZacKXUit8u7pces9Te7zpYybHE//M4xHMm887WX4xAAA2BljD2ibpKaZrT/4vSMfJ6K+Nh8cY5wkFRTGjF///////f/////88xbSieuuziwFKs6CHZvR6ZKMAQhSvSYyuatJDKr1Z5tx51cjmdzL/y8pT66EYxqblskNy//L59//M4xDYUUdbiW8MYACuKEiBpun9vS4kPqQ1VbtLcShIqWEQ6DQUDpJVYVWSW22xiQQUdzJylMUkDPNuUPw9dhxQcEIVKuMxGQnhNLuDvT9Rg0qO4RU9AAYUEh1JQ41oRfE9/h9gwmQHA+Pjk//M4xEMUSKMO/sPGin/UVAiVvf0cQI+7///2qv9bZtvvZLthZxt7vCowhD//CkCgnDW9nSFmTN/dvebPoHEl3DK25gEseSdwaPCgCnWbeygKlQGRDqb0szo8k8GhyzNl24KQMSUxE109xXM3//M4xFAUqLciXsPENvUOZdR1LbdG3JBXNfgKJYb6RD0c6JGNnsik0m6wg6hhRNYFUrNQHlJjpXVZ4qiTujYdetCMrWCzyoTDRUtIlRFaRO5H1eItn1Z1tj3eo9UGlVqtp0G4lk8cXk5mBwqF//M4xFwTURrpv0kYAiLNgOCISpRQE9LHAmYXceaaVCi6QcwcBKDDsvdllxUOWF7E4HoeU1lLTnrJAe4DrC5gG4DYC8J6DLZSBkcRZhAA5hqOQ8ZzrrZvup0VboFw2LhoSi2X9C+za3d2qsib//M4xG0kO86kAYxoAKBsgXHTNzRkCX6+1ftvVdFeh0zQyLjGCZ9aboaP///X//+Zpoz4Nx8P9vVTK/rd5vAJHNgbNpg/srBkFYkWo7jkQK09DcMg9DoZQGHnIHcSWRa3RsWkvG0EYuFFIoHb//M4xDsjUw7eX49YAZqfHesaduKiS09CjjRlvpM4lDHGz9tHDly2pTdJz9FdOWH98e508nfq52bJrlvw5nMX75u9x2OEdnTtV81xM0yHVTbt07bquU/j/p8M7nPZvqrqrf+ppYyNMZs7mx0t//M4xAwTuU7AAdhIABWqtuXgWLV4rZsxNrVvnyg2zdwifWlU2iVKXYVWfssXYQuV0kEwpJRCSAbHBMKigYm5CmhI0D03OUmCyQzWj//q2dOAAAuwC5LcE5g/NgIjqw2UyoISC42YhMA6ztou//M4xBwU4V7OP0wQAGZ+QwEbUwpdwoD1AhXQ3qXRQoEPM6lQyobwwFuFGVwmf7SVuoKotnmvdOq0vnc6qveYxT5irXmFBO/y2QQ0q4TpOS51AQASGGQeEgiBQFRR6P2GZELE2ysrieo/LO7q//M4xCce086wy4lQAH6VH46IRnREIDWqxuPziRyo3nGO2qnFFyUuSF2UzfsnTRGqfdhcLBIKnzPtmTz0psSj8lH5xMPCMjH7iH//+//5QWCIeMZJzSdB4SKW//////8fj9XTyzz/+288Icd4//M4xAoXYgbZlYw4APnF8ia9wfn4Nikytf4mLxsVI1hj1TOmTJ91X2dn1bNG9EMnruPzVHXI5N9slX1TnqUZNl2fepu5zzTMepPc7Ri9ZcqJBQCNWKrRXbZyMXc3/p/41QZNG5XYoWQhEW2l//M4xAsVUJaoSdgYAPk4SIRb1MF1aBupc1cywrEcMYrV5zENMiqBRI4dPMABLsJAqZNlQSDpYGQ1K31i7qkIbFAo8sIupXuyVlpHxdX3szp5gGfIYhOmFYlkFIrtbUcGJIibpqaH0k2mSOS2//M4xBQUubq0ysGKzK43Rm9PGNHC0s8GIfwyH95BmX4snrf1Ew+dhMTAAUXOhGWJi6F//oT//nD7ygLpaYHvPos/Tn+Q/L6PR0CrEpVjgESGiz/b/gycfwwY4Sm0SG3CGoBELEs5oqqvhgw7//M4xCAVQdLrHnmEzH9AcEyzclbd2AKmiSJ3fVkpDOpXCALG5WsrP5fm/83y+wapcUTe/7UXu4NErdfyuV+dzLFICAUVETpq0wSnIiN661LAJsPRxGQP8smIsyilHJYEfWxl/QL/UEe0v7Rw//M4xCoUUbahasDE8NSql7QE6QCdcIc0pUWlnXSxNt6J1ar93CsnOmPb+bw2yly2Ta/2eqq1hYqTpkIpCksOg+TOzrfQE4SgknP9D0+ZbcyZvIrNf5MIkQII30R98tzLdzc+mhV4AFKIDj3h//M4xDcUKSqsAMPGcBSJ34YlzjowNsCJqlKv1/qcT3fo+q6vW5dNEavYDO4wPUv5DXsHNx1ltOp23hfjQcoti+HFLNm1Ut9uPnIghrM0W8fbxmZC52ItiXcEIkUPsa79C0pOGdh+24TiweCx//M4xEUTiU7EAAvMHJfIdqeU////9apVhWdy22W2gUa+tGGaR/maY8Afr2BEiA3Cubf5YrhTqRylj7b1FC9ZGyNHvR1K8z6aqVQ/+z6ZCeBJAqJ5wUeae9iDTy80xYRUo1LUV/c1/////0VG//M4xFUU6TMa/njNKhSCO6PAiPChQNUUbjEj4YGTJAOjTJFPZSAuQoosY9lKHWksK3DO9V813xfy3O1M1XZxA8pJ6deaERStYyHXDDoDFXGxEbcz2IvrvO/q/+mViHe5yBg/LnZRwIpMSCqL//M4xGAU8S7ODHmQaDqXuz2spiN1ZFErxjnhQQoj7HCK0jFscUijfw+XVocNvVjZ9jIqI2nN2p3s7UR/b679dvofKILGSGLNo+RtdQ+641JKAPFNHrstwTiONs9JCOMoKZXWer9DYfWBjJh3//M4xGsUAlLNljDE8FVmlUSt2meuR6gv1JZSKHijBqbedImAOfYCbUPQ4dholGqDWt+E6VF2ONBF2d4Fd6v1YxUQggWVZVjClHUfxzoUQUs8iWDMedhbiiR8mtaoufQgUQUFuTMbychZcORY//M4xHoTkSKtlFpGENqa8HETCqh4oOPiFgdecvYxT7XrdmaeyrtW53ardZ21I/qQllsltttttlEiRxMkFl0gNMviWrwnpBiZ617gECyQs2RSAwYsXvcnFRyWh+Se8CKxYwLCBZJovAphQ+5D//M4xIoTeRKiNHmGNFFTnNkyMmw5UIlvYSJqFW3otNzf+v26y9Um+FmRM6xSRKpNsaYppuT2R5WbkMoyqmVKlWTVheulnO+6trulQTsrdNKm8XrhfdDmG18ouyCPial7Pzl1GuZ6Q3+ImWaD//M4xJsVCRLeXjGGGhDadvhPrt66aebBbJ7r3XiEHbsoWPpm7Oz0bvbZYsep+UJzEQ9HSL4tH80EYS07CJmUYtORknlCEJeTYTqFYJRTPTMKpCjLWMxksz2ZqTNqc242ZKszChAJpJCI8KB0//M4xKUdQyacKkmHPSZ4+KKBphQCiIROOh0emOqRyYCYhDiR4lYdBpi4dss93SROhPIqAZuISyIsaLrgq46cDGqPTBsVHIUhSXMY7HKq0tky6PyPdmkpcHLVSiSPBsdl1MEgr/cSEqk2ZVWN//M4xI8VWRqhijCGgEruU4Zwvnj5Mzfxnv/l+CWtjUNAi73H1Bw4kqb5wcep3scfIJVAFVuIB448Ri8r9a7hKvJoSoGRNRlG0WS9MWjlWRo5KqnyCrmSb6vRP0BIMUwwqBh5CTFQWCilGvig//M4xJgX2haJakmGXK7zoWOJv+FL//RXDbf94v49//Chm/isfwbNJ+WJt//poLzptv+YYhlmAICSQYwSmBaOXF0ZSaltDWGqMFcSDYSftCplLdX6Aq63qxT/a5aRZSGRyGQKS/yzf7DP2DCP//M4xJcXqSJ0KmGGXdkWTEFNRTMuMTAwqqqqqqqqqqqqqqqqqqqqqqqqqkxBTUUzLjEwMKqqqqqqqqqqqqqqqqqqqqqqqqqqqqqqqqqqqqqqqqqqqqqqqqqqqqqqqqqqqqqqqqqqqqqqqqqq//M4xJcOgHY4DnsGBKqqqqqqqqqqqqqqqqqqqqqqqqqqqqqqqqqqqqqqqkxBTUUzLjEwMKqqqqqqqqqqqqqqqqqqqqqqqqqqqqqqqqqqqqqqqqqqqqqqqqqqqqqqqqqqqqqqqqqqqqqqqqqq//M4xKAAAANIAAAAAKqqqqqqqqqqqqqqqqqqqqqqqqqqqqqqqqqqqqqqqkxBTUUzLjEwMKqqqqqqqqqqqqqqqqqqqqqqqqqqqqqqqqqqqqqqqqqqqqqqqqqqqqqqqqqqqqqqqqqqqqqqqqqq//M4xKAAAANIAAAAAKqqqqqqqqqqqqqqqqqqqqqqqqqqqqqqqqqqqqqqqkxBTUUzLjEwMKqqqqqqqqqqqqqqqqqqqqqqqqqqqqqqqqqqqqqqqqqqqqqqqqqqqqqqqqqqqqqqqqqqqqqqqqqq//M4xKAAAANIAAAAAKqqqqqqqqqqqqqqqqqqqqqqqqqqqqqqqqqqqqqqqkxBTUUzLjEwMKqqqqqqqqqqqqqqqqqqqqqqqqqqqqqqqqqqqqqqqqqqqqqqqqqqqqqqqqqqqqqqqqqqqqqqqqqq//M4xKAAAANIAAAAAKqqqqqqqqqqqqqqqqqqqqqqqqqqqqqqqqqqqqqqqkxBTUUzLjEwMKqqqqqqqqqqqqqqqqqqqqqqqqqqqqqqqqqqqqqqqqqqqqqqqqqqqqqqqqqqqqqqqqqqqqqqqqqq//M4xKAAAANIAAAAAKqqqqqqqqqqqqqqqqqqqqqqqqqqqqqqqqqqqqqqqkxBTUUzLjEwMKqqqqqqqqqqqqqqqqqqqqqqqqqqqqqqqqqqqqqqqqqqqqqqqqqqqqqqqqqqqqqqqqqqqqqqqqqq//M4xKAAAANIAAAAAKqqqqqqqqqqqqqqqqqqqqqqqqqqqqqqqqqqqqqqqkxBTUUzLjEwMKqqqqqqqqqqqqqqqqqqqqqqqqqqqqqqqqqqqqqqqqqqqqqqqqqqqqqqqqqqqqqqqqqqqqqqqqqq//M4xKAAAANIAAAAAKqqqqqqqqqqqqqqqqqqqqqqqqqqqqqqqqqqqqqqqkxBTUUzLjEwMKqqqqqqqqqqqqqqqqqqqqqqqqqqqqqqqqqqqqqqqqqqqqqqqqqqqqqqqqqqqqqqqqqqqqqqqqqq//M4xKAAAANIAAAAAKqqqqqqqqqqqqqqqqqqqqqqqqqqqqqqqqqqqqqqqkxBTUUzLjEwMKqqqqqqqqqqqqqqqqqqqqqqqqqqqqqqqqqqqqqqqqqqqqqqqqqqqqqqqqqqqqqqqqqqqqqqqqqq//M4xKAAAANIAAAAAKqqqqqqqqqqqqqqqqqqqqqqqqqqqqqqqqqqqqqqqkxBTUUzLjEwMKqqqqqqqqqqqqqqqqqqqqqqqqqqqqqqqqqqqqqqqqqqqqqqqqqqqqqqqqqqqqqqqqqqqqqqqqqq//M4xKAAAANIAAAAAKqqqqqqqqqqqqqqqqqqqqqqqqqqqqqqqqqqqqqqqkxBTUUzLjEwMKqqqqqqqqqqqqqqqqqqqqqqqqqqqqqqqqqqqqqqqqqqqqqqqqqqqqqqqqqqqqqqqqqqqqqqqqqq//M4xKAAAANIAAAAAKqqqqqqqqqqqqqqqqqqqqqqqqqqqqqqqqqqqqqqqkxBTUUzLjEwMKqqqqqqqqqqqqqqqqqqqqqqqqqqqqqqqqqqqqqqqqqqqqqqqqqqqqqqqqqqqqqqqqqqqqqqqqqq//M4xKAAAANIAAAAAKqqqqqqqqqqqqqqqqqqqqqqqqqqqqqqqqqqqqqqqkxBTUUzLjEwMKqqqqqqqqqqqqqqqqqqqqqqqqqqqqqqqqqqqqqqqqqqqqqqqqqqqqqqqqqqqqqqqqqqqqqqqqqq//M4xKAAAANIAAAAAKqqqqqqqqqqqqqqqqqqqqqqqqqqqqqqqqqqqqqqqkxBTUUzLjEwMKqqqqqqqqqqqqqqqqqqqqqqqqqqqqqqqqqqqqqqqqqqqqqqqqqqqqqqqqqqqqqqqqqqqqqqqqqq//M4xKAAAANIAAAAAKqqqqqqqqqqqqqqqqqqqqqqqqqqqqqqqqqqqqqqqkxBTUUzLjEwMKqqqqqqqqqqqqqqqqqqqqqqqqqqqqqqqqqqqqqqqqqqqqqqqqqqqqqqqqqqqqqqqqqqqqqqqqqq//M4xKAAAANIAAAAAKqqqqqqqqqqqqqqqqqqqqqqqqqqqqqqqqqqqqqqqkxBTUUzLjEwMKqqqqqqqqqqqqqqqqqqqqqqqqqqqqqqqqqqqqqqqqqqqqqqqqqqqqqqqqqqqqqqqqqqqqqqqqqq//M4xKAAAANIAAAAAKqqqqqqqqqqqqqqqqqqqqqqqqqqqqqqqqqqqqqqqkxBTUUzLjEwMKqqqqqqqqqqqqqqqqqqqqqqqqqqqqqqqqqqqqqqqqqqqqqqqqqqqqqqqqqqqqqqqqqqqqqqqqqq//M4xKAAAANIAAAAAKqqqqqqqqqqqqqqqqqqqqqqqqqqqqqqqqqqqqqqqqqqqqqqqqqqqqqqqqqqqqqqqqqqqqqqqqqqqqqqqqqqqqqqqqqqqqqqqqqqqqqqqqqqqqqqqqqqqqqqqqqqqqqq//M4xKAAAANIAAAAAKqqqqqqqqqqqqqqqqqqqqqqqqqqqqqqqqqqqqqqqqqqqqqqqqqqqqqqqqqqqqqqqqqqqqqqqqqqqqqqqqqqqqqqqqqqqqqqqqqqqqqqqqqqqqqqqqqqqqqqqqqqqqqq\" type=\"audio/mpeg\"/>\n",
              "                        Your browser does not support the audio element.\n",
              "                    </audio>\n",
              "                  "
            ],
            "text/plain": [
              "<pydub.audio_segment.AudioSegment at 0x7ff110cc0410>"
            ]
          },
          "metadata": {},
          "execution_count": 7
        }
      ]
    },
    {
      "cell_type": "code",
      "source": [
        "os.listdir(\"/root/.local/share/tts/tts_models--en--ek1--tacotron2\")"
      ],
      "metadata": {
        "id": "o1jU3zc_sjHa",
        "colab": {
          "base_uri": "https://localhost:8080/"
        },
        "outputId": "62c5189e-a01d-4e55-d1ee-9e80e68677ee"
      },
      "execution_count": null,
      "outputs": [
        {
          "output_type": "execute_result",
          "data": {
            "text/plain": [
              "['model_file.pth.tar', 'config.json']"
            ]
          },
          "metadata": {},
          "execution_count": 10
        }
      ]
    },
    {
      "cell_type": "code",
      "source": [
        "!tar -xf \"/root/.local/share/tts/tts_models--en--ek1--tacotron2\""
      ],
      "metadata": {
        "id": "N5m3HLvSsjLT"
      },
      "execution_count": null,
      "outputs": []
    }
  ]
}