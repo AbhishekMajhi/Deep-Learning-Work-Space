{
  "cells": [
    {
      "cell_type": "markdown",
      "metadata": {
        "id": "view-in-github",
        "colab_type": "text"
      },
      "source": [
        "<a href=\"https://colab.research.google.com/github/AbhishekMajhi/Deep-Learning-Work-Space/blob/main/WaveRNN%2BTTS_V1.ipynb\" target=\"_parent\"><img src=\"https://colab.research.google.com/assets/colab-badge.svg\" alt=\"Open In Colab\"/></a>"
      ]
    },
    {
      "cell_type": "code",
      "execution_count": null,
      "metadata": {
        "colab": {
          "base_uri": "https://localhost:8080/"
        },
        "id": "4TH53kRDlfp0",
        "outputId": "5c9909ec-4695-4426-c8c4-508d788989b6"
      },
      "outputs": [
        {
          "output_type": "stream",
          "name": "stdout",
          "text": [
            "Mounted at /content/drive\n"
          ]
        }
      ],
      "source": [
        "from google.colab import drive\n",
        "drive.mount('/content/drive')"
      ]
    },
    {
      "cell_type": "code",
      "execution_count": null,
      "metadata": {
        "id": "l1SWJGlTlp8K"
      },
      "outputs": [],
      "source": [
        "import os\n",
        "import shutil\n",
        "import pandas as pd\n",
        "import numpy as np"
      ]
    },
    {
      "cell_type": "markdown",
      "metadata": {
        "id": "yuHB68HwNQ3d"
      },
      "source": [
        "# Mozilla Dataset"
      ]
    },
    {
      "cell_type": "code",
      "execution_count": null,
      "metadata": {
        "colab": {
          "base_uri": "https://localhost:8080/"
        },
        "id": "K462jpqhmIYQ",
        "outputId": "16c1d604-35ef-4105-aebe-fcdc02cb2a49"
      },
      "outputs": [
        {
          "output_type": "stream",
          "name": "stdout",
          "text": [
            "/content/WaveRNN\n"
          ]
        }
      ],
      "source": [
        "!mkdir \"WaveRNN\"\n",
        "%cd WaveRNN"
      ]
    },
    {
      "cell_type": "code",
      "execution_count": null,
      "metadata": {
        "id": "I4RRkWP4l0iC"
      },
      "outputs": [],
      "source": [
        "!tar -xf \"/content/drive/MyDrive/Voice Cloning/Synthesizer/WaveRNN.tar\""
      ]
    },
    {
      "cell_type": "code",
      "execution_count": null,
      "metadata": {
        "id": "QZiNEgHmmuqp"
      },
      "outputs": [],
      "source": [
        "files = os.listdir(\"/content/WaveRNN/mono/wav\")\n",
        "path = '/content/WaveRNN/mono/wav/'\n",
        "for i in files:\n",
        "  os.remove(path+i)"
      ]
    },
    {
      "cell_type": "code",
      "execution_count": null,
      "metadata": {
        "id": "qs1QFI2ssHjI"
      },
      "outputs": [],
      "source": [
        "!pip install -r requirements.txt"
      ]
    },
    {
      "cell_type": "code",
      "execution_count": null,
      "metadata": {
        "colab": {
          "base_uri": "https://localhost:8080/",
          "height": 206
        },
        "id": "_Xesl_6nLEG2",
        "outputId": "49a147bb-ccac-4ac3-89ff-25ea7247d410"
      },
      "outputs": [
        {
          "data": {
            "text/html": [
              "\n",
              "  <div id=\"df-86fc3f01-33dd-46cf-a0aa-bfd4226d0d7d\">\n",
              "    <div class=\"colab-df-container\">\n",
              "      <div>\n",
              "<style scoped>\n",
              "    .dataframe tbody tr th:only-of-type {\n",
              "        vertical-align: middle;\n",
              "    }\n",
              "\n",
              "    .dataframe tbody tr th {\n",
              "        vertical-align: top;\n",
              "    }\n",
              "\n",
              "    .dataframe thead th {\n",
              "        text-align: right;\n",
              "    }\n",
              "</style>\n",
              "<table border=\"1\" class=\"dataframe\">\n",
              "  <thead>\n",
              "    <tr style=\"text-align: right;\">\n",
              "      <th></th>\n",
              "      <th>Unnamed: 0</th>\n",
              "      <th>client_id</th>\n",
              "      <th>sentence</th>\n",
              "    </tr>\n",
              "  </thead>\n",
              "  <tbody>\n",
              "    <tr>\n",
              "      <th>0</th>\n",
              "      <td>0</td>\n",
              "      <td>29822eacca376bd26682b72d0212ea3f2897da482cbaa2...</td>\n",
              "      <td>Box office का नया हीरो बना हॉरर, 'लैला मजनू', ...</td>\n",
              "    </tr>\n",
              "    <tr>\n",
              "      <th>1</th>\n",
              "      <td>1</td>\n",
              "      <td>4498fc8a02fdc71bd6238e7020b44ddb11b2922e44e1fd...</td>\n",
              "      <td>Opinion: विराट कोहली के लिए बेहतरीन मौका</td>\n",
              "    </tr>\n",
              "    <tr>\n",
              "      <th>2</th>\n",
              "      <td>2</td>\n",
              "      <td>4e034c5240bda98e2022122045ea9bb4e406b9f886c9eb...</td>\n",
              "      <td>तुम्हारे बहुत सारे दुशमन हैं।</td>\n",
              "    </tr>\n",
              "    <tr>\n",
              "      <th>3</th>\n",
              "      <td>3</td>\n",
              "      <td>609b987b0c28816376ca4600e84ac46f316c5ecae12f34...</td>\n",
              "      <td>तोहफे के रूप में लोगों की पहली पंसद है चॉकलेट</td>\n",
              "    </tr>\n",
              "    <tr>\n",
              "      <th>4</th>\n",
              "      <td>4</td>\n",
              "      <td>7ee51ec09b8af4f5d3502101adc32f4c67fe0a30b5566b...</td>\n",
              "      <td>वे एक-साथ खेल रहे हैं।</td>\n",
              "    </tr>\n",
              "  </tbody>\n",
              "</table>\n",
              "</div>\n",
              "      <button class=\"colab-df-convert\" onclick=\"convertToInteractive('df-86fc3f01-33dd-46cf-a0aa-bfd4226d0d7d')\"\n",
              "              title=\"Convert this dataframe to an interactive table.\"\n",
              "              style=\"display:none;\">\n",
              "        \n",
              "  <svg xmlns=\"http://www.w3.org/2000/svg\" height=\"24px\"viewBox=\"0 0 24 24\"\n",
              "       width=\"24px\">\n",
              "    <path d=\"M0 0h24v24H0V0z\" fill=\"none\"/>\n",
              "    <path d=\"M18.56 5.44l.94 2.06.94-2.06 2.06-.94-2.06-.94-.94-2.06-.94 2.06-2.06.94zm-11 1L8.5 8.5l.94-2.06 2.06-.94-2.06-.94L8.5 2.5l-.94 2.06-2.06.94zm10 10l.94 2.06.94-2.06 2.06-.94-2.06-.94-.94-2.06-.94 2.06-2.06.94z\"/><path d=\"M17.41 7.96l-1.37-1.37c-.4-.4-.92-.59-1.43-.59-.52 0-1.04.2-1.43.59L10.3 9.45l-7.72 7.72c-.78.78-.78 2.05 0 2.83L4 21.41c.39.39.9.59 1.41.59.51 0 1.02-.2 1.41-.59l7.78-7.78 2.81-2.81c.8-.78.8-2.07 0-2.86zM5.41 20L4 18.59l7.72-7.72 1.47 1.35L5.41 20z\"/>\n",
              "  </svg>\n",
              "      </button>\n",
              "      \n",
              "  <style>\n",
              "    .colab-df-container {\n",
              "      display:flex;\n",
              "      flex-wrap:wrap;\n",
              "      gap: 12px;\n",
              "    }\n",
              "\n",
              "    .colab-df-convert {\n",
              "      background-color: #E8F0FE;\n",
              "      border: none;\n",
              "      border-radius: 50%;\n",
              "      cursor: pointer;\n",
              "      display: none;\n",
              "      fill: #1967D2;\n",
              "      height: 32px;\n",
              "      padding: 0 0 0 0;\n",
              "      width: 32px;\n",
              "    }\n",
              "\n",
              "    .colab-df-convert:hover {\n",
              "      background-color: #E2EBFA;\n",
              "      box-shadow: 0px 1px 2px rgba(60, 64, 67, 0.3), 0px 1px 3px 1px rgba(60, 64, 67, 0.15);\n",
              "      fill: #174EA6;\n",
              "    }\n",
              "\n",
              "    [theme=dark] .colab-df-convert {\n",
              "      background-color: #3B4455;\n",
              "      fill: #D2E3FC;\n",
              "    }\n",
              "\n",
              "    [theme=dark] .colab-df-convert:hover {\n",
              "      background-color: #434B5C;\n",
              "      box-shadow: 0px 1px 3px 1px rgba(0, 0, 0, 0.15);\n",
              "      filter: drop-shadow(0px 1px 2px rgba(0, 0, 0, 0.3));\n",
              "      fill: #FFFFFF;\n",
              "    }\n",
              "  </style>\n",
              "\n",
              "      <script>\n",
              "        const buttonEl =\n",
              "          document.querySelector('#df-86fc3f01-33dd-46cf-a0aa-bfd4226d0d7d button.colab-df-convert');\n",
              "        buttonEl.style.display =\n",
              "          google.colab.kernel.accessAllowed ? 'block' : 'none';\n",
              "\n",
              "        async function convertToInteractive(key) {\n",
              "          const element = document.querySelector('#df-86fc3f01-33dd-46cf-a0aa-bfd4226d0d7d');\n",
              "          const dataTable =\n",
              "            await google.colab.kernel.invokeFunction('convertToInteractive',\n",
              "                                                     [key], {});\n",
              "          if (!dataTable) return;\n",
              "\n",
              "          const docLinkHtml = 'Like what you see? Visit the ' +\n",
              "            '<a target=\"_blank\" href=https://colab.research.google.com/notebooks/data_table.ipynb>data table notebook</a>'\n",
              "            + ' to learn more about interactive tables.';\n",
              "          element.innerHTML = '';\n",
              "          dataTable['output_type'] = 'display_data';\n",
              "          await google.colab.output.renderOutput(dataTable, element);\n",
              "          const docLink = document.createElement('div');\n",
              "          docLink.innerHTML = docLinkHtml;\n",
              "          element.appendChild(docLink);\n",
              "        }\n",
              "      </script>\n",
              "    </div>\n",
              "  </div>\n",
              "  "
            ],
            "text/plain": [
              "   Unnamed: 0  ...                                           sentence\n",
              "0           0  ...  Box office का नया हीरो बना हॉरर, 'लैला मजनू', ...\n",
              "1           1  ...           Opinion: विराट कोहली के लिए बेहतरीन मौका\n",
              "2           2  ...                      तुम्हारे बहुत सारे दुशमन हैं।\n",
              "3           3  ...      तोहफे के रूप में लोगों की पहली पंसद है चॉकलेट\n",
              "4           4  ...                             वे एक-साथ खेल रहे हैं।\n",
              "\n",
              "[5 rows x 3 columns]"
            ]
          },
          "execution_count": 12,
          "metadata": {},
          "output_type": "execute_result"
        }
      ],
      "source": [
        "data = pd.read_csv(\"/content/WaveRNN/Dataset/hi/transcripts.csv\")\n",
        "data.head()"
      ]
    },
    {
      "cell_type": "code",
      "execution_count": null,
      "metadata": {
        "colab": {
          "base_uri": "https://localhost:8080/"
        },
        "id": "falj1haiLEKt",
        "outputId": "f105eb95-ded8-4a9c-fe4b-065c27391e47"
      },
      "outputs": [
        {
          "data": {
            "text/plain": [
              "12785"
            ]
          },
          "execution_count": 13,
          "metadata": {},
          "output_type": "execute_result"
        }
      ],
      "source": [
        "files = os.listdir(\"/content/WaveRNN/Dataset/hi/wav\")\n",
        "len(files)"
      ]
    },
    {
      "cell_type": "markdown",
      "metadata": {
        "id": "V6vGafZbr89I"
      },
      "source": [
        "## Training"
      ]
    },
    {
      "cell_type": "code",
      "execution_count": null,
      "metadata": {
        "id": "650Sz2k6l-Rk"
      },
      "outputs": [],
      "source": [
        "!python train_tacotron.py"
      ]
    },
    {
      "cell_type": "code",
      "execution_count": null,
      "metadata": {
        "colab": {
          "base_uri": "https://localhost:8080/"
        },
        "id": "I9obOtiDsBuL",
        "outputId": "7c2c4f34-f688-4419-baf3-7fa29478b87a"
      },
      "outputs": [
        {
          "name": "stdout",
          "output_type": "stream",
          "text": [
            "Using device: cuda\n",
            "\n",
            "Initialising Tacotron Model...\n",
            "\n",
            "Trainable Parameters: 11.088M\n",
            "Restoring from latest checkpoint...\n",
            "Loading latest weights: /content/WaveRNN/checkpoints/ljspeech_lsa_smooth_attention.tacotron/latest_weights.pyt\n",
            "Loading latest optimizer state: /content/WaveRNN/checkpoints/ljspeech_lsa_smooth_attention.tacotron/latest_optim.pyt\n",
            "Creating Ground Truth Aligned Dataset...\n",
            "\n",
            "Traceback (most recent call last):\n",
            "  File \"train_tacotron.py\", line 202, in <module>\n",
            "    main()\n",
            "  File \"train_tacotron.py\", line 107, in main\n",
            "    create_gta_features(model, train_set, paths.gta)\n",
            "  File \"train_tacotron.py\", line 183, in create_gta_features\n",
            "    for i, (x, mels, ids, mel_lens) in enumerate(train_set, 1):\n",
            "  File \"/usr/local/lib/python3.7/dist-packages/torch/utils/data/dataloader.py\", line 521, in __next__\n",
            "    data = self._next_data()\n",
            "  File \"/usr/local/lib/python3.7/dist-packages/torch/utils/data/dataloader.py\", line 1203, in _next_data\n",
            "    return self._process_data(data)\n",
            "  File \"/usr/local/lib/python3.7/dist-packages/torch/utils/data/dataloader.py\", line 1229, in _process_data\n",
            "    data.reraise()\n",
            "  File \"/usr/local/lib/python3.7/dist-packages/torch/_utils.py\", line 434, in reraise\n",
            "    raise exception\n",
            "KeyError: Caught KeyError in DataLoader worker process 0.\n",
            "Original Traceback (most recent call last):\n",
            "  File \"/usr/local/lib/python3.7/dist-packages/torch/utils/data/_utils/worker.py\", line 287, in _worker_loop\n",
            "    data = fetcher.fetch(index)\n",
            "  File \"/usr/local/lib/python3.7/dist-packages/torch/utils/data/_utils/fetch.py\", line 49, in fetch\n",
            "    data = [self.dataset[idx] for idx in possibly_batched_index]\n",
            "  File \"/usr/local/lib/python3.7/dist-packages/torch/utils/data/_utils/fetch.py\", line 49, in <listcomp>\n",
            "    data = [self.dataset[idx] for idx in possibly_batched_index]\n",
            "  File \"/content/WaveRNN/utils/dataset.py\", line 150, in __getitem__\n",
            "    print(\"item_id\", self.text_dict[item_id])\n",
            "KeyError: 'common_voice_hi_27880159'\n",
            "\n"
          ]
        }
      ],
      "source": [
        "!python train_tacotron.py --force_gta"
      ]
    },
    {
      "cell_type": "markdown",
      "metadata": {
        "id": "iuCPaQBFvZue"
      },
      "source": [
        "## working with split data"
      ]
    },
    {
      "cell_type": "code",
      "execution_count": null,
      "metadata": {
        "id": "k-tFrqvRwlxf"
      },
      "outputs": [],
      "source": [
        "import pandas as pd"
      ]
    },
    {
      "cell_type": "code",
      "execution_count": null,
      "metadata": {
        "colab": {
          "base_uri": "https://localhost:8080/"
        },
        "id": "fw388QZOvziz",
        "outputId": "f776b726-f499-4486-e6e8-09f6a555c7ee"
      },
      "outputs": [
        {
          "name": "stdout",
          "output_type": "stream",
          "text": [
            "/content/WaveRNN/test_data\n"
          ]
        }
      ],
      "source": [
        "%cd test_data"
      ]
    },
    {
      "cell_type": "code",
      "execution_count": null,
      "metadata": {
        "id": "TgyAwEVotBwY"
      },
      "outputs": [],
      "source": [
        "files = os.listdir(\"/content/WaveRNN/Dataset/hi/wav\")\n",
        "path = '/content/WaveRNN/Dataset/hi/wav/'\n",
        "dest = './'\n",
        "test_files = files[:67]\n",
        "for i in test_files:\n",
        "  p = path+i\n",
        "  shutil.copy(p, dest)"
      ]
    },
    {
      "cell_type": "code",
      "execution_count": null,
      "metadata": {
        "id": "2pXuxs8N-Tws"
      },
      "outputs": [],
      "source": [
        "ids = []\n",
        "for i in test_files:\n",
        "  id = i.split('.')[0]\n",
        "  ids.append(id)"
      ]
    },
    {
      "cell_type": "code",
      "execution_count": null,
      "metadata": {
        "id": "v0T95NdiwXbQ"
      },
      "outputs": [],
      "source": [
        "data = pd.read_csv(\"/content/WaveRNN/transcripts.csv\")\n",
        "id = data['client_id'][:67]\n",
        "sen = data['sentence'][:67]\n",
        "d = {\"client_id\":ids, \"sentence\":sen}\n",
        "data2 = pd.DataFrame(d)"
      ]
    },
    {
      "cell_type": "code",
      "execution_count": null,
      "metadata": {
        "colab": {
          "base_uri": "https://localhost:8080/",
          "height": 206
        },
        "id": "cbgtlLmVwrua",
        "outputId": "39972669-db26-4733-890a-aeb2a5185b30"
      },
      "outputs": [
        {
          "data": {
            "text/html": [
              "\n",
              "  <div id=\"df-20cff230-b7e3-4c5a-b45f-2c1ad9506cff\">\n",
              "    <div class=\"colab-df-container\">\n",
              "      <div>\n",
              "<style scoped>\n",
              "    .dataframe tbody tr th:only-of-type {\n",
              "        vertical-align: middle;\n",
              "    }\n",
              "\n",
              "    .dataframe tbody tr th {\n",
              "        vertical-align: top;\n",
              "    }\n",
              "\n",
              "    .dataframe thead th {\n",
              "        text-align: right;\n",
              "    }\n",
              "</style>\n",
              "<table border=\"1\" class=\"dataframe\">\n",
              "  <thead>\n",
              "    <tr style=\"text-align: right;\">\n",
              "      <th></th>\n",
              "      <th>client_id</th>\n",
              "      <th>sentence</th>\n",
              "    </tr>\n",
              "  </thead>\n",
              "  <tbody>\n",
              "    <tr>\n",
              "      <th>0</th>\n",
              "      <td>common_voice_hi_24759526</td>\n",
              "      <td>Box office का नया हीरो बना हॉरर, 'लैला मजनू', ...</td>\n",
              "    </tr>\n",
              "    <tr>\n",
              "      <th>1</th>\n",
              "      <td>common_voice_hi_24663150</td>\n",
              "      <td>Opinion: विराट कोहली के लिए बेहतरीन मौका</td>\n",
              "    </tr>\n",
              "    <tr>\n",
              "      <th>2</th>\n",
              "      <td>common_voice_hi_27517816</td>\n",
              "      <td>तुम्हारे बहुत सारे दुशमन हैं।</td>\n",
              "    </tr>\n",
              "    <tr>\n",
              "      <th>3</th>\n",
              "      <td>common_voice_hi_27478402</td>\n",
              "      <td>तोहफे के रूप में लोगों की पहली पंसद है चॉकलेट</td>\n",
              "    </tr>\n",
              "    <tr>\n",
              "      <th>4</th>\n",
              "      <td>common_voice_hi_26132089</td>\n",
              "      <td>वे एक-साथ खेल रहे हैं।</td>\n",
              "    </tr>\n",
              "  </tbody>\n",
              "</table>\n",
              "</div>\n",
              "      <button class=\"colab-df-convert\" onclick=\"convertToInteractive('df-20cff230-b7e3-4c5a-b45f-2c1ad9506cff')\"\n",
              "              title=\"Convert this dataframe to an interactive table.\"\n",
              "              style=\"display:none;\">\n",
              "        \n",
              "  <svg xmlns=\"http://www.w3.org/2000/svg\" height=\"24px\"viewBox=\"0 0 24 24\"\n",
              "       width=\"24px\">\n",
              "    <path d=\"M0 0h24v24H0V0z\" fill=\"none\"/>\n",
              "    <path d=\"M18.56 5.44l.94 2.06.94-2.06 2.06-.94-2.06-.94-.94-2.06-.94 2.06-2.06.94zm-11 1L8.5 8.5l.94-2.06 2.06-.94-2.06-.94L8.5 2.5l-.94 2.06-2.06.94zm10 10l.94 2.06.94-2.06 2.06-.94-2.06-.94-.94-2.06-.94 2.06-2.06.94z\"/><path d=\"M17.41 7.96l-1.37-1.37c-.4-.4-.92-.59-1.43-.59-.52 0-1.04.2-1.43.59L10.3 9.45l-7.72 7.72c-.78.78-.78 2.05 0 2.83L4 21.41c.39.39.9.59 1.41.59.51 0 1.02-.2 1.41-.59l7.78-7.78 2.81-2.81c.8-.78.8-2.07 0-2.86zM5.41 20L4 18.59l7.72-7.72 1.47 1.35L5.41 20z\"/>\n",
              "  </svg>\n",
              "      </button>\n",
              "      \n",
              "  <style>\n",
              "    .colab-df-container {\n",
              "      display:flex;\n",
              "      flex-wrap:wrap;\n",
              "      gap: 12px;\n",
              "    }\n",
              "\n",
              "    .colab-df-convert {\n",
              "      background-color: #E8F0FE;\n",
              "      border: none;\n",
              "      border-radius: 50%;\n",
              "      cursor: pointer;\n",
              "      display: none;\n",
              "      fill: #1967D2;\n",
              "      height: 32px;\n",
              "      padding: 0 0 0 0;\n",
              "      width: 32px;\n",
              "    }\n",
              "\n",
              "    .colab-df-convert:hover {\n",
              "      background-color: #E2EBFA;\n",
              "      box-shadow: 0px 1px 2px rgba(60, 64, 67, 0.3), 0px 1px 3px 1px rgba(60, 64, 67, 0.15);\n",
              "      fill: #174EA6;\n",
              "    }\n",
              "\n",
              "    [theme=dark] .colab-df-convert {\n",
              "      background-color: #3B4455;\n",
              "      fill: #D2E3FC;\n",
              "    }\n",
              "\n",
              "    [theme=dark] .colab-df-convert:hover {\n",
              "      background-color: #434B5C;\n",
              "      box-shadow: 0px 1px 3px 1px rgba(0, 0, 0, 0.15);\n",
              "      filter: drop-shadow(0px 1px 2px rgba(0, 0, 0, 0.3));\n",
              "      fill: #FFFFFF;\n",
              "    }\n",
              "  </style>\n",
              "\n",
              "      <script>\n",
              "        const buttonEl =\n",
              "          document.querySelector('#df-20cff230-b7e3-4c5a-b45f-2c1ad9506cff button.colab-df-convert');\n",
              "        buttonEl.style.display =\n",
              "          google.colab.kernel.accessAllowed ? 'block' : 'none';\n",
              "\n",
              "        async function convertToInteractive(key) {\n",
              "          const element = document.querySelector('#df-20cff230-b7e3-4c5a-b45f-2c1ad9506cff');\n",
              "          const dataTable =\n",
              "            await google.colab.kernel.invokeFunction('convertToInteractive',\n",
              "                                                     [key], {});\n",
              "          if (!dataTable) return;\n",
              "\n",
              "          const docLinkHtml = 'Like what you see? Visit the ' +\n",
              "            '<a target=\"_blank\" href=https://colab.research.google.com/notebooks/data_table.ipynb>data table notebook</a>'\n",
              "            + ' to learn more about interactive tables.';\n",
              "          element.innerHTML = '';\n",
              "          dataTable['output_type'] = 'display_data';\n",
              "          await google.colab.output.renderOutput(dataTable, element);\n",
              "          const docLink = document.createElement('div');\n",
              "          docLink.innerHTML = docLinkHtml;\n",
              "          element.appendChild(docLink);\n",
              "        }\n",
              "      </script>\n",
              "    </div>\n",
              "  </div>\n",
              "  "
            ],
            "text/plain": [
              "                  client_id                                           sentence\n",
              "0  common_voice_hi_24759526  Box office का नया हीरो बना हॉरर, 'लैला मजनू', ...\n",
              "1  common_voice_hi_24663150           Opinion: विराट कोहली के लिए बेहतरीन मौका\n",
              "2  common_voice_hi_27517816                      तुम्हारे बहुत सारे दुशमन हैं।\n",
              "3  common_voice_hi_27478402      तोहफे के रूप में लोगों की पहली पंसद है चॉकलेट\n",
              "4  common_voice_hi_26132089                             वे एक-साथ खेल रहे हैं।"
            ]
          },
          "execution_count": 94,
          "metadata": {},
          "output_type": "execute_result"
        }
      ],
      "source": [
        "data2.head(5)"
      ]
    },
    {
      "cell_type": "code",
      "execution_count": null,
      "metadata": {
        "colab": {
          "base_uri": "https://localhost:8080/"
        },
        "id": "RLPNjxYg-wS4",
        "outputId": "2457389f-96eb-4045-d501-a4c2ad6f3f7a"
      },
      "outputs": [
        {
          "name": "stdout",
          "output_type": "stream",
          "text": [
            "/content/WaveRNN\n"
          ]
        }
      ],
      "source": [
        "%cd .."
      ]
    },
    {
      "cell_type": "code",
      "execution_count": null,
      "metadata": {
        "id": "wZT6Fq4DxnVn"
      },
      "outputs": [],
      "source": [
        "data2.to_csv(\"transcripts.csv\")"
      ]
    },
    {
      "cell_type": "code",
      "execution_count": null,
      "metadata": {
        "colab": {
          "base_uri": "https://localhost:8080/",
          "height": 36
        },
        "id": "oDzyHGsT-qh_",
        "outputId": "884b44bd-eccf-4f6d-affc-61e630ee0100"
      },
      "outputs": [
        {
          "data": {
            "application/vnd.google.colaboratory.intrinsic+json": {
              "type": "string"
            },
            "text/plain": [
              "'/content/WaveRNN/Dataset/hi/wav/transcripts.csv'"
            ]
          },
          "execution_count": 88,
          "metadata": {},
          "output_type": "execute_result"
        }
      ],
      "source": [
        "shutil.copy('/content/WaveRNN/transcripts.csv','/content/WaveRNN/Dataset/hi/wav')"
      ]
    },
    {
      "cell_type": "code",
      "execution_count": null,
      "metadata": {
        "id": "qEAajwF71f16"
      },
      "outputs": [],
      "source": [
        "data2 = pd.read_csv(\"/content/WaveRNN/test_data/transcripts.csv\")"
      ]
    },
    {
      "cell_type": "code",
      "execution_count": null,
      "metadata": {
        "colab": {
          "base_uri": "https://localhost:8080/"
        },
        "id": "GHprEzbs3TBB",
        "outputId": "944b7e77-9c62-4128-8c3c-90aa6ff7ac61"
      },
      "outputs": [
        {
          "name": "stderr",
          "output_type": "stream",
          "text": [
            "/usr/local/lib/python3.7/dist-packages/ipykernel_launcher.py:1: FutureWarning: In a future version of pandas all arguments of DataFrame.drop except for the argument 'labels' will be keyword-only\n",
            "  \"\"\"Entry point for launching an IPython kernel.\n"
          ]
        }
      ],
      "source": [
        "data2 = data2.drop(\"Unnamed: 0\", 1)"
      ]
    },
    {
      "cell_type": "code",
      "execution_count": null,
      "metadata": {
        "id": "LLZ-iY1S3TFD"
      },
      "outputs": [],
      "source": [
        "data2.to_csv(\"transcripts.csv\")"
      ]
    },
    {
      "cell_type": "code",
      "execution_count": null,
      "metadata": {
        "colab": {
          "base_uri": "https://localhost:8080/",
          "height": 36
        },
        "id": "gM9gOHgO93rC",
        "outputId": "81868c7b-8ce1-4275-9c1f-e0db9a23302f"
      },
      "outputs": [
        {
          "data": {
            "application/vnd.google.colaboratory.intrinsic+json": {
              "type": "string"
            },
            "text/plain": [
              "'common_voice_hi_24759526'"
            ]
          },
          "execution_count": 101,
          "metadata": {},
          "output_type": "execute_result"
        }
      ],
      "source": [
        "data2['client_id'][0]"
      ]
    },
    {
      "cell_type": "code",
      "execution_count": null,
      "metadata": {
        "colab": {
          "base_uri": "https://localhost:8080/",
          "height": 36
        },
        "id": "f2VIC9y84h_p",
        "outputId": "f8fb567e-2bba-4790-a49d-e06e50fd4ca2"
      },
      "outputs": [
        {
          "data": {
            "application/vnd.google.colaboratory.intrinsic+json": {
              "type": "string"
            },
            "text/plain": [
              "'/content/WaveRNN/test_data/test_data.csv'"
            ]
          },
          "execution_count": 64,
          "metadata": {},
          "output_type": "execute_result"
        }
      ],
      "source": [
        "shutil.copy('/content/WaveRNN/test_data.csv','/content/WaveRNN/test_data')"
      ]
    },
    {
      "cell_type": "markdown",
      "metadata": {
        "id": "1Scq19bq1T-1"
      },
      "source": [
        "##Preprocessing"
      ]
    },
    {
      "cell_type": "code",
      "execution_count": null,
      "metadata": {
        "id": "6HPSz4eAAmEc"
      },
      "outputs": [],
      "source": [
        ""
      ]
    },
    {
      "cell_type": "code",
      "execution_count": null,
      "metadata": {
        "colab": {
          "base_uri": "https://localhost:8080/"
        },
        "id": "M4IVMO4r1PKm",
        "outputId": "17d6de84-d429-44b7-9f94-02f49d4d7ba1"
      },
      "outputs": [
        {
          "name": "stdout",
          "output_type": "stream",
          "text": [
            "\n",
            "67 wav files found in \"./test_data\"\n",
            "\n",
            "+-------------+-----------+--------+------------+-----------+\n",
            "| Sample Rate | Bit Depth | Mu Law | Hop Length | CPU Usage |\n",
            "+-------------+-----------+--------+------------+-----------+\n",
            "|    22050    |     9     |  True  |    275     |    1/2    |\n",
            "+-------------+-----------+--------+------------+-----------+\n",
            " \n",
            "████████████████ 67/67 \n",
            "\n",
            "Completed. Ready to run \"python train_tacotron.py\" or \"python train_wavernn.py\". \n",
            "\n"
          ]
        }
      ],
      "source": [
        "!python preprocess.py --path './test_data'"
      ]
    },
    {
      "cell_type": "code",
      "execution_count": null,
      "metadata": {
        "colab": {
          "base_uri": "https://localhost:8080/"
        },
        "id": "p6JD6UAN1lv4",
        "outputId": "07a28f34-7f3d-4a54-e429-b9384171abbe"
      },
      "outputs": [
        {
          "name": "stdout",
          "output_type": "stream",
          "text": [
            "Using device: cuda\n",
            "\n",
            "Initialising Tacotron Model...\n",
            "\n",
            "Trainable Parameters: 11.088M\n",
            "Restoring from latest checkpoint...\n",
            "Loading latest weights: /content/WaveRNN/checkpoints/ljspeech_lsa_smooth_attention.tacotron/latest_weights.pyt\n",
            "Loading latest optimizer state: /content/WaveRNN/checkpoints/ljspeech_lsa_smooth_attention.tacotron/latest_optim.pyt\n",
            "+----------------+------------+---------------+------------------+\n",
            "| Steps with r=7 | Batch Size | Learning Rate | Outputs/Step (r) |\n",
            "+----------------+------------+---------------+------------------+\n",
            "|   10k Steps    |     32     |     0.001     |        7         |\n",
            "+----------------+------------+---------------+------------------+\n",
            " \n",
            "Traceback (most recent call last):\n",
            "  File \"train_tacotron.py\", line 202, in <module>\n",
            "    main()\n",
            "  File \"train_tacotron.py\", line 98, in main\n",
            "    tts_train_loop(paths, model, optimizer, train_set, lr, training_steps, attn_example)\n",
            "  File \"train_tacotron.py\", line 126, in tts_train_loop\n",
            "    for i, (x, m, ids, _) in enumerate(train_set, 1):\n",
            "  File \"/usr/local/lib/python3.7/dist-packages/torch/utils/data/dataloader.py\", line 359, in __iter__\n",
            "    return self._get_iterator()\n",
            "  File \"/usr/local/lib/python3.7/dist-packages/torch/utils/data/dataloader.py\", line 305, in _get_iterator\n",
            "    return _MultiProcessingDataLoaderIter(self)\n",
            "  File \"/usr/local/lib/python3.7/dist-packages/torch/utils/data/dataloader.py\", line 944, in __init__\n",
            "    self._reset(loader, first_iter=True)\n",
            "  File \"/usr/local/lib/python3.7/dist-packages/torch/utils/data/dataloader.py\", line 975, in _reset\n",
            "    self._try_put_index()\n",
            "  File \"/usr/local/lib/python3.7/dist-packages/torch/utils/data/dataloader.py\", line 1209, in _try_put_index\n",
            "    index = self._next_index()\n",
            "  File \"/usr/local/lib/python3.7/dist-packages/torch/utils/data/dataloader.py\", line 512, in _next_index\n",
            "    return next(self._sampler_iter)  # may raise StopIteration\n",
            "  File \"/usr/local/lib/python3.7/dist-packages/torch/utils/data/sampler.py\", line 229, in __iter__\n",
            "    for idx in self.sampler:\n",
            "  File \"/content/WaveRNN/utils/dataset.py\", line 215, in __iter__\n",
            "    binned_idx = np.stack(bins).reshape(-1)\n",
            "  File \"<__array_function__ internals>\", line 6, in stack\n",
            "  File \"/usr/local/lib/python3.7/dist-packages/numpy/core/shape_base.py\", line 423, in stack\n",
            "    raise ValueError('need at least one array to stack')\n",
            "ValueError: need at least one array to stack\n"
          ]
        }
      ],
      "source": [
        "!python train_tacotron.py"
      ]
    },
    {
      "cell_type": "code",
      "execution_count": null,
      "metadata": {
        "colab": {
          "base_uri": "https://localhost:8080/"
        },
        "id": "zZciz0Zv2aiS",
        "outputId": "d3f05f16-3ef9-41bb-b6af-a923462846f7"
      },
      "outputs": [
        {
          "data": {
            "text/plain": [
              "array([1, 2, 3, 4, 5, 6])"
            ]
          },
          "execution_count": 69,
          "metadata": {},
          "output_type": "execute_result"
        }
      ],
      "source": [
        "lst = [1,2,3,4,5,6]\n",
        "import numpy as np\n",
        "np.stack(lst).reshape(-1)"
      ]
    },
    {
      "cell_type": "code",
      "execution_count": null,
      "metadata": {
        "id": "wNfjqgjx55jk"
      },
      "outputs": [],
      "source": [
        ""
      ]
    },
    {
      "cell_type": "markdown",
      "metadata": {
        "id": "FWNs0GWJNdsC"
      },
      "source": [
        "# OpenSLR data"
      ]
    },
    {
      "cell_type": "code",
      "execution_count": null,
      "metadata": {
        "colab": {
          "base_uri": "https://localhost:8080/"
        },
        "id": "ZC_j94zWNf4I",
        "outputId": "161068c3-e15c-4cb1-d9cd-51f47e144c78"
      },
      "outputs": [
        {
          "name": "stdout",
          "output_type": "stream",
          "text": [
            "Cloning into 'WaveRNN'...\n",
            "remote: Enumerating objects: 928, done.\u001b[K\n",
            "remote: Total 928 (delta 0), reused 0 (delta 0), pack-reused 928\u001b[K\n",
            "Receiving objects: 100% (928/928), 242.13 MiB | 43.16 MiB/s, done.\n",
            "Resolving deltas: 100% (525/525), done.\n"
          ]
        }
      ],
      "source": [
        "!git clone https://github.com/fatchord/WaveRNN.git"
      ]
    },
    {
      "cell_type": "code",
      "execution_count": null,
      "metadata": {
        "id": "oQTX_EzqNk8K"
      },
      "outputs": [],
      "source": [
        "%cd WaveRNN/\n",
        "!pip install -r requirements.txt"
      ]
    },
    {
      "cell_type": "code",
      "execution_count": null,
      "metadata": {
        "colab": {
          "base_uri": "https://localhost:8080/"
        },
        "id": "p7AmfMceNzNh",
        "outputId": "800208ec-54ab-4175-a927-6e1cbd04543e"
      },
      "outputs": [
        {
          "name": "stdout",
          "output_type": "stream",
          "text": [
            "/content/WaveRNN/data\n"
          ]
        }
      ],
      "source": [
        "!mkdir data\n",
        "%cd data\n",
        "!tar -xf '/content/drive/MyDrive/Voice Cloning/Synthesizer/hi_trcotron_processed.tar'"
      ]
    },
    {
      "cell_type": "code",
      "execution_count": null,
      "metadata": {
        "id": "DJpWiNDKmUsE"
      },
      "outputs": [],
      "source": [
        "os.chdir('/content/drive/MyDrive/Voice Cloning/Synthesizer')"
      ]
    },
    {
      "cell_type": "code",
      "execution_count": null,
      "metadata": {
        "colab": {
          "base_uri": "https://localhost:8080/",
          "height": 36
        },
        "id": "5TbdgMl5mIKf",
        "outputId": "963b1788-94d2-4b4a-c0a3-ac6dcdc527d8"
      },
      "outputs": [
        {
          "data": {
            "application/vnd.google.colaboratory.intrinsic+json": {
              "type": "string"
            },
            "text/plain": [
              "'/content/drive/MyDrive/Voice Cloning/Synthesizer/WaveRNN_Pure.tar'"
            ]
          },
          "execution_count": 128,
          "metadata": {},
          "output_type": "execute_result"
        }
      ],
      "source": [
        "shutil.make_archive(\"WaveRNN_Pure\",\"tar\",\"/content/WaveRNN\")"
      ]
    },
    {
      "cell_type": "code",
      "execution_count": null,
      "metadata": {
        "id": "crWNy2TvsNJO"
      },
      "outputs": [],
      "source": [
        "# Lets take a peek at the text_data.pkl file\n",
        "import pickle\n",
        "\n",
        "with open(\"/content/WaveRNN/data/text_dict.pkl\", 'rb') as f:\n",
        "  data = pickle.load(f)"
      ]
    },
    {
      "cell_type": "code",
      "execution_count": null,
      "metadata": {
        "colab": {
          "base_uri": "https://localhost:8080/"
        },
        "id": "XTaobrzmtrel",
        "outputId": "b66470c0-af83-4a6f-d114-e6df9700af0a"
      },
      "outputs": [
        {
          "name": "stdout",
          "output_type": "stream",
          "text": [
            "key: text_01001,\" प्रसिद्द कबीर अध्येता, पुरुषोत्तम अग्रवाल का यह शोध आलेख, उस रामानंद की खोज करता है \"\n",
            "\n",
            "value: text_01001,\" प्रसिद्द कबीर अध्येता, पुरुषोत्तम अग्रवाल का यह शोध आलेख, उस रामानंद की खोज करता है \"\n",
            "\n",
            "key: text_01002,\" किन्तु आधुनिक पांडित्य, न सिर्फ़ एक ब्राह्मण रामानंद के, एक जुलाहे कबीर का गुरु होने से, बल्कि दोनों के समकालीन होने से भी, इनकार करता है \"\n",
            "\n",
            "value: text_01002,\" किन्तु आधुनिक पांडित्य, न सिर्फ़ एक ब्राह्मण रामानंद के, एक जुलाहे कबीर का गुरु होने से, बल्कि दोनों के समकालीन होने से भी, इनकार करता है \"\n",
            "\n"
          ]
        }
      ],
      "source": [
        "cnt = 1\n",
        "for key, val in data.items():\n",
        "  print(\"key:\", key)\n",
        "  print(\"value:\", val)\n",
        "  cnt+=1\n",
        "  if cnt == 3:\n",
        "    break"
      ]
    },
    {
      "cell_type": "code",
      "execution_count": null,
      "metadata": {
        "colab": {
          "base_uri": "https://localhost:8080/",
          "height": 424
        },
        "id": "2Yh7zxTfseKJ",
        "outputId": "6d724e7f-7d81-4df5-fcf7-dd90fe4d25dc"
      },
      "outputs": [
        {
          "data": {
            "text/html": [
              "\n",
              "  <div id=\"df-a17a2b78-d123-4c5c-86c1-f4cda4a0a297\">\n",
              "    <div class=\"colab-df-container\">\n",
              "      <div>\n",
              "<style scoped>\n",
              "    .dataframe tbody tr th:only-of-type {\n",
              "        vertical-align: middle;\n",
              "    }\n",
              "\n",
              "    .dataframe tbody tr th {\n",
              "        vertical-align: top;\n",
              "    }\n",
              "\n",
              "    .dataframe thead th {\n",
              "        text-align: right;\n",
              "    }\n",
              "</style>\n",
              "<table border=\"1\" class=\"dataframe\">\n",
              "  <thead>\n",
              "    <tr style=\"text-align: right;\">\n",
              "      <th></th>\n",
              "      <th>VoxCeleb1 ID\\tVGGFace1 ID\\tGender\\tNationality\\tSet</th>\n",
              "    </tr>\n",
              "  </thead>\n",
              "  <tbody>\n",
              "    <tr>\n",
              "      <th>0</th>\n",
              "      <td>id10001\\tA.J._Buckley\\tm\\tIreland\\tdev</td>\n",
              "    </tr>\n",
              "    <tr>\n",
              "      <th>1</th>\n",
              "      <td>id10002\\tA.R._Rahman\\tm\\tIndia\\tdev</td>\n",
              "    </tr>\n",
              "    <tr>\n",
              "      <th>2</th>\n",
              "      <td>id10003\\tAamir_Khan\\tm\\tIndia\\tdev</td>\n",
              "    </tr>\n",
              "    <tr>\n",
              "      <th>3</th>\n",
              "      <td>id10004\\tAaron_Tveit\\tm\\tUSA\\tdev</td>\n",
              "    </tr>\n",
              "    <tr>\n",
              "      <th>4</th>\n",
              "      <td>id10005\\tAaron_Yoo\\tm\\tUSA\\tdev</td>\n",
              "    </tr>\n",
              "    <tr>\n",
              "      <th>...</th>\n",
              "      <td>...</td>\n",
              "    </tr>\n",
              "    <tr>\n",
              "      <th>1246</th>\n",
              "      <td>id11247\\tZachary_Levi\\tm\\tUSA\\tdev</td>\n",
              "    </tr>\n",
              "    <tr>\n",
              "      <th>1247</th>\n",
              "      <td>id11248\\tZachary_Quinto\\tm\\tUSA\\tdev</td>\n",
              "    </tr>\n",
              "    <tr>\n",
              "      <th>1248</th>\n",
              "      <td>id11249\\tZack_Snyder\\tm\\tUSA\\tdev</td>\n",
              "    </tr>\n",
              "    <tr>\n",
              "      <th>1249</th>\n",
              "      <td>id11250\\tZoe_Saldana\\tf\\tUSA\\tdev</td>\n",
              "    </tr>\n",
              "    <tr>\n",
              "      <th>1250</th>\n",
              "      <td>id11251\\tZulay_Henao\\tf\\tUSA\\tdev</td>\n",
              "    </tr>\n",
              "  </tbody>\n",
              "</table>\n",
              "<p>1251 rows × 1 columns</p>\n",
              "</div>\n",
              "      <button class=\"colab-df-convert\" onclick=\"convertToInteractive('df-a17a2b78-d123-4c5c-86c1-f4cda4a0a297')\"\n",
              "              title=\"Convert this dataframe to an interactive table.\"\n",
              "              style=\"display:none;\">\n",
              "        \n",
              "  <svg xmlns=\"http://www.w3.org/2000/svg\" height=\"24px\"viewBox=\"0 0 24 24\"\n",
              "       width=\"24px\">\n",
              "    <path d=\"M0 0h24v24H0V0z\" fill=\"none\"/>\n",
              "    <path d=\"M18.56 5.44l.94 2.06.94-2.06 2.06-.94-2.06-.94-.94-2.06-.94 2.06-2.06.94zm-11 1L8.5 8.5l.94-2.06 2.06-.94-2.06-.94L8.5 2.5l-.94 2.06-2.06.94zm10 10l.94 2.06.94-2.06 2.06-.94-2.06-.94-.94-2.06-.94 2.06-2.06.94z\"/><path d=\"M17.41 7.96l-1.37-1.37c-.4-.4-.92-.59-1.43-.59-.52 0-1.04.2-1.43.59L10.3 9.45l-7.72 7.72c-.78.78-.78 2.05 0 2.83L4 21.41c.39.39.9.59 1.41.59.51 0 1.02-.2 1.41-.59l7.78-7.78 2.81-2.81c.8-.78.8-2.07 0-2.86zM5.41 20L4 18.59l7.72-7.72 1.47 1.35L5.41 20z\"/>\n",
              "  </svg>\n",
              "      </button>\n",
              "      \n",
              "  <style>\n",
              "    .colab-df-container {\n",
              "      display:flex;\n",
              "      flex-wrap:wrap;\n",
              "      gap: 12px;\n",
              "    }\n",
              "\n",
              "    .colab-df-convert {\n",
              "      background-color: #E8F0FE;\n",
              "      border: none;\n",
              "      border-radius: 50%;\n",
              "      cursor: pointer;\n",
              "      display: none;\n",
              "      fill: #1967D2;\n",
              "      height: 32px;\n",
              "      padding: 0 0 0 0;\n",
              "      width: 32px;\n",
              "    }\n",
              "\n",
              "    .colab-df-convert:hover {\n",
              "      background-color: #E2EBFA;\n",
              "      box-shadow: 0px 1px 2px rgba(60, 64, 67, 0.3), 0px 1px 3px 1px rgba(60, 64, 67, 0.15);\n",
              "      fill: #174EA6;\n",
              "    }\n",
              "\n",
              "    [theme=dark] .colab-df-convert {\n",
              "      background-color: #3B4455;\n",
              "      fill: #D2E3FC;\n",
              "    }\n",
              "\n",
              "    [theme=dark] .colab-df-convert:hover {\n",
              "      background-color: #434B5C;\n",
              "      box-shadow: 0px 1px 3px 1px rgba(0, 0, 0, 0.15);\n",
              "      filter: drop-shadow(0px 1px 2px rgba(0, 0, 0, 0.3));\n",
              "      fill: #FFFFFF;\n",
              "    }\n",
              "  </style>\n",
              "\n",
              "      <script>\n",
              "        const buttonEl =\n",
              "          document.querySelector('#df-a17a2b78-d123-4c5c-86c1-f4cda4a0a297 button.colab-df-convert');\n",
              "        buttonEl.style.display =\n",
              "          google.colab.kernel.accessAllowed ? 'block' : 'none';\n",
              "\n",
              "        async function convertToInteractive(key) {\n",
              "          const element = document.querySelector('#df-a17a2b78-d123-4c5c-86c1-f4cda4a0a297');\n",
              "          const dataTable =\n",
              "            await google.colab.kernel.invokeFunction('convertToInteractive',\n",
              "                                                     [key], {});\n",
              "          if (!dataTable) return;\n",
              "\n",
              "          const docLinkHtml = 'Like what you see? Visit the ' +\n",
              "            '<a target=\"_blank\" href=https://colab.research.google.com/notebooks/data_table.ipynb>data table notebook</a>'\n",
              "            + ' to learn more about interactive tables.';\n",
              "          element.innerHTML = '';\n",
              "          dataTable['output_type'] = 'display_data';\n",
              "          await google.colab.output.renderOutput(dataTable, element);\n",
              "          const docLink = document.createElement('div');\n",
              "          docLink.innerHTML = docLinkHtml;\n",
              "          element.appendChild(docLink);\n",
              "        }\n",
              "      </script>\n",
              "    </div>\n",
              "  </div>\n",
              "  "
            ],
            "text/plain": [
              "     VoxCeleb1 ID\\tVGGFace1 ID\\tGender\\tNationality\\tSet\n",
              "0                id10001\\tA.J._Buckley\\tm\\tIreland\\tdev \n",
              "1                   id10002\\tA.R._Rahman\\tm\\tIndia\\tdev \n",
              "2                    id10003\\tAamir_Khan\\tm\\tIndia\\tdev \n",
              "3                     id10004\\tAaron_Tveit\\tm\\tUSA\\tdev \n",
              "4                       id10005\\tAaron_Yoo\\tm\\tUSA\\tdev \n",
              "...                                                 ... \n",
              "1246                 id11247\\tZachary_Levi\\tm\\tUSA\\tdev \n",
              "1247               id11248\\tZachary_Quinto\\tm\\tUSA\\tdev \n",
              "1248                  id11249\\tZack_Snyder\\tm\\tUSA\\tdev \n",
              "1249                  id11250\\tZoe_Saldana\\tf\\tUSA\\tdev \n",
              "1250                  id11251\\tZulay_Henao\\tf\\tUSA\\tdev \n",
              "\n",
              "[1251 rows x 1 columns]"
            ]
          },
          "execution_count": 27,
          "metadata": {},
          "output_type": "execute_result"
        }
      ],
      "source": [
        "temp = pd.read_csv(\"/content/WaveRNN/data/vox1_meta.csv\")\n",
        "temp"
      ]
    },
    {
      "cell_type": "code",
      "execution_count": null,
      "metadata": {
        "colab": {
          "base_uri": "https://localhost:8080/"
        },
        "id": "RvyhhNemzSSD",
        "outputId": "3cb9ef9b-f780-467b-c3a9-700d3328d863"
      },
      "outputs": [
        {
          "name": "stdout",
          "output_type": "stream",
          "text": [
            "/content/WaveRNN\n"
          ]
        }
      ],
      "source": [
        "%cd .."
      ]
    },
    {
      "cell_type": "code",
      "execution_count": null,
      "metadata": {
        "id": "g_LcAgpFODOe"
      },
      "outputs": [],
      "source": [
        "files = os.listdir(\"/content/WaveRNN/Dataset/wav\")\n",
        "# len(files)\n",
        "for i in files:\n",
        "  p = i.split('.')[1]\n",
        "  if p != 'wav':\n",
        "    print(i)"
      ]
    },
    {
      "cell_type": "markdown",
      "metadata": {
        "id": "iCTqQgz0O0eD"
      },
      "source": [
        "all files are here wav files"
      ]
    },
    {
      "cell_type": "code",
      "execution_count": null,
      "metadata": {
        "id": "VjW_kCtbxyB9"
      },
      "outputs": [],
      "source": [
        ""
      ]
    },
    {
      "cell_type": "code",
      "execution_count": null,
      "metadata": {
        "colab": {
          "base_uri": "https://localhost:8080/",
          "height": 206
        },
        "id": "ywmsxR1qxyF0",
        "outputId": "a7521b41-d318-445d-9534-b3bba31bd61b"
      },
      "outputs": [
        {
          "data": {
            "text/html": [
              "\n",
              "  <div id=\"df-4a431882-0590-45ab-9641-5174f9270b6a\">\n",
              "    <div class=\"colab-df-container\">\n",
              "      <div>\n",
              "<style scoped>\n",
              "    .dataframe tbody tr th:only-of-type {\n",
              "        vertical-align: middle;\n",
              "    }\n",
              "\n",
              "    .dataframe tbody tr th {\n",
              "        vertical-align: top;\n",
              "    }\n",
              "\n",
              "    .dataframe thead th {\n",
              "        text-align: right;\n",
              "    }\n",
              "</style>\n",
              "<table border=\"1\" class=\"dataframe\">\n",
              "  <thead>\n",
              "    <tr style=\"text-align: right;\">\n",
              "      <th></th>\n",
              "      <th>ID</th>\n",
              "      <th>Transcript</th>\n",
              "    </tr>\n",
              "  </thead>\n",
              "  <tbody>\n",
              "    <tr>\n",
              "      <th>0</th>\n",
              "      <td>text_01001</td>\n",
              "      <td>प्रसिद्द कबीर अध्येता, पुरुषोत्तम अग्रवाल का ...</td>\n",
              "    </tr>\n",
              "    <tr>\n",
              "      <th>1</th>\n",
              "      <td>text_01002</td>\n",
              "      <td>किन्तु आधुनिक पांडित्य, न सिर्फ़ एक ब्राह्मण ...</td>\n",
              "    </tr>\n",
              "    <tr>\n",
              "      <th>2</th>\n",
              "      <td>text_01003</td>\n",
              "      <td>उस पर, इन चार कवियों का गहरा असर है</td>\n",
              "    </tr>\n",
              "    <tr>\n",
              "      <th>3</th>\n",
              "      <td>text_01004</td>\n",
              "      <td>इसे कई बार, मंचित भी किया गया है</td>\n",
              "    </tr>\n",
              "    <tr>\n",
              "      <th>4</th>\n",
              "      <td>text_01005</td>\n",
              "      <td>यहाँ प्रस्तुत है, हिन्दी कवि कथाकार, तेजी ग्र...</td>\n",
              "    </tr>\n",
              "  </tbody>\n",
              "</table>\n",
              "</div>\n",
              "      <button class=\"colab-df-convert\" onclick=\"convertToInteractive('df-4a431882-0590-45ab-9641-5174f9270b6a')\"\n",
              "              title=\"Convert this dataframe to an interactive table.\"\n",
              "              style=\"display:none;\">\n",
              "        \n",
              "  <svg xmlns=\"http://www.w3.org/2000/svg\" height=\"24px\"viewBox=\"0 0 24 24\"\n",
              "       width=\"24px\">\n",
              "    <path d=\"M0 0h24v24H0V0z\" fill=\"none\"/>\n",
              "    <path d=\"M18.56 5.44l.94 2.06.94-2.06 2.06-.94-2.06-.94-.94-2.06-.94 2.06-2.06.94zm-11 1L8.5 8.5l.94-2.06 2.06-.94-2.06-.94L8.5 2.5l-.94 2.06-2.06.94zm10 10l.94 2.06.94-2.06 2.06-.94-2.06-.94-.94-2.06-.94 2.06-2.06.94z\"/><path d=\"M17.41 7.96l-1.37-1.37c-.4-.4-.92-.59-1.43-.59-.52 0-1.04.2-1.43.59L10.3 9.45l-7.72 7.72c-.78.78-.78 2.05 0 2.83L4 21.41c.39.39.9.59 1.41.59.51 0 1.02-.2 1.41-.59l7.78-7.78 2.81-2.81c.8-.78.8-2.07 0-2.86zM5.41 20L4 18.59l7.72-7.72 1.47 1.35L5.41 20z\"/>\n",
              "  </svg>\n",
              "      </button>\n",
              "      \n",
              "  <style>\n",
              "    .colab-df-container {\n",
              "      display:flex;\n",
              "      flex-wrap:wrap;\n",
              "      gap: 12px;\n",
              "    }\n",
              "\n",
              "    .colab-df-convert {\n",
              "      background-color: #E8F0FE;\n",
              "      border: none;\n",
              "      border-radius: 50%;\n",
              "      cursor: pointer;\n",
              "      display: none;\n",
              "      fill: #1967D2;\n",
              "      height: 32px;\n",
              "      padding: 0 0 0 0;\n",
              "      width: 32px;\n",
              "    }\n",
              "\n",
              "    .colab-df-convert:hover {\n",
              "      background-color: #E2EBFA;\n",
              "      box-shadow: 0px 1px 2px rgba(60, 64, 67, 0.3), 0px 1px 3px 1px rgba(60, 64, 67, 0.15);\n",
              "      fill: #174EA6;\n",
              "    }\n",
              "\n",
              "    [theme=dark] .colab-df-convert {\n",
              "      background-color: #3B4455;\n",
              "      fill: #D2E3FC;\n",
              "    }\n",
              "\n",
              "    [theme=dark] .colab-df-convert:hover {\n",
              "      background-color: #434B5C;\n",
              "      box-shadow: 0px 1px 3px 1px rgba(0, 0, 0, 0.15);\n",
              "      filter: drop-shadow(0px 1px 2px rgba(0, 0, 0, 0.3));\n",
              "      fill: #FFFFFF;\n",
              "    }\n",
              "  </style>\n",
              "\n",
              "      <script>\n",
              "        const buttonEl =\n",
              "          document.querySelector('#df-4a431882-0590-45ab-9641-5174f9270b6a button.colab-df-convert');\n",
              "        buttonEl.style.display =\n",
              "          google.colab.kernel.accessAllowed ? 'block' : 'none';\n",
              "\n",
              "        async function convertToInteractive(key) {\n",
              "          const element = document.querySelector('#df-4a431882-0590-45ab-9641-5174f9270b6a');\n",
              "          const dataTable =\n",
              "            await google.colab.kernel.invokeFunction('convertToInteractive',\n",
              "                                                     [key], {});\n",
              "          if (!dataTable) return;\n",
              "\n",
              "          const docLinkHtml = 'Like what you see? Visit the ' +\n",
              "            '<a target=\"_blank\" href=https://colab.research.google.com/notebooks/data_table.ipynb>data table notebook</a>'\n",
              "            + ' to learn more about interactive tables.';\n",
              "          element.innerHTML = '';\n",
              "          dataTable['output_type'] = 'display_data';\n",
              "          await google.colab.output.renderOutput(dataTable, element);\n",
              "          const docLink = document.createElement('div');\n",
              "          docLink.innerHTML = docLinkHtml;\n",
              "          element.appendChild(docLink);\n",
              "        }\n",
              "      </script>\n",
              "    </div>\n",
              "  </div>\n",
              "  "
            ],
            "text/plain": [
              "           ID                                         Transcript\n",
              "0  text_01001   प्रसिद्द कबीर अध्येता, पुरुषोत्तम अग्रवाल का ...\n",
              "1  text_01002   किन्तु आधुनिक पांडित्य, न सिर्फ़ एक ब्राह्मण ...\n",
              "2  text_01003               उस पर, इन चार कवियों का गहरा असर है \n",
              "3  text_01004                  इसे कई बार, मंचित भी किया गया है \n",
              "4  text_01005   यहाँ प्रस्तुत है, हिन्दी कवि कथाकार, तेजी ग्र..."
            ]
          },
          "execution_count": 30,
          "metadata": {},
          "output_type": "execute_result"
        }
      ],
      "source": [
        "p = pd.read_csv(\"/content/WaveRNN/transcripts.csv\", names=[\"ID\", \"Transcript\"])\n",
        "p.head()"
      ]
    },
    {
      "cell_type": "code",
      "execution_count": null,
      "metadata": {
        "colab": {
          "base_uri": "https://localhost:8080/"
        },
        "id": "eIfHW52wxyL7",
        "outputId": "550fb582-87b6-4a12-af52-44d9ba6ac864"
      },
      "outputs": [
        {
          "data": {
            "text/plain": [
              "2318"
            ]
          },
          "execution_count": 11,
          "metadata": {},
          "output_type": "execute_result"
        }
      ],
      "source": [
        "files = os.listdir(\"/content/WaveRNN/data/mel\")\n",
        "len(files)"
      ]
    },
    {
      "cell_type": "markdown",
      "metadata": {
        "id": "DZVquXJY6RMe"
      },
      "source": [
        "workspace"
      ]
    },
    {
      "cell_type": "code",
      "execution_count": null,
      "metadata": {
        "colab": {
          "base_uri": "https://localhost:8080/"
        },
        "id": "e0JA1CF26Puo",
        "outputId": "1f1b59cd-8751-4c4c-9b74-da9b8b6cc2b7"
      },
      "outputs": [
        {
          "data": {
            "text/plain": [
              "list"
            ]
          },
          "execution_count": 38,
          "metadata": {},
          "output_type": "execute_result"
        }
      ],
      "source": [
        "files = os.listdir(\"/content/WaveRNN/data/quant\")\n",
        "len(files)\n",
        "lst = p['ID'].to_list()\n",
        "type(lst)"
      ]
    },
    {
      "cell_type": "code",
      "execution_count": null,
      "metadata": {
        "colab": {
          "base_uri": "https://localhost:8080/",
          "height": 36
        },
        "id": "11h2VkER8dL8",
        "outputId": "221fd990-8221-47a8-911e-36cd64711508"
      },
      "outputs": [
        {
          "data": {
            "application/vnd.google.colaboratory.intrinsic+json": {
              "type": "string"
            },
            "text/plain": [
              "'text_01001'"
            ]
          },
          "execution_count": 39,
          "metadata": {},
          "output_type": "execute_result"
        }
      ],
      "source": [
        "lst[0]"
      ]
    },
    {
      "cell_type": "code",
      "execution_count": null,
      "metadata": {
        "colab": {
          "base_uri": "https://localhost:8080/"
        },
        "id": "OtojHtWd6Pyl",
        "outputId": "a563c826-8f51-47e0-ba22-5d64b0714a8e"
      },
      "outputs": [
        {
          "name": "stdout",
          "output_type": "stream",
          "text": [
            "2318\n"
          ]
        }
      ],
      "source": [
        "count = 0\n",
        "neg = 0\n",
        "l = []\n",
        "for i in files:\n",
        "  l = i.split('.')[0]\n",
        "  for j in lst:\n",
        "    if l == j:\n",
        "      count= count + 1\n",
        "      break\n",
        "  else:\n",
        "    neg += 1\n",
        "    l.append(i)\n",
        "\n",
        "print(count)"
      ]
    },
    {
      "cell_type": "code",
      "execution_count": null,
      "metadata": {
        "colab": {
          "base_uri": "https://localhost:8080/",
          "height": 36
        },
        "id": "OCvjZjtX6P4O",
        "outputId": "c45e36a7-f1a0-4a3a-9832-d5e4c73df087"
      },
      "outputs": [
        {
          "data": {
            "application/vnd.google.colaboratory.intrinsic+json": {
              "type": "string"
            },
            "text/plain": [
              "'text_03132'"
            ]
          },
          "execution_count": 42,
          "metadata": {},
          "output_type": "execute_result"
        }
      ],
      "source": [
        "l"
      ]
    },
    {
      "cell_type": "markdown",
      "metadata": {
        "id": "xsymV_TcQ4tw"
      },
      "source": [
        "## Preparing Transcripts"
      ]
    },
    {
      "cell_type": "code",
      "execution_count": null,
      "metadata": {
        "id": "cOwDE1WPQMBO"
      },
      "outputs": [],
      "source": [
        "names = ['b', 'ids', 'sentences', 'c', 'temp']"
      ]
    },
    {
      "cell_type": "code",
      "execution_count": null,
      "metadata": {
        "id": "vQoNoUpdOaeF"
      },
      "outputs": [],
      "source": [
        "# with open(\"/content/WaveRNN/Dataset/txt.done.data\") as f:\n",
        "p = pd.read_csv(\"/content/WaveRNN/Dataset/txt.done.data\", sep = \" \", names=names)\n",
        "p"
      ]
    },
    {
      "cell_type": "code",
      "execution_count": null,
      "metadata": {
        "id": "HAtil7gKPY_6"
      },
      "outputs": [],
      "source": [
        "trans = p[[\"ids\",\"sentences\"]]\n",
        "trans.to_csv(\"transcripts.csv\")"
      ]
    },
    {
      "cell_type": "code",
      "execution_count": null,
      "metadata": {
        "colab": {
          "base_uri": "https://localhost:8080/",
          "height": 36
        },
        "id": "qZZkLBZJRCdf",
        "outputId": "45868852-837d-4d79-ddf4-07e837874457"
      },
      "outputs": [
        {
          "data": {
            "application/vnd.google.colaboratory.intrinsic+json": {
              "type": "string"
            },
            "text/plain": [
              "'/content/WaveRNN/Dataset/wav/transcripts.csv'"
            ]
          },
          "execution_count": 53,
          "metadata": {},
          "output_type": "execute_result"
        }
      ],
      "source": [
        "shutil.copy('transcripts.csv', \"/content/WaveRNN/Dataset/wav\")"
      ]
    },
    {
      "cell_type": "code",
      "execution_count": null,
      "metadata": {
        "colab": {
          "base_uri": "https://localhost:8080/",
          "height": 206
        },
        "id": "MIEethdRQsFK",
        "outputId": "ba68baa1-3ffa-4a52-8da1-588659f4c2f7"
      },
      "outputs": [
        {
          "data": {
            "text/html": [
              "\n",
              "  <div id=\"df-625e6ecb-d10b-4e5e-bad1-6a6c36bcfd99\">\n",
              "    <div class=\"colab-df-container\">\n",
              "      <div>\n",
              "<style scoped>\n",
              "    .dataframe tbody tr th:only-of-type {\n",
              "        vertical-align: middle;\n",
              "    }\n",
              "\n",
              "    .dataframe tbody tr th {\n",
              "        vertical-align: top;\n",
              "    }\n",
              "\n",
              "    .dataframe thead th {\n",
              "        text-align: right;\n",
              "    }\n",
              "</style>\n",
              "<table border=\"1\" class=\"dataframe\">\n",
              "  <thead>\n",
              "    <tr style=\"text-align: right;\">\n",
              "      <th></th>\n",
              "      <th>text_01001</th>\n",
              "      <th>प्रसिद्द कबीर अध्येता, पुरुषोत्तम अग्रवाल का यह शोध आलेख, उस रामानंद की खोज करता है</th>\n",
              "    </tr>\n",
              "  </thead>\n",
              "  <tbody>\n",
              "    <tr>\n",
              "      <th>0</th>\n",
              "      <td>text_01002</td>\n",
              "      <td>किन्तु आधुनिक पांडित्य, न सिर्फ़ एक ब्राह्मण ...</td>\n",
              "    </tr>\n",
              "    <tr>\n",
              "      <th>1</th>\n",
              "      <td>text_01003</td>\n",
              "      <td>उस पर, इन चार कवियों का गहरा असर है</td>\n",
              "    </tr>\n",
              "    <tr>\n",
              "      <th>2</th>\n",
              "      <td>text_01004</td>\n",
              "      <td>इसे कई बार, मंचित भी किया गया है</td>\n",
              "    </tr>\n",
              "    <tr>\n",
              "      <th>3</th>\n",
              "      <td>text_01005</td>\n",
              "      <td>यहाँ प्रस्तुत है, हिन्दी कवि कथाकार, तेजी ग्र...</td>\n",
              "    </tr>\n",
              "    <tr>\n",
              "      <th>4</th>\n",
              "      <td>text_01006</td>\n",
              "      <td>मूल से, अंग्रेज़ी में लाने का काम, मीना कंदसाम...</td>\n",
              "    </tr>\n",
              "  </tbody>\n",
              "</table>\n",
              "</div>\n",
              "      <button class=\"colab-df-convert\" onclick=\"convertToInteractive('df-625e6ecb-d10b-4e5e-bad1-6a6c36bcfd99')\"\n",
              "              title=\"Convert this dataframe to an interactive table.\"\n",
              "              style=\"display:none;\">\n",
              "        \n",
              "  <svg xmlns=\"http://www.w3.org/2000/svg\" height=\"24px\"viewBox=\"0 0 24 24\"\n",
              "       width=\"24px\">\n",
              "    <path d=\"M0 0h24v24H0V0z\" fill=\"none\"/>\n",
              "    <path d=\"M18.56 5.44l.94 2.06.94-2.06 2.06-.94-2.06-.94-.94-2.06-.94 2.06-2.06.94zm-11 1L8.5 8.5l.94-2.06 2.06-.94-2.06-.94L8.5 2.5l-.94 2.06-2.06.94zm10 10l.94 2.06.94-2.06 2.06-.94-2.06-.94-.94-2.06-.94 2.06-2.06.94z\"/><path d=\"M17.41 7.96l-1.37-1.37c-.4-.4-.92-.59-1.43-.59-.52 0-1.04.2-1.43.59L10.3 9.45l-7.72 7.72c-.78.78-.78 2.05 0 2.83L4 21.41c.39.39.9.59 1.41.59.51 0 1.02-.2 1.41-.59l7.78-7.78 2.81-2.81c.8-.78.8-2.07 0-2.86zM5.41 20L4 18.59l7.72-7.72 1.47 1.35L5.41 20z\"/>\n",
              "  </svg>\n",
              "      </button>\n",
              "      \n",
              "  <style>\n",
              "    .colab-df-container {\n",
              "      display:flex;\n",
              "      flex-wrap:wrap;\n",
              "      gap: 12px;\n",
              "    }\n",
              "\n",
              "    .colab-df-convert {\n",
              "      background-color: #E8F0FE;\n",
              "      border: none;\n",
              "      border-radius: 50%;\n",
              "      cursor: pointer;\n",
              "      display: none;\n",
              "      fill: #1967D2;\n",
              "      height: 32px;\n",
              "      padding: 0 0 0 0;\n",
              "      width: 32px;\n",
              "    }\n",
              "\n",
              "    .colab-df-convert:hover {\n",
              "      background-color: #E2EBFA;\n",
              "      box-shadow: 0px 1px 2px rgba(60, 64, 67, 0.3), 0px 1px 3px 1px rgba(60, 64, 67, 0.15);\n",
              "      fill: #174EA6;\n",
              "    }\n",
              "\n",
              "    [theme=dark] .colab-df-convert {\n",
              "      background-color: #3B4455;\n",
              "      fill: #D2E3FC;\n",
              "    }\n",
              "\n",
              "    [theme=dark] .colab-df-convert:hover {\n",
              "      background-color: #434B5C;\n",
              "      box-shadow: 0px 1px 3px 1px rgba(0, 0, 0, 0.15);\n",
              "      filter: drop-shadow(0px 1px 2px rgba(0, 0, 0, 0.3));\n",
              "      fill: #FFFFFF;\n",
              "    }\n",
              "  </style>\n",
              "\n",
              "      <script>\n",
              "        const buttonEl =\n",
              "          document.querySelector('#df-625e6ecb-d10b-4e5e-bad1-6a6c36bcfd99 button.colab-df-convert');\n",
              "        buttonEl.style.display =\n",
              "          google.colab.kernel.accessAllowed ? 'block' : 'none';\n",
              "\n",
              "        async function convertToInteractive(key) {\n",
              "          const element = document.querySelector('#df-625e6ecb-d10b-4e5e-bad1-6a6c36bcfd99');\n",
              "          const dataTable =\n",
              "            await google.colab.kernel.invokeFunction('convertToInteractive',\n",
              "                                                     [key], {});\n",
              "          if (!dataTable) return;\n",
              "\n",
              "          const docLinkHtml = 'Like what you see? Visit the ' +\n",
              "            '<a target=\"_blank\" href=https://colab.research.google.com/notebooks/data_table.ipynb>data table notebook</a>'\n",
              "            + ' to learn more about interactive tables.';\n",
              "          element.innerHTML = '';\n",
              "          dataTable['output_type'] = 'display_data';\n",
              "          await google.colab.output.renderOutput(dataTable, element);\n",
              "          const docLink = document.createElement('div');\n",
              "          docLink.innerHTML = docLinkHtml;\n",
              "          element.appendChild(docLink);\n",
              "        }\n",
              "      </script>\n",
              "    </div>\n",
              "  </div>\n",
              "  "
            ],
            "text/plain": [
              "   text_01001  प्रसिद्द कबीर अध्येता, पुरुषोत्तम अग्रवाल का यह शोध आलेख, उस रामानंद की खोज करता है \n",
              "0  text_01002   किन्तु आधुनिक पांडित्य, न सिर्फ़ एक ब्राह्मण ...                                   \n",
              "1  text_01003               उस पर, इन चार कवियों का गहरा असर है                                    \n",
              "2  text_01004                  इसे कई बार, मंचित भी किया गया है                                    \n",
              "3  text_01005   यहाँ प्रस्तुत है, हिन्दी कवि कथाकार, तेजी ग्र...                                   \n",
              "4  text_01006   मूल से, अंग्रेज़ी में लाने का काम, मीना कंदसाम...                                   "
            ]
          },
          "execution_count": 54,
          "metadata": {},
          "output_type": "execute_result"
        }
      ],
      "source": [
        "trans = pd.read_csv(\"/content/WaveRNN/Dataset/wav/transcripts.csv\")\n",
        "trans.head()"
      ]
    },
    {
      "cell_type": "code",
      "execution_count": null,
      "metadata": {
        "colab": {
          "base_uri": "https://localhost:8080/"
        },
        "id": "6Tatyt-0Rn4k",
        "outputId": "751a6851-c587-4b48-ffea-4431358ac0f0"
      },
      "outputs": [
        {
          "data": {
            "text/plain": [
              "Index(['Unnamed: 0', 'ids', 'sentences'], dtype='object')"
            ]
          },
          "execution_count": 48,
          "metadata": {},
          "output_type": "execute_result"
        }
      ],
      "source": [
        "trans.columns"
      ]
    },
    {
      "cell_type": "code",
      "execution_count": null,
      "metadata": {
        "colab": {
          "base_uri": "https://localhost:8080/"
        },
        "id": "Fq0K68M8RPmd",
        "outputId": "e839bb7e-0f78-4533-a441-bd7a0b02f6c7"
      },
      "outputs": [
        {
          "name": "stderr",
          "output_type": "stream",
          "text": [
            "/usr/local/lib/python3.7/dist-packages/ipykernel_launcher.py:1: FutureWarning: In a future version of pandas all arguments of DataFrame.drop except for the argument 'labels' will be keyword-only\n",
            "  \"\"\"Entry point for launching an IPython kernel.\n"
          ]
        }
      ],
      "source": [
        "trans = trans.drop(\"Unnamed: 0\", 1)"
      ]
    },
    {
      "cell_type": "code",
      "execution_count": null,
      "metadata": {
        "colab": {
          "base_uri": "https://localhost:8080/",
          "height": 424
        },
        "id": "4tk0EDsGRrmQ",
        "outputId": "896471c1-b446-4472-90e7-5f96ed408776"
      },
      "outputs": [
        {
          "data": {
            "text/html": [
              "\n",
              "  <div id=\"df-708245d5-686b-4fcb-bf09-89154daeda37\">\n",
              "    <div class=\"colab-df-container\">\n",
              "      <div>\n",
              "<style scoped>\n",
              "    .dataframe tbody tr th:only-of-type {\n",
              "        vertical-align: middle;\n",
              "    }\n",
              "\n",
              "    .dataframe tbody tr th {\n",
              "        vertical-align: top;\n",
              "    }\n",
              "\n",
              "    .dataframe thead th {\n",
              "        text-align: right;\n",
              "    }\n",
              "</style>\n",
              "<table border=\"1\" class=\"dataframe\">\n",
              "  <thead>\n",
              "    <tr style=\"text-align: right;\">\n",
              "      <th></th>\n",
              "      <th>ids</th>\n",
              "      <th>sentences</th>\n",
              "    </tr>\n",
              "  </thead>\n",
              "  <tbody>\n",
              "    <tr>\n",
              "      <th>0</th>\n",
              "      <td>text_01001</td>\n",
              "      <td>प्रसिद्द कबीर अध्येता, पुरुषोत्तम अग्रवाल का ...</td>\n",
              "    </tr>\n",
              "    <tr>\n",
              "      <th>1</th>\n",
              "      <td>text_01002</td>\n",
              "      <td>किन्तु आधुनिक पांडित्य, न सिर्फ़ एक ब्राह्मण ...</td>\n",
              "    </tr>\n",
              "    <tr>\n",
              "      <th>2</th>\n",
              "      <td>text_01003</td>\n",
              "      <td>उस पर, इन चार कवियों का गहरा असर है</td>\n",
              "    </tr>\n",
              "    <tr>\n",
              "      <th>3</th>\n",
              "      <td>text_01004</td>\n",
              "      <td>इसे कई बार, मंचित भी किया गया है</td>\n",
              "    </tr>\n",
              "    <tr>\n",
              "      <th>4</th>\n",
              "      <td>text_01005</td>\n",
              "      <td>यहाँ प्रस्तुत है, हिन्दी कवि कथाकार, तेजी ग्र...</td>\n",
              "    </tr>\n",
              "    <tr>\n",
              "      <th>...</th>\n",
              "      <td>...</td>\n",
              "      <td>...</td>\n",
              "    </tr>\n",
              "    <tr>\n",
              "      <th>2313</th>\n",
              "      <td>text_03314</td>\n",
              "      <td>मनुष्य पवित्र जीवन और सच्ची भक्ति वाले वास्तव...</td>\n",
              "    </tr>\n",
              "    <tr>\n",
              "      <th>2314</th>\n",
              "      <td>text_03315</td>\n",
              "      <td>सच्चाई  तक पहुँचने के लिए पहले भ्रम और असत्य ...</td>\n",
              "    </tr>\n",
              "    <tr>\n",
              "      <th>2315</th>\n",
              "      <td>text_03316</td>\n",
              "      <td>गुरु नानक ने पाखंड और कर्मकांडों के विरुद्ध क...</td>\n",
              "    </tr>\n",
              "    <tr>\n",
              "      <th>2316</th>\n",
              "      <td>text_03317</td>\n",
              "      <td>सच्चा धर्म उतना ही सरल है जितना वह गहरा है.</td>\n",
              "    </tr>\n",
              "    <tr>\n",
              "      <th>2317</th>\n",
              "      <td>text_03318</td>\n",
              "      <td>जातिगत भेदभाव के बिना हर कोई उस तक पहुँच  सकत...</td>\n",
              "    </tr>\n",
              "  </tbody>\n",
              "</table>\n",
              "<p>2318 rows × 2 columns</p>\n",
              "</div>\n",
              "      <button class=\"colab-df-convert\" onclick=\"convertToInteractive('df-708245d5-686b-4fcb-bf09-89154daeda37')\"\n",
              "              title=\"Convert this dataframe to an interactive table.\"\n",
              "              style=\"display:none;\">\n",
              "        \n",
              "  <svg xmlns=\"http://www.w3.org/2000/svg\" height=\"24px\"viewBox=\"0 0 24 24\"\n",
              "       width=\"24px\">\n",
              "    <path d=\"M0 0h24v24H0V0z\" fill=\"none\"/>\n",
              "    <path d=\"M18.56 5.44l.94 2.06.94-2.06 2.06-.94-2.06-.94-.94-2.06-.94 2.06-2.06.94zm-11 1L8.5 8.5l.94-2.06 2.06-.94-2.06-.94L8.5 2.5l-.94 2.06-2.06.94zm10 10l.94 2.06.94-2.06 2.06-.94-2.06-.94-.94-2.06-.94 2.06-2.06.94z\"/><path d=\"M17.41 7.96l-1.37-1.37c-.4-.4-.92-.59-1.43-.59-.52 0-1.04.2-1.43.59L10.3 9.45l-7.72 7.72c-.78.78-.78 2.05 0 2.83L4 21.41c.39.39.9.59 1.41.59.51 0 1.02-.2 1.41-.59l7.78-7.78 2.81-2.81c.8-.78.8-2.07 0-2.86zM5.41 20L4 18.59l7.72-7.72 1.47 1.35L5.41 20z\"/>\n",
              "  </svg>\n",
              "      </button>\n",
              "      \n",
              "  <style>\n",
              "    .colab-df-container {\n",
              "      display:flex;\n",
              "      flex-wrap:wrap;\n",
              "      gap: 12px;\n",
              "    }\n",
              "\n",
              "    .colab-df-convert {\n",
              "      background-color: #E8F0FE;\n",
              "      border: none;\n",
              "      border-radius: 50%;\n",
              "      cursor: pointer;\n",
              "      display: none;\n",
              "      fill: #1967D2;\n",
              "      height: 32px;\n",
              "      padding: 0 0 0 0;\n",
              "      width: 32px;\n",
              "    }\n",
              "\n",
              "    .colab-df-convert:hover {\n",
              "      background-color: #E2EBFA;\n",
              "      box-shadow: 0px 1px 2px rgba(60, 64, 67, 0.3), 0px 1px 3px 1px rgba(60, 64, 67, 0.15);\n",
              "      fill: #174EA6;\n",
              "    }\n",
              "\n",
              "    [theme=dark] .colab-df-convert {\n",
              "      background-color: #3B4455;\n",
              "      fill: #D2E3FC;\n",
              "    }\n",
              "\n",
              "    [theme=dark] .colab-df-convert:hover {\n",
              "      background-color: #434B5C;\n",
              "      box-shadow: 0px 1px 3px 1px rgba(0, 0, 0, 0.15);\n",
              "      filter: drop-shadow(0px 1px 2px rgba(0, 0, 0, 0.3));\n",
              "      fill: #FFFFFF;\n",
              "    }\n",
              "  </style>\n",
              "\n",
              "      <script>\n",
              "        const buttonEl =\n",
              "          document.querySelector('#df-708245d5-686b-4fcb-bf09-89154daeda37 button.colab-df-convert');\n",
              "        buttonEl.style.display =\n",
              "          google.colab.kernel.accessAllowed ? 'block' : 'none';\n",
              "\n",
              "        async function convertToInteractive(key) {\n",
              "          const element = document.querySelector('#df-708245d5-686b-4fcb-bf09-89154daeda37');\n",
              "          const dataTable =\n",
              "            await google.colab.kernel.invokeFunction('convertToInteractive',\n",
              "                                                     [key], {});\n",
              "          if (!dataTable) return;\n",
              "\n",
              "          const docLinkHtml = 'Like what you see? Visit the ' +\n",
              "            '<a target=\"_blank\" href=https://colab.research.google.com/notebooks/data_table.ipynb>data table notebook</a>'\n",
              "            + ' to learn more about interactive tables.';\n",
              "          element.innerHTML = '';\n",
              "          dataTable['output_type'] = 'display_data';\n",
              "          await google.colab.output.renderOutput(dataTable, element);\n",
              "          const docLink = document.createElement('div');\n",
              "          docLink.innerHTML = docLinkHtml;\n",
              "          element.appendChild(docLink);\n",
              "        }\n",
              "      </script>\n",
              "    </div>\n",
              "  </div>\n",
              "  "
            ],
            "text/plain": [
              "             ids                                          sentences\n",
              "0     text_01001   प्रसिद्द कबीर अध्येता, पुरुषोत्तम अग्रवाल का ...\n",
              "1     text_01002   किन्तु आधुनिक पांडित्य, न सिर्फ़ एक ब्राह्मण ...\n",
              "2     text_01003               उस पर, इन चार कवियों का गहरा असर है \n",
              "3     text_01004                  इसे कई बार, मंचित भी किया गया है \n",
              "4     text_01005   यहाँ प्रस्तुत है, हिन्दी कवि कथाकार, तेजी ग्र...\n",
              "...          ...                                                ...\n",
              "2313  text_03314   मनुष्य पवित्र जीवन और सच्ची भक्ति वाले वास्तव...\n",
              "2314  text_03315   सच्चाई  तक पहुँचने के लिए पहले भ्रम और असत्य ...\n",
              "2315  text_03316   गुरु नानक ने पाखंड और कर्मकांडों के विरुद्ध क...\n",
              "2316  text_03317       सच्चा धर्म उतना ही सरल है जितना वह गहरा है. \n",
              "2317  text_03318   जातिगत भेदभाव के बिना हर कोई उस तक पहुँच  सकत...\n",
              "\n",
              "[2318 rows x 2 columns]"
            ]
          },
          "execution_count": 50,
          "metadata": {},
          "output_type": "execute_result"
        }
      ],
      "source": [
        "trans"
      ]
    },
    {
      "cell_type": "code",
      "execution_count": null,
      "metadata": {
        "id": "tJn7i2zqRgZT"
      },
      "outputs": [],
      "source": [
        "trans.to_csv(\"transcripts.csv\",header=False, index=False)"
      ]
    },
    {
      "cell_type": "markdown",
      "metadata": {
        "id": "5HSJFrVlQ9WC"
      },
      "source": [
        "## Preprocessing"
      ]
    },
    {
      "cell_type": "code",
      "execution_count": null,
      "metadata": {
        "colab": {
          "base_uri": "https://localhost:8080/"
        },
        "id": "7pkJ7VvzTNYW",
        "outputId": "002b98f0-b369-4975-cd67-301343ca7b8d"
      },
      "outputs": [
        {
          "name": "stdout",
          "output_type": "stream",
          "text": [
            "\n",
            "2318 wav files found in \"/content/WaveRNN/Dataset/wav\"\n",
            "\n",
            "+-------------+-----------+--------+------------+-----------+\n",
            "| Sample Rate | Bit Depth | Mu Law | Hop Length | CPU Usage |\n",
            "+-------------+-----------+--------+------------+-----------+\n",
            "|    22050    |     9     |  True  |    275     |    1/2    |\n",
            "+-------------+-----------+--------+------------+-----------+\n",
            " \n",
            "████████████████ 2318/2318 \n",
            "\n",
            "Completed. Ready to run \"python train_tacotron.py\" or \"python train_wavernn.py\". \n",
            "\n"
          ]
        }
      ],
      "source": [
        "!python preprocess.py --path \"/content/WaveRNN/Dataset/wav\""
      ]
    },
    {
      "cell_type": "code",
      "execution_count": null,
      "metadata": {
        "id": "cZCOgXhhZN7r"
      },
      "outputs": [],
      "source": [
        "os.chdir(\"/content/drive/MyDrive/Voice Cloning/Synthesizer\")"
      ]
    },
    {
      "cell_type": "code",
      "execution_count": null,
      "metadata": {
        "colab": {
          "base_uri": "https://localhost:8080/",
          "height": 36
        },
        "id": "BYXinzWEZUEz",
        "outputId": "d48c8418-fa27-470c-fb4f-ff09a21cbc38"
      },
      "outputs": [
        {
          "data": {
            "application/vnd.google.colaboratory.intrinsic+json": {
              "type": "string"
            },
            "text/plain": [
              "'/content/drive/MyDrive/Voice Cloning/Synthesizer/hi_trcotron_processed.tar'"
            ]
          },
          "execution_count": 58,
          "metadata": {},
          "output_type": "execute_result"
        }
      ],
      "source": [
        "shutil.make_archive(\"hi_trcotron_processed\",'tar',\"/content/WaveRNN/data\")"
      ]
    },
    {
      "cell_type": "code",
      "execution_count": null,
      "metadata": {
        "colab": {
          "base_uri": "https://localhost:8080/"
        },
        "id": "MhM8abJXtDg-",
        "outputId": "2e5095e0-9523-43a0-eefc-090aa4116d23"
      },
      "outputs": [
        {
          "name": "stdout",
          "output_type": "stream",
          "text": [
            "/content/WaveRNN\n"
          ]
        }
      ],
      "source": [
        "%cd .."
      ]
    },
    {
      "cell_type": "code",
      "execution_count": null,
      "metadata": {
        "colab": {
          "base_uri": "https://localhost:8080/"
        },
        "id": "W7TMFKJ_Tkef",
        "outputId": "9405ab61-0905-4bb4-e67c-77f766f3de11"
      },
      "outputs": [
        {
          "name": "stdout",
          "output_type": "stream",
          "text": [
            "Using device: cpu\n",
            "\n",
            "Initialising Tacotron Model...\n",
            "\n",
            "Trainable Parameters: 11.088M\n",
            "Creating latest checkpoint...\n",
            "Saving latest weights: /content/WaveRNN/checkpoints/ljspeech_lsa_smooth_attention.tacotron/latest_weights.pyt\n",
            "Saving latest optimizer state: /content/WaveRNN/checkpoints/ljspeech_lsa_smooth_attention.tacotron/latest_optim.pyt\n",
            "+----------------+------------+---------------+------------------+\n",
            "| Steps with r=7 | Batch Size | Learning Rate | Outputs/Step (r) |\n",
            "+----------------+------------+---------------+------------------+\n",
            "|   10k Steps    |     32     |     0.001     |        7         |\n",
            "+----------------+------------+---------------+------------------+\n",
            " \n",
            "| Epoch: 1/143 (2/70) | Loss: 3.840 | 0.088 steps/s | Step: 0k | Traceback (most recent call last):\n",
            "  File \"train_tacotron.py\", line 202, in <module>\n",
            "    main()\n",
            "  File \"train_tacotron.py\", line 98, in main\n",
            "    tts_train_loop(paths, model, optimizer, train_set, lr, training_steps, attn_example)\n",
            "  File \"train_tacotron.py\", line 142, in tts_train_loop\n",
            "    loss.backward()\n",
            "  File \"/usr/local/lib/python3.7/dist-packages/torch/_tensor.py\", line 307, in backward\n",
            "    torch.autograd.backward(self, gradient, retain_graph, create_graph, inputs=inputs)\n",
            "  File \"/usr/local/lib/python3.7/dist-packages/torch/autograd/__init__.py\", line 156, in backward\n",
            "    allow_unreachable=True, accumulate_grad=True)  # allow_unreachable flag\n",
            "KeyboardInterrupt\n"
          ]
        }
      ],
      "source": [
        "!python train_tacotron.py"
      ]
    },
    {
      "cell_type": "code",
      "execution_count": null,
      "metadata": {
        "id": "azH2lrPO07yf"
      },
      "outputs": [],
      "source": [
        ""
      ]
    },
    {
      "cell_type": "code",
      "execution_count": null,
      "metadata": {
        "id": "zsD47Zdw0728"
      },
      "outputs": [],
      "source": [
        ""
      ]
    },
    {
      "cell_type": "code",
      "execution_count": null,
      "metadata": {
        "id": "nXtZw-17075q"
      },
      "outputs": [],
      "source": [
        ""
      ]
    },
    {
      "cell_type": "markdown",
      "metadata": {
        "id": "GK8NboxK085R"
      },
      "source": [
        "#Test Area"
      ]
    },
    {
      "cell_type": "code",
      "execution_count": null,
      "metadata": {
        "colab": {
          "base_uri": "https://localhost:8080/"
        },
        "id": "LpLrisRG079W",
        "outputId": "aa7c1695-3b53-4e2a-ee0d-1aa35c2d56c3"
      },
      "outputs": [
        {
          "name": "stdout",
          "output_type": "stream",
          "text": [
            "--2022-02-17 03:32:28--  https://data.keithito.com/data/speech/LJSpeech-1.1.tar.bz2\n",
            "Resolving data.keithito.com (data.keithito.com)... 174.138.79.61\n",
            "Connecting to data.keithito.com (data.keithito.com)|174.138.79.61|:443... connected.\n",
            "HTTP request sent, awaiting response... 200 OK\n",
            "Length: 2748572632 (2.6G) [application/octet-stream]\n",
            "Saving to: ‘LJSpeech-1.1.tar.bz2’\n",
            "\n",
            "LJSpeech-1.1.tar.bz 100%[===================>]   2.56G   120MB/s    in 25s     \n",
            "\n",
            "2022-02-17 03:32:53 (105 MB/s) - ‘LJSpeech-1.1.tar.bz2’ saved [2748572632/2748572632]\n",
            "\n"
          ]
        }
      ],
      "source": [
        "!wget \"https://data.keithito.com/data/speech/LJSpeech-1.1.tar.bz2\""
      ]
    },
    {
      "cell_type": "code",
      "execution_count": null,
      "metadata": {
        "colab": {
          "base_uri": "https://localhost:8080/"
        },
        "id": "-Xur87Ujv252",
        "outputId": "4dbf6196-31e9-4aa9-ec01-48d58fcbedb5"
      },
      "outputs": [
        {
          "name": "stdout",
          "output_type": "stream",
          "text": [
            "/content/WaveRNN/LJspeech\n"
          ]
        }
      ],
      "source": [
        "%cd LJspeech"
      ]
    },
    {
      "cell_type": "code",
      "execution_count": null,
      "metadata": {
        "colab": {
          "base_uri": "https://localhost:8080/"
        },
        "id": "7RvlmCXUZFlD",
        "outputId": "ca3f973b-d4d5-48c9-b136-e4acf8372460"
      },
      "outputs": [
        {
          "name": "stdout",
          "output_type": "stream",
          "text": [
            "/content/WaveRNN\n"
          ]
        }
      ],
      "source": [
        "%cd .."
      ]
    },
    {
      "cell_type": "code",
      "execution_count": null,
      "metadata": {
        "id": "ZkQT8Bau1Ver"
      },
      "outputs": [],
      "source": [
        "!tar -xf \"/content/WaveRNN/LJSpeech-1.1.tar.bz2\""
      ]
    },
    {
      "cell_type": "code",
      "execution_count": null,
      "metadata": {
        "colab": {
          "base_uri": "https://localhost:8080/",
          "height": 206
        },
        "id": "zxCPo4P21Zlz",
        "outputId": "8efe70df-d161-4e78-c2ba-e01e07231f43"
      },
      "outputs": [
        {
          "data": {
            "text/html": [
              "\n",
              "  <div id=\"df-6f636390-67aa-4593-88bf-88f4af206454\">\n",
              "    <div class=\"colab-df-container\">\n",
              "      <div>\n",
              "<style scoped>\n",
              "    .dataframe tbody tr th:only-of-type {\n",
              "        vertical-align: middle;\n",
              "    }\n",
              "\n",
              "    .dataframe tbody tr th {\n",
              "        vertical-align: top;\n",
              "    }\n",
              "\n",
              "    .dataframe thead th {\n",
              "        text-align: right;\n",
              "    }\n",
              "</style>\n",
              "<table border=\"1\" class=\"dataframe\">\n",
              "  <thead>\n",
              "    <tr style=\"text-align: right;\">\n",
              "      <th></th>\n",
              "      <th>ID</th>\n",
              "      <th>Transcript</th>\n",
              "      <th>Normalized Transcription</th>\n",
              "    </tr>\n",
              "  </thead>\n",
              "  <tbody>\n",
              "    <tr>\n",
              "      <th>0</th>\n",
              "      <td>LJ001-0001</td>\n",
              "      <td>Printing, in the only sense with which we are ...</td>\n",
              "      <td>Printing, in the only sense with which we are ...</td>\n",
              "    </tr>\n",
              "    <tr>\n",
              "      <th>1</th>\n",
              "      <td>LJ001-0002</td>\n",
              "      <td>in being comparatively modern.</td>\n",
              "      <td>in being comparatively modern.</td>\n",
              "    </tr>\n",
              "    <tr>\n",
              "      <th>2</th>\n",
              "      <td>LJ001-0003</td>\n",
              "      <td>For although the Chinese took impressions from...</td>\n",
              "      <td>For although the Chinese took impressions from...</td>\n",
              "    </tr>\n",
              "    <tr>\n",
              "      <th>3</th>\n",
              "      <td>LJ001-0004</td>\n",
              "      <td>produced the block books, which were the immed...</td>\n",
              "      <td>produced the block books, which were the immed...</td>\n",
              "    </tr>\n",
              "    <tr>\n",
              "      <th>4</th>\n",
              "      <td>LJ001-0005</td>\n",
              "      <td>the invention of movable metal letters in the ...</td>\n",
              "      <td>the invention of movable metal letters in the ...</td>\n",
              "    </tr>\n",
              "  </tbody>\n",
              "</table>\n",
              "</div>\n",
              "      <button class=\"colab-df-convert\" onclick=\"convertToInteractive('df-6f636390-67aa-4593-88bf-88f4af206454')\"\n",
              "              title=\"Convert this dataframe to an interactive table.\"\n",
              "              style=\"display:none;\">\n",
              "        \n",
              "  <svg xmlns=\"http://www.w3.org/2000/svg\" height=\"24px\"viewBox=\"0 0 24 24\"\n",
              "       width=\"24px\">\n",
              "    <path d=\"M0 0h24v24H0V0z\" fill=\"none\"/>\n",
              "    <path d=\"M18.56 5.44l.94 2.06.94-2.06 2.06-.94-2.06-.94-.94-2.06-.94 2.06-2.06.94zm-11 1L8.5 8.5l.94-2.06 2.06-.94-2.06-.94L8.5 2.5l-.94 2.06-2.06.94zm10 10l.94 2.06.94-2.06 2.06-.94-2.06-.94-.94-2.06-.94 2.06-2.06.94z\"/><path d=\"M17.41 7.96l-1.37-1.37c-.4-.4-.92-.59-1.43-.59-.52 0-1.04.2-1.43.59L10.3 9.45l-7.72 7.72c-.78.78-.78 2.05 0 2.83L4 21.41c.39.39.9.59 1.41.59.51 0 1.02-.2 1.41-.59l7.78-7.78 2.81-2.81c.8-.78.8-2.07 0-2.86zM5.41 20L4 18.59l7.72-7.72 1.47 1.35L5.41 20z\"/>\n",
              "  </svg>\n",
              "      </button>\n",
              "      \n",
              "  <style>\n",
              "    .colab-df-container {\n",
              "      display:flex;\n",
              "      flex-wrap:wrap;\n",
              "      gap: 12px;\n",
              "    }\n",
              "\n",
              "    .colab-df-convert {\n",
              "      background-color: #E8F0FE;\n",
              "      border: none;\n",
              "      border-radius: 50%;\n",
              "      cursor: pointer;\n",
              "      display: none;\n",
              "      fill: #1967D2;\n",
              "      height: 32px;\n",
              "      padding: 0 0 0 0;\n",
              "      width: 32px;\n",
              "    }\n",
              "\n",
              "    .colab-df-convert:hover {\n",
              "      background-color: #E2EBFA;\n",
              "      box-shadow: 0px 1px 2px rgba(60, 64, 67, 0.3), 0px 1px 3px 1px rgba(60, 64, 67, 0.15);\n",
              "      fill: #174EA6;\n",
              "    }\n",
              "\n",
              "    [theme=dark] .colab-df-convert {\n",
              "      background-color: #3B4455;\n",
              "      fill: #D2E3FC;\n",
              "    }\n",
              "\n",
              "    [theme=dark] .colab-df-convert:hover {\n",
              "      background-color: #434B5C;\n",
              "      box-shadow: 0px 1px 3px 1px rgba(0, 0, 0, 0.15);\n",
              "      filter: drop-shadow(0px 1px 2px rgba(0, 0, 0, 0.3));\n",
              "      fill: #FFFFFF;\n",
              "    }\n",
              "  </style>\n",
              "\n",
              "      <script>\n",
              "        const buttonEl =\n",
              "          document.querySelector('#df-6f636390-67aa-4593-88bf-88f4af206454 button.colab-df-convert');\n",
              "        buttonEl.style.display =\n",
              "          google.colab.kernel.accessAllowed ? 'block' : 'none';\n",
              "\n",
              "        async function convertToInteractive(key) {\n",
              "          const element = document.querySelector('#df-6f636390-67aa-4593-88bf-88f4af206454');\n",
              "          const dataTable =\n",
              "            await google.colab.kernel.invokeFunction('convertToInteractive',\n",
              "                                                     [key], {});\n",
              "          if (!dataTable) return;\n",
              "\n",
              "          const docLinkHtml = 'Like what you see? Visit the ' +\n",
              "            '<a target=\"_blank\" href=https://colab.research.google.com/notebooks/data_table.ipynb>data table notebook</a>'\n",
              "            + ' to learn more about interactive tables.';\n",
              "          element.innerHTML = '';\n",
              "          dataTable['output_type'] = 'display_data';\n",
              "          await google.colab.output.renderOutput(dataTable, element);\n",
              "          const docLink = document.createElement('div');\n",
              "          docLink.innerHTML = docLinkHtml;\n",
              "          element.appendChild(docLink);\n",
              "        }\n",
              "      </script>\n",
              "    </div>\n",
              "  </div>\n",
              "  "
            ],
            "text/plain": [
              "           ID  ...                           Normalized Transcription\n",
              "0  LJ001-0001  ...  Printing, in the only sense with which we are ...\n",
              "1  LJ001-0002  ...                     in being comparatively modern.\n",
              "2  LJ001-0003  ...  For although the Chinese took impressions from...\n",
              "3  LJ001-0004  ...  produced the block books, which were the immed...\n",
              "4  LJ001-0005  ...  the invention of movable metal letters in the ...\n",
              "\n",
              "[5 rows x 3 columns]"
            ]
          },
          "execution_count": 28,
          "metadata": {},
          "output_type": "execute_result"
        }
      ],
      "source": [
        "names = [\"ID\",\"Transcript\", \"Normalized Transcription\"]\n",
        "temp = pd.read_csv(\"/content/LJSpeech-1.1/metadata.csv\",sep='|', names = names)\n",
        "temp.head()"
      ]
    },
    {
      "cell_type": "code",
      "execution_count": null,
      "metadata": {
        "colab": {
          "base_uri": "https://localhost:8080/"
        },
        "id": "ir_Kd-z_yRAV",
        "outputId": "c3f79c98-0811-4614-9140-f296edd38606"
      },
      "outputs": [
        {
          "data": {
            "text/plain": [
              "['LJ007-0010.wav',\n",
              " 'LJ036-0160.wav',\n",
              " 'LJ040-0163.wav',\n",
              " 'LJ021-0118.wav',\n",
              " 'LJ010-0135.wav',\n",
              " 'LJ015-0220.wav',\n",
              " 'LJ036-0015.wav',\n",
              " 'LJ026-0060.wav',\n",
              " 'LJ017-0068.wav',\n",
              " 'LJ017-0131.wav']"
            ]
          },
          "execution_count": 33,
          "metadata": {},
          "output_type": "execute_result"
        }
      ],
      "source": [
        "dirs = os.listdir(\"/content/WaveRNN/LJspeech/LJSpeech-1.1/wavs\")\n",
        "dirs[:10]"
      ]
    },
    {
      "cell_type": "code",
      "execution_count": null,
      "metadata": {
        "colab": {
          "base_uri": "https://localhost:8080/",
          "height": 36
        },
        "id": "egyHd2--yka0",
        "outputId": "193f9492-baac-40b3-bb75-ae74e19d84b0"
      },
      "outputs": [
        {
          "data": {
            "application/vnd.google.colaboratory.intrinsic+json": {
              "type": "string"
            },
            "text/plain": [
              "'/content/WaveRNN/LJspeech/LJSpeech-1.1/wavs/metadata.csv'"
            ]
          },
          "execution_count": 37,
          "metadata": {},
          "output_type": "execute_result"
        }
      ],
      "source": [
        "shutil.copy(\"/content/WaveRNN/LJspeech/LJSpeech-1.1/metadata.csv\", \"/content/WaveRNN/LJspeech/LJSpeech-1.1/wavs\")"
      ]
    },
    {
      "cell_type": "code",
      "execution_count": null,
      "metadata": {
        "id": "pHbSPkC14Ymw"
      },
      "outputs": [],
      "source": [
        "!python preprocess.py --path \"/content/WaveRNN/LJspeech/LJSpeech-1.1/wavs\""
      ]
    },
    {
      "cell_type": "code",
      "execution_count": null,
      "metadata": {
        "id": "jQlbLCYnyd30"
      },
      "outputs": [],
      "source": [
        "with open(\"/content/WaveRNN/data/text_dict.pkl\", 'rb') as f:\n",
        "  r_data = pickle.load(f)"
      ]
    },
    {
      "cell_type": "code",
      "execution_count": null,
      "metadata": {
        "colab": {
          "base_uri": "https://localhost:8080/"
        },
        "id": "Dl1BrQL7zIHd",
        "outputId": "b8460985-fdc4-443f-d184-32d60100d1a0"
      },
      "outputs": [
        {
          "name": "stdout",
          "output_type": "stream",
          "text": [
            "key: LJ001-0001\n",
            "value: Printing, in the only sense with which we are at present concerned, differs from most if not from all the arts and crafts represented in the Exhibition\n",
            "\n",
            "key: LJ001-0002\n",
            "value: in being comparatively modern.\n",
            "\n",
            "key: LJ001-0003\n",
            "value: For although the Chinese took impressions from wood blocks engraved in relief for centuries before the woodcutters of the Netherlands, by a similar process\n",
            "\n",
            "key: LJ001-0004\n",
            "value: produced the block books, which were the immediate predecessors of the true printed book,\n",
            "\n"
          ]
        }
      ],
      "source": [
        "cnt = 0\n",
        "for key, val in r_data.items():\n",
        "  print(\"key:\", key)\n",
        "  print(\"value:\", val)\n",
        "  cnt+=1\n",
        "  if cnt == 4:\n",
        "    break"
      ]
    },
    {
      "cell_type": "code",
      "execution_count": null,
      "metadata": {
        "id": "eVifAdvVzOLT"
      },
      "outputs": [],
      "source": [
        "!python train_tacotron.py"
      ]
    },
    {
      "cell_type": "code",
      "execution_count": null,
      "metadata": {
        "id": "IZtcD-HjzToW"
      },
      "outputs": [],
      "source": [
        "files = os.listdir(\"/content/WaveRNN/data/gta\")\n",
        "path = '/content/WaveRNN/data/gta/'\n",
        "for i in files:\n",
        "  os.remove(path+i)"
      ]
    },
    {
      "cell_type": "code",
      "execution_count": null,
      "metadata": {
        "id": "X6ZMtKfZzr7o"
      },
      "outputs": [],
      "source": [
        ""
      ]
    },
    {
      "cell_type": "code",
      "execution_count": null,
      "metadata": {
        "id": "Ic94uj9s1t3m"
      },
      "outputs": [],
      "source": [
        ""
      ]
    },
    {
      "cell_type": "code",
      "execution_count": null,
      "metadata": {
        "id": "18YOUUZn1t65"
      },
      "outputs": [],
      "source": [
        "with open(\"/content/WaveRNN/data/text_dict.pkl\", 'rb') as f:\n",
        "  h_data = pickle.load(f)"
      ]
    },
    {
      "cell_type": "code",
      "execution_count": null,
      "metadata": {
        "id": "yEW5_I_01t-t"
      },
      "outputs": [],
      "source": [
        "cnt = 0\n",
        "temp= []\n",
        "for key, val in h_data.items():\n",
        "  #print(\"key:\", key)\n",
        "  temp.append(key)\n",
        "  "
      ]
    },
    {
      "cell_type": "code",
      "execution_count": null,
      "metadata": {
        "colab": {
          "base_uri": "https://localhost:8080/",
          "height": 54
        },
        "id": "6PAlA9LIAM7c",
        "outputId": "6f1fccdf-a8fb-4826-ac8c-43cbefb80ed5"
      },
      "outputs": [
        {
          "name": "stdout",
          "output_type": "stream",
          "text": [
            "text_01001, प्रसिद्द कबीर अध्येता, पुरुषोत्तम अग्रवाल का यह शोध आलेख, उस रामानंद की खोज करता है \n"
          ]
        },
        {
          "data": {
            "application/vnd.google.colaboratory.intrinsic+json": {
              "type": "string"
            },
            "text/plain": [
              "'text_01053,\" तीन कबीलेवाले, बीच में आए, लेकिन वो भी मारे गए \"\\n'"
            ]
          },
          "execution_count": 67,
          "metadata": {},
          "output_type": "execute_result"
        }
      ],
      "source": [
        "print(tmp[0])\n",
        "temp[52]"
      ]
    },
    {
      "cell_type": "code",
      "execution_count": null,
      "metadata": {
        "colab": {
          "base_uri": "https://localhost:8080/",
          "height": 36
        },
        "id": "nZ2-qXzwWI8N",
        "outputId": "f91317f2-1bb1-41d3-9e10-65ccbda1ce3a"
      },
      "outputs": [
        {
          "data": {
            "application/vnd.google.colaboratory.intrinsic+json": {
              "type": "string"
            },
            "text/plain": [
              "'text_01001,\" प्रसिद्द कबीर अध्येता, पुरुषोत्तम अग्रवाल का यह शोध आलेख, उस रामानंद की खोज करता है \"'"
            ]
          },
          "execution_count": 68,
          "metadata": {},
          "output_type": "execute_result"
        }
      ],
      "source": [
        "import re\n",
        "st = re.sub(\"\\n|''\", \"\", temp[0])\n",
        "st"
      ]
    },
    {
      "cell_type": "code",
      "execution_count": null,
      "metadata": {
        "id": "g6w3OVxX2h6_"
      },
      "outputs": [],
      "source": [
        "tmp = []\n",
        "for i in temp:\n",
        "  st = re.sub(\"\\n|''|\\\"\", \"\", i)\n",
        "  tmp.append(st)"
      ]
    },
    {
      "cell_type": "code",
      "execution_count": null,
      "metadata": {
        "colab": {
          "base_uri": "https://localhost:8080/",
          "height": 54
        },
        "id": "TX9St2zxXYZm",
        "outputId": "2561f75a-ccd8-4ec0-ff1b-126975fd2994"
      },
      "outputs": [
        {
          "name": "stdout",
          "output_type": "stream",
          "text": [
            "2318\n"
          ]
        },
        {
          "data": {
            "application/vnd.google.colaboratory.intrinsic+json": {
              "type": "string"
            },
            "text/plain": [
              "'text_01053, तीन कबीलेवाले, बीच में आए, लेकिन वो भी मारे गए '"
            ]
          },
          "execution_count": 70,
          "metadata": {},
          "output_type": "execute_result"
        }
      ],
      "source": [
        "print(len(tmp))\n",
        "tmp[52]"
      ]
    },
    {
      "cell_type": "code",
      "execution_count": null,
      "metadata": {
        "colab": {
          "base_uri": "https://localhost:8080/",
          "height": 36
        },
        "id": "_nPydBfYXlTw",
        "outputId": "05030a46-340c-423d-c31f-8a551f9790ff"
      },
      "outputs": [
        {
          "data": {
            "application/vnd.google.colaboratory.intrinsic+json": {
              "type": "string"
            },
            "text/plain": [
              "'text_01053'"
            ]
          },
          "execution_count": 72,
          "metadata": {},
          "output_type": "execute_result"
        }
      ],
      "source": [
        "st = tmp[52].split(' ')[0].strip()\n",
        "st.strip(',')"
      ]
    },
    {
      "cell_type": "code",
      "execution_count": null,
      "metadata": {
        "colab": {
          "base_uri": "https://localhost:8080/"
        },
        "id": "T_JK-Os3cFcW",
        "outputId": "2cfe0d80-a72d-4d3e-c3ed-15835ccea555"
      },
      "outputs": [
        {
          "data": {
            "text/plain": [
              "['तीन',\n",
              " 'कबीलेवाले,',\n",
              " 'बीच',\n",
              " 'में',\n",
              " 'आए,',\n",
              " 'लेकिन',\n",
              " 'वो',\n",
              " 'भी',\n",
              " 'मारे',\n",
              " 'गए',\n",
              " '']"
            ]
          },
          "execution_count": 79,
          "metadata": {},
          "output_type": "execute_result"
        }
      ],
      "source": [
        "tmp[52].split(' ')[1:]"
      ]
    },
    {
      "cell_type": "code",
      "execution_count": null,
      "metadata": {
        "colab": {
          "base_uri": "https://localhost:8080/",
          "height": 36
        },
        "id": "gjBwUmOB3M5o",
        "outputId": "f32b689e-7018-4b27-8ae0-6634d1698fe2"
      },
      "outputs": [
        {
          "data": {
            "application/vnd.google.colaboratory.intrinsic+json": {
              "type": "string"
            },
            "text/plain": [
              "'प्रसिद्द कबीर अध्येता, पुरुषोत्तम अग्रवाल का यह शोध आलेख, उस रामानंद की खोज करता है'"
            ]
          },
          "execution_count": 28,
          "metadata": {},
          "output_type": "execute_result"
        }
      ],
      "source": [
        "temp[0].strip(\"\\n\").split('\"')[1].strip()"
      ]
    },
    {
      "cell_type": "code",
      "execution_count": null,
      "metadata": {
        "id": "H0Aam95r14tZ"
      },
      "outputs": [],
      "source": [
        "\n",
        "keys = []\n",
        "for i in range(len(tmp)):\n",
        "  #print(temp[key])\n",
        "  #break\n",
        "  try:\n",
        "    st = tmp[i].split(' ')[0].strip()\n",
        "    st = st.strip(',')\n",
        "    keys.append(st)\n",
        "    # vals.append(tmp[i].split('\"')[1].strip())\n",
        "  except:\n",
        "    print(i)\n",
        "    break\n"
      ]
    },
    {
      "cell_type": "code",
      "execution_count": null,
      "metadata": {
        "colab": {
          "base_uri": "https://localhost:8080/"
        },
        "id": "T2QLdNNI3laC",
        "outputId": "7732c8ca-e9f9-41a5-d0d4-6f9ac8a0ac12"
      },
      "outputs": [
        {
          "name": "stdout",
          "output_type": "stream",
          "text": [
            "2318\n"
          ]
        }
      ],
      "source": [
        "print(len(keys))\n"
      ]
    },
    {
      "cell_type": "code",
      "execution_count": null,
      "metadata": {
        "colab": {
          "base_uri": "https://localhost:8080/"
        },
        "id": "dp4GeHxd3rNK",
        "outputId": "fa3dff88-3d51-4498-87c9-e5fc73fbc91c"
      },
      "outputs": [
        {
          "data": {
            "text/plain": [
              "['text_01001',\n",
              " 'text_01002',\n",
              " 'text_01003',\n",
              " 'text_01004',\n",
              " 'text_01005',\n",
              " 'text_01006',\n",
              " 'text_01007',\n",
              " 'text_01008',\n",
              " 'text_01009']"
            ]
          },
          "execution_count": 78,
          "metadata": {},
          "output_type": "execute_result"
        }
      ],
      "source": [
        "keys[:9]"
      ]
    },
    {
      "cell_type": "code",
      "execution_count": null,
      "metadata": {
        "id": "1dG8FzAbcxO-"
      },
      "outputs": [],
      "source": [
        "vals = []\n",
        "for i in range(len(tmp)):\n",
        "  #print(temp[key])\n",
        "  #break\n",
        "  try:\n",
        "    vals.append(tmp[i].split(' ')[1:])\n",
        "    # vals.append(tmp[i].split('\"')[1].strip())\n",
        "  except:\n",
        "    print(i)\n",
        "    break\n"
      ]
    },
    {
      "cell_type": "code",
      "execution_count": null,
      "metadata": {
        "colab": {
          "base_uri": "https://localhost:8080/"
        },
        "id": "LQG08zDFfiJ0",
        "outputId": "251aedec-16e7-46a4-ee78-61c4ba3ac5e3"
      },
      "outputs": [
        {
          "name": "stdout",
          "output_type": "stream",
          "text": [
            "geeks for geeks\n"
          ]
        }
      ],
      "source": [
        "# Convert list elements into a single string\n",
        "def convert(lst):\n",
        "      \n",
        "    return ' '.join(lst)\n"
      ]
    },
    {
      "cell_type": "code",
      "execution_count": null,
      "metadata": {
        "colab": {
          "base_uri": "https://localhost:8080/",
          "height": 36
        },
        "id": "AxdrVBe9dQVG",
        "outputId": "f906a521-5055-4998-9092-2891143fe8c2"
      },
      "outputs": [
        {
          "data": {
            "application/vnd.google.colaboratory.intrinsic+json": {
              "type": "string"
            },
            "text/plain": [
              "'प्रसिद्द कबीर अध्येता, पुरुषोत्तम अग्रवाल का यह शोध आलेख, उस रामानंद की खोज करता है '"
            ]
          },
          "execution_count": 113,
          "metadata": {},
          "output_type": "execute_result"
        }
      ],
      "source": [
        "l = convert(vals[0])\n",
        "l"
      ]
    },
    {
      "cell_type": "code",
      "execution_count": null,
      "metadata": {
        "id": "fS-VaX8ngO_i"
      },
      "outputs": [],
      "source": [
        "# creating values list for dict\n",
        "values = []\n",
        "for i in vals:\n",
        "  st = convert(i)\n",
        "  values.append(st.strip())"
      ]
    },
    {
      "cell_type": "code",
      "execution_count": null,
      "metadata": {
        "colab": {
          "base_uri": "https://localhost:8080/",
          "height": 36
        },
        "id": "llO1z0fBe2_Y",
        "outputId": "178b2f95-a09b-49e1-f713-6c21b2e3d320"
      },
      "outputs": [
        {
          "data": {
            "application/vnd.google.colaboratory.intrinsic+json": {
              "type": "string"
            },
            "text/plain": [
              "'राही मासूम रज़ा, उस सांस्कृतिक पहचान को तलाशने का प्रयास करते हैं, जो ज़मीन से उपजी है, धर्म से नहीं'"
            ]
          },
          "execution_count": 114,
          "metadata": {},
          "output_type": "execute_result"
        }
      ],
      "source": [
        "values[100]"
      ]
    },
    {
      "cell_type": "code",
      "execution_count": null,
      "metadata": {
        "colab": {
          "base_uri": "https://localhost:8080/"
        },
        "id": "8Acb2iVi_zfX",
        "outputId": "c8fa2dea-e804-4c82-c7f8-68086b5f0779"
      },
      "outputs": [
        {
          "data": {
            "text/plain": [
              "2318"
            ]
          },
          "execution_count": 122,
          "metadata": {},
          "output_type": "execute_result"
        }
      ],
      "source": [
        "from collections import defaultdict\n",
        "\n",
        "text_dict = defaultdict(list)\n",
        "for i in range(len(keys)):\n",
        "  text_dict[keys[i]] = values[i]\n",
        "\n",
        "len(text_dict)"
      ]
    },
    {
      "cell_type": "markdown",
      "metadata": {
        "id": "RL8Brh3XkUto"
      },
      "source": [
        "Done"
      ]
    },
    {
      "cell_type": "code",
      "execution_count": null,
      "metadata": {
        "colab": {
          "base_uri": "https://localhost:8080/"
        },
        "id": "vDtuzPMyksTg",
        "outputId": "778f63a2-565b-430c-ee6e-68229f46ce8c"
      },
      "outputs": [
        {
          "name": "stdout",
          "output_type": "stream",
          "text": [
            "dataset.pkl  \u001b[0m\u001b[01;34mgta\u001b[0m/  \u001b[01;34mmel\u001b[0m/  \u001b[01;34mquant\u001b[0m/  text_dict.pkl\n"
          ]
        }
      ],
      "source": [
        "%ls"
      ]
    },
    {
      "cell_type": "code",
      "execution_count": null,
      "metadata": {
        "id": "PR37CXeTj6ZN"
      },
      "outputs": [],
      "source": [
        "# saving into pkl file\n",
        "output = open('text_dict2.pkl', 'wb')\n",
        "pickle.dump(text_dict, output)\n",
        "output.close()"
      ]
    },
    {
      "cell_type": "code",
      "execution_count": null,
      "metadata": {
        "id": "BDUJ5ToLiDsy"
      },
      "outputs": [],
      "source": [
        "def listToString(s): \n",
        "    \n",
        "    # initialize an empty string\n",
        "    str1 = \" \" \n",
        "    \n",
        "    # return string  \n",
        "    return (str1.join(s))"
      ]
    },
    {
      "cell_type": "code",
      "execution_count": null,
      "metadata": {
        "id": "jlN4shnZZ_92"
      },
      "outputs": [],
      "source": [
        "cnt = 0\n",
        "for key, val in txt_dict.items():\n",
        "  print(\"key:\", key)\n",
        "  print(\"value:\", listToString(val))\n",
        "  cnt+=1\n",
        "  if cnt == 4:\n",
        "    break"
      ]
    },
    {
      "cell_type": "markdown",
      "source": [
        "# Training"
      ],
      "metadata": {
        "id": "SEGvIx2dbDbn"
      }
    },
    {
      "cell_type": "code",
      "execution_count": null,
      "metadata": {
        "id": "dv-a3sOthIOx"
      },
      "outputs": [],
      "source": [
        "!tar -xf \"/content/drive/MyDrive/Voice Cloning/Synthesizer/WaveRNN_Pure.tar\""
      ]
    },
    {
      "cell_type": "code",
      "source": [
        "!pip install -r requirements.txt"
      ],
      "metadata": {
        "id": "f4sFF1h2bCUP"
      },
      "execution_count": null,
      "outputs": []
    },
    {
      "cell_type": "code",
      "source": [
        "!pip3 install torch torchvision torchaudio\n",
        "!pip install torchvision"
      ],
      "metadata": {
        "colab": {
          "base_uri": "https://localhost:8080/"
        },
        "id": "Srb_q70Wb8jm",
        "outputId": "a4033d30-9e68-4da1-8859-02620dca7edc"
      },
      "execution_count": null,
      "outputs": [
        {
          "output_type": "stream",
          "name": "stdout",
          "text": [
            "Requirement already satisfied: torch in /usr/local/lib/python3.7/dist-packages (1.10.0+cu111)\n",
            "Requirement already satisfied: torchvision in /usr/local/lib/python3.7/dist-packages (0.11.1+cu111)\n",
            "Requirement already satisfied: torchaudio in /usr/local/lib/python3.7/dist-packages (0.10.0+cu111)\n",
            "Requirement already satisfied: typing-extensions in /usr/local/lib/python3.7/dist-packages (from torch) (3.10.0.2)\n",
            "Requirement already satisfied: pillow!=8.3.0,>=5.3.0 in /usr/local/lib/python3.7/dist-packages (from torchvision) (7.1.2)\n",
            "Requirement already satisfied: numpy in /usr/local/lib/python3.7/dist-packages (from torchvision) (1.21.5)\n",
            "Requirement already satisfied: torchvision in /usr/local/lib/python3.7/dist-packages (0.11.1+cu111)\n",
            "Requirement already satisfied: pillow!=8.3.0,>=5.3.0 in /usr/local/lib/python3.7/dist-packages (from torchvision) (7.1.2)\n",
            "Requirement already satisfied: numpy in /usr/local/lib/python3.7/dist-packages (from torchvision) (1.21.5)\n",
            "Requirement already satisfied: torch==1.10.0 in /usr/local/lib/python3.7/dist-packages (from torchvision) (1.10.0+cu111)\n",
            "Requirement already satisfied: typing-extensions in /usr/local/lib/python3.7/dist-packages (from torch==1.10.0->torchvision) (3.10.0.2)\n"
          ]
        }
      ]
    },
    {
      "cell_type": "code",
      "source": [
        "import torch\n",
        "\n",
        "if torch.cuda.is_available():\n",
        "  device = torch.device(\"cuda\")\n",
        "  print('using gpu')\n",
        "else:\n",
        "  device = torch.device(\"cpu\")\n",
        "  print('using cpu')"
      ],
      "metadata": {
        "colab": {
          "base_uri": "https://localhost:8080/"
        },
        "id": "e7uRYrQIcCvJ",
        "outputId": "04640874-51ae-460b-c5d4-3007e488c28b"
      },
      "execution_count": null,
      "outputs": [
        {
          "output_type": "stream",
          "name": "stdout",
          "text": [
            "using gpu\n"
          ]
        }
      ]
    },
    {
      "cell_type": "code",
      "source": [
        "!python train_tacotron.py --force_gta"
      ],
      "metadata": {
        "colab": {
          "base_uri": "https://localhost:8080/"
        },
        "id": "5O3YRoFwbcWa",
        "outputId": "e6b81ba7-8a20-4968-81e1-31e376184e08"
      },
      "execution_count": null,
      "outputs": [
        {
          "output_type": "stream",
          "name": "stdout",
          "text": [
            "Using device: cuda\n",
            "\n",
            "Initialising Tacotron Model...\n",
            "\n",
            "Trainable Parameters: 11.088M\n",
            "Restoring from latest checkpoint...\n",
            "Loading latest weights: /content/WaveRNN/checkpoints/ljspeech_lsa_smooth_attention.tacotron/latest_weights.pyt\n",
            "Loading latest optimizer state: /content/WaveRNN/checkpoints/ljspeech_lsa_smooth_attention.tacotron/latest_optim.pyt\n",
            "Creating Ground Truth Aligned Dataset...\n",
            "\n",
            "████████████████ 280/280 Batches \n",
            "\n",
            "You can now train WaveRNN on GTA features - use python train_wavernn.py --gta\n",
            "\n"
          ]
        }
      ]
    },
    {
      "cell_type": "code",
      "source": [
        "!python train_tacotron.py"
      ],
      "metadata": {
        "colab": {
          "base_uri": "https://localhost:8080/"
        },
        "id": "Z6hiPlfdbku7",
        "outputId": "0f2de079-b3c2-4e6d-beec-a127bf5a0a41"
      },
      "execution_count": null,
      "outputs": [
        {
          "output_type": "stream",
          "name": "stdout",
          "text": [
            "Using device: cuda\n",
            "\n",
            "Initialising Tacotron Model...\n",
            "\n",
            "Trainable Parameters: 11.088M\n",
            "Restoring from latest checkpoint...\n",
            "Loading latest weights: /content/WaveRNN/checkpoints/ljspeech_lsa_smooth_attention.tacotron/latest_weights.pyt\n",
            "Loading latest optimizer state: /content/WaveRNN/checkpoints/ljspeech_lsa_smooth_attention.tacotron/latest_optim.pyt\n",
            "+----------------+------------+---------------+------------------+\n",
            "| Steps with r=7 | Batch Size | Learning Rate | Outputs/Step (r) |\n",
            "+----------------+------------+---------------+------------------+\n",
            "|   10k Steps    |     32     |     0.001     |        7         |\n",
            "+----------------+------------+---------------+------------------+\n",
            " \n",
            "| Epoch: 1/143 (70/70) | Loss: 1.877 | 0.89 steps/s | Step: 0k |  \n",
            "| Epoch: 2/143 (70/70) | Loss: 1.363 | 0.90 steps/s | Step: 0k |  \n",
            "| Epoch: 3/143 (70/70) | Loss: 1.296 | 0.90 steps/s | Step: 0k |  \n",
            "| Epoch: 4/143 (70/70) | Loss: 1.249 | 0.89 steps/s | Step: 0k |  \n",
            "| Epoch: 5/143 (70/70) | Loss: 1.213 | 0.90 steps/s | Step: 0k |  \n",
            "| Epoch: 6/143 (70/70) | Loss: 1.199 | 0.90 steps/s | Step: 0k |  \n",
            "| Epoch: 7/143 (70/70) | Loss: 1.176 | 0.90 steps/s | Step: 0k |  \n",
            "| Epoch: 8/143 (70/70) | Loss: 1.170 | 0.90 steps/s | Step: 0k |  \n",
            "| Epoch: 9/143 (70/70) | Loss: 1.157 | 0.90 steps/s | Step: 0k |  \n",
            "| Epoch: 10/143 (70/70) | Loss: 1.139 | 0.89 steps/s | Step: 0k |  \n",
            "| Epoch: 11/143 (70/70) | Loss: 1.138 | 0.90 steps/s | Step: 0k |  \n",
            "| Epoch: 12/143 (70/70) | Loss: 1.123 | 0.89 steps/s | Step: 0k |  \n",
            "| Epoch: 13/143 (70/70) | Loss: 1.117 | 0.89 steps/s | Step: 0k |  \n",
            "| Epoch: 14/143 (70/70) | Loss: 1.108 | 0.90 steps/s | Step: 0k |  \n",
            "| Epoch: 15/143 (70/70) | Loss: 1.103 | 0.89 steps/s | Step: 1k |  \n",
            "| Epoch: 16/143 (70/70) | Loss: 1.098 | 0.89 steps/s | Step: 1k |  \n",
            "| Epoch: 17/143 (70/70) | Loss: 1.091 | 0.89 steps/s | Step: 1k |  \n",
            "| Epoch: 18/143 (70/70) | Loss: 1.084 | 0.90 steps/s | Step: 1k |  \n",
            "| Epoch: 19/143 (70/70) | Loss: 1.072 | 0.90 steps/s | Step: 1k |  \n",
            "| Epoch: 20/143 (70/70) | Loss: 1.072 | 0.90 steps/s | Step: 1k |  \n",
            "| Epoch: 21/143 (70/70) | Loss: 1.065 | 0.90 steps/s | Step: 1k |  \n",
            "| Epoch: 22/143 (70/70) | Loss: 1.065 | 0.90 steps/s | Step: 1k |  \n",
            "| Epoch: 23/143 (70/70) | Loss: 1.058 | 0.90 steps/s | Step: 1k |  \n",
            "| Epoch: 24/143 (70/70) | Loss: 1.050 | 0.89 steps/s | Step: 1k |  \n",
            "| Epoch: 25/143 (70/70) | Loss: 1.048 | 0.89 steps/s | Step: 1k |  \n",
            "| Epoch: 26/143 (70/70) | Loss: 1.040 | 0.89 steps/s | Step: 1k |  \n",
            "| Epoch: 27/143 (70/70) | Loss: 1.036 | 0.89 steps/s | Step: 1k |  \n",
            "| Epoch: 28/143 (70/70) | Loss: 1.031 | 0.89 steps/s | Step: 1k |  \n",
            "| Epoch: 29/143 (70/70) | Loss: 1.030 | 0.88 steps/s | Step: 2k |  \n",
            "| Epoch: 30/143 (70/70) | Loss: 1.024 | 0.89 steps/s | Step: 2k |  \n",
            "| Epoch: 31/143 (70/70) | Loss: 1.027 | 0.89 steps/s | Step: 2k |  \n",
            "| Epoch: 32/143 (70/70) | Loss: 1.022 | 0.90 steps/s | Step: 2k |  \n",
            "| Epoch: 33/143 (70/70) | Loss: 1.012 | 0.89 steps/s | Step: 2k |  \n",
            "| Epoch: 34/143 (70/70) | Loss: 1.015 | 0.90 steps/s | Step: 2k |  \n",
            "| Epoch: 35/143 (70/70) | Loss: 1.008 | 0.89 steps/s | Step: 2k |  \n",
            "| Epoch: 36/143 (70/70) | Loss: 1.002 | 0.89 steps/s | Step: 2k |  \n",
            "| Epoch: 37/143 (70/70) | Loss: 0.9981 | 0.89 steps/s | Step: 2k |  \n",
            "| Epoch: 38/143 (70/70) | Loss: 0.9938 | 0.90 steps/s | Step: 2k |  \n",
            "| Epoch: 39/143 (70/70) | Loss: 0.9918 | 0.89 steps/s | Step: 2k |  \n",
            "| Epoch: 40/143 (70/70) | Loss: 0.9901 | 0.89 steps/s | Step: 2k |  \n",
            "| Epoch: 41/143 (70/70) | Loss: 0.9841 | 0.89 steps/s | Step: 2k |  \n",
            "| Epoch: 42/143 (70/70) | Loss: 0.9819 | 0.89 steps/s | Step: 2k |  \n",
            "| Epoch: 43/143 (70/70) | Loss: 0.9755 | 0.89 steps/s | Step: 3k |  \n",
            "| Epoch: 44/143 (70/70) | Loss: 0.9778 | 0.89 steps/s | Step: 3k |  \n",
            "| Epoch: 45/143 (70/70) | Loss: 0.9735 | 0.89 steps/s | Step: 3k |  \n",
            "| Epoch: 46/143 (70/70) | Loss: 0.9676 | 0.90 steps/s | Step: 3k |  \n",
            "| Epoch: 47/143 (70/70) | Loss: 0.9653 | 0.90 steps/s | Step: 3k |  \n",
            "| Epoch: 48/143 (70/70) | Loss: 0.9636 | 0.90 steps/s | Step: 3k |  \n",
            "| Epoch: 49/143 (70/70) | Loss: 0.9603 | 0.90 steps/s | Step: 3k |  \n",
            "| Epoch: 50/143 (70/70) | Loss: 0.9558 | 0.89 steps/s | Step: 3k |  \n",
            "| Epoch: 51/143 (70/70) | Loss: 0.9531 | 0.90 steps/s | Step: 3k |  \n",
            "| Epoch: 52/143 (70/70) | Loss: 0.9438 | 0.90 steps/s | Step: 3k |  \n",
            "| Epoch: 53/143 (70/70) | Loss: 0.9455 | 0.90 steps/s | Step: 3k |  \n",
            "| Epoch: 54/143 (70/70) | Loss: 0.9455 | 0.90 steps/s | Step: 3k |  \n",
            "| Epoch: 55/143 (70/70) | Loss: 0.9381 | 0.89 steps/s | Step: 3k |  \n",
            "| Epoch: 56/143 (70/70) | Loss: 0.9366 | 0.90 steps/s | Step: 3k |  \n",
            "| Epoch: 57/143 (70/70) | Loss: 0.9381 | 0.90 steps/s | Step: 3k |  \n",
            "| Epoch: 58/143 (70/70) | Loss: 0.9342 | 0.89 steps/s | Step: 4k |  \n",
            "| Epoch: 59/143 (70/70) | Loss: 0.9290 | 0.90 steps/s | Step: 4k |  \n",
            "| Epoch: 60/143 (70/70) | Loss: 0.9213 | 0.90 steps/s | Step: 4k |  \n",
            "| Epoch: 61/143 (70/70) | Loss: 0.9262 | 0.90 steps/s | Step: 4k |  \n",
            "| Epoch: 62/143 (70/70) | Loss: 0.9198 | 0.90 steps/s | Step: 4k |  \n",
            "| Epoch: 63/143 (70/70) | Loss: 0.9137 | 0.90 steps/s | Step: 4k |  \n",
            "| Epoch: 64/143 (70/70) | Loss: 0.9118 | 0.90 steps/s | Step: 4k |  \n",
            "| Epoch: 65/143 (70/70) | Loss: 0.9117 | 0.90 steps/s | Step: 4k |  \n",
            "| Epoch: 66/143 (70/70) | Loss: 0.9050 | 0.90 steps/s | Step: 4k |  \n",
            "| Epoch: 67/143 (70/70) | Loss: 0.9031 | 0.90 steps/s | Step: 4k |  \n",
            "| Epoch: 68/143 (70/70) | Loss: 0.9025 | 0.90 steps/s | Step: 4k |  \n",
            "| Epoch: 69/143 (70/70) | Loss: 0.8972 | 0.90 steps/s | Step: 4k |  \n",
            "| Epoch: 70/143 (70/70) | Loss: 0.8912 | 0.90 steps/s | Step: 4k |  \n",
            "| Epoch: 71/143 (70/70) | Loss: 0.8929 | 0.90 steps/s | Step: 4k |  \n",
            "| Epoch: 72/143 (70/70) | Loss: 0.8866 | 0.90 steps/s | Step: 5k |  \n",
            "| Epoch: 73/143 (70/70) | Loss: 0.8892 | 0.90 steps/s | Step: 5k |  \n",
            "| Epoch: 74/143 (70/70) | Loss: 0.8826 | 0.89 steps/s | Step: 5k |  \n",
            "| Epoch: 75/143 (70/70) | Loss: 0.8812 | 0.89 steps/s | Step: 5k |  \n",
            "| Epoch: 76/143 (70/70) | Loss: 0.8798 | 0.89 steps/s | Step: 5k |  \n",
            "| Epoch: 77/143 (70/70) | Loss: 0.8783 | 0.90 steps/s | Step: 5k |  \n",
            "| Epoch: 78/143 (70/70) | Loss: 0.8792 | 0.89 steps/s | Step: 5k |  \n",
            "| Epoch: 79/143 (70/70) | Loss: 0.8708 | 0.89 steps/s | Step: 5k |  \n",
            "| Epoch: 80/143 (70/70) | Loss: 0.8740 | 0.89 steps/s | Step: 5k |  \n",
            "| Epoch: 81/143 (70/70) | Loss: 0.8718 | 0.89 steps/s | Step: 5k |  \n",
            "| Epoch: 82/143 (70/70) | Loss: 0.8687 | 0.89 steps/s | Step: 5k |  \n",
            "| Epoch: 83/143 (70/70) | Loss: 0.8627 | 0.89 steps/s | Step: 5k |  \n",
            "| Epoch: 84/143 (70/70) | Loss: 0.8600 | 0.89 steps/s | Step: 5k |  \n",
            "| Epoch: 85/143 (70/70) | Loss: 0.8598 | 0.89 steps/s | Step: 5k |  \n",
            "| Epoch: 86/143 (70/70) | Loss: 0.8556 | 0.88 steps/s | Step: 6k |  \n",
            "| Epoch: 87/143 (70/70) | Loss: 0.8542 | 0.90 steps/s | Step: 6k |  \n",
            "| Epoch: 88/143 (70/70) | Loss: 0.8518 | 0.89 steps/s | Step: 6k |  \n",
            "| Epoch: 89/143 (70/70) | Loss: 0.8480 | 0.89 steps/s | Step: 6k |  \n",
            "| Epoch: 90/143 (70/70) | Loss: 0.8498 | 0.89 steps/s | Step: 6k |  \n",
            "| Epoch: 91/143 (70/70) | Loss: 0.8459 | 0.88 steps/s | Step: 6k |  \n",
            "| Epoch: 92/143 (70/70) | Loss: 0.8432 | 0.88 steps/s | Step: 6k |  \n",
            "| Epoch: 93/143 (70/70) | Loss: 0.8398 | 0.88 steps/s | Step: 6k |  \n",
            "| Epoch: 94/143 (70/70) | Loss: 0.8394 | 0.89 steps/s | Step: 6k |  \n",
            "| Epoch: 95/143 (70/70) | Loss: 0.8379 | 0.89 steps/s | Step: 6k |  \n",
            "| Epoch: 96/143 (70/70) | Loss: 0.8382 | 0.89 steps/s | Step: 6k |  \n",
            "| Epoch: 97/143 (70/70) | Loss: 0.8336 | 0.89 steps/s | Step: 6k |  \n",
            "| Epoch: 98/143 (70/70) | Loss: 0.8291 | 0.89 steps/s | Step: 6k |  \n",
            "| Epoch: 99/143 (70/70) | Loss: 0.8306 | 0.89 steps/s | Step: 6k |  \n",
            "| Epoch: 100/143 (70/70) | Loss: 0.8303 | 0.89 steps/s | Step: 7k |  \n",
            "| Epoch: 101/143 (70/70) | Loss: 0.8227 | 0.89 steps/s | Step: 7k |  \n",
            "| Epoch: 102/143 (70/70) | Loss: 0.8275 | 0.89 steps/s | Step: 7k |  \n",
            "| Epoch: 103/143 (70/70) | Loss: 0.8189 | 0.89 steps/s | Step: 7k |  \n",
            "| Epoch: 104/143 (70/70) | Loss: 0.8186 | 0.89 steps/s | Step: 7k |  \n",
            "| Epoch: 105/143 (70/70) | Loss: 0.8249 | 0.89 steps/s | Step: 7k |  \n",
            "| Epoch: 106/143 (70/70) | Loss: 0.8151 | 0.89 steps/s | Step: 7k |  \n",
            "| Epoch: 107/143 (70/70) | Loss: 0.8203 | 0.89 steps/s | Step: 7k |  \n",
            "| Epoch: 108/143 (70/70) | Loss: 0.8116 | 0.89 steps/s | Step: 7k |  \n",
            "| Epoch: 109/143 (70/70) | Loss: 0.8111 | 0.89 steps/s | Step: 7k |  \n",
            "| Epoch: 110/143 (70/70) | Loss: 0.8097 | 0.89 steps/s | Step: 7k |  \n",
            "| Epoch: 111/143 (70/70) | Loss: 0.8099 | 0.89 steps/s | Step: 7k |  \n",
            "| Epoch: 112/143 (70/70) | Loss: 0.8067 | 0.89 steps/s | Step: 7k |  \n",
            "| Epoch: 113/143 (70/70) | Loss: 0.8021 | 0.89 steps/s | Step: 7k |  \n",
            "| Epoch: 114/143 (70/70) | Loss: 0.8052 | 0.89 steps/s | Step: 7k |  \n",
            "| Epoch: 115/143 (70/70) | Loss: 0.8038 | 0.88 steps/s | Step: 8k |  \n",
            "| Epoch: 116/143 (70/70) | Loss: 0.8040 | 0.89 steps/s | Step: 8k |  \n",
            "| Epoch: 117/143 (70/70) | Loss: 0.8017 | 0.89 steps/s | Step: 8k |  \n",
            "| Epoch: 118/143 (70/70) | Loss: 0.8019 | 0.89 steps/s | Step: 8k |  \n",
            "| Epoch: 119/143 (70/70) | Loss: 0.8043 | 0.89 steps/s | Step: 8k |  \n",
            "| Epoch: 120/143 (70/70) | Loss: 0.7953 | 0.89 steps/s | Step: 8k |  \n",
            "| Epoch: 121/143 (70/70) | Loss: 0.7934 | 0.89 steps/s | Step: 8k |  \n",
            "| Epoch: 122/143 (70/70) | Loss: 0.7933 | 0.89 steps/s | Step: 8k |  \n",
            "| Epoch: 123/143 (70/70) | Loss: 0.7928 | 0.89 steps/s | Step: 8k |  \n",
            "| Epoch: 124/143 (70/70) | Loss: 0.7949 | 0.89 steps/s | Step: 8k |  \n",
            "| Epoch: 125/143 (70/70) | Loss: 0.7852 | 0.89 steps/s | Step: 8k |  \n",
            "| Epoch: 126/143 (70/70) | Loss: 0.7846 | 0.89 steps/s | Step: 8k |  \n",
            "| Epoch: 127/143 (70/70) | Loss: 0.7850 | 0.89 steps/s | Step: 8k |  \n",
            "| Epoch: 128/143 (70/70) | Loss: 0.7902 | 0.89 steps/s | Step: 8k |  \n",
            "| Epoch: 129/143 (70/70) | Loss: 0.7804 | 0.89 steps/s | Step: 9k |  \n",
            "| Epoch: 130/143 (70/70) | Loss: 0.7781 | 0.89 steps/s | Step: 9k |  \n",
            "| Epoch: 131/143 (70/70) | Loss: 0.7793 | 0.89 steps/s | Step: 9k |  \n",
            "| Epoch: 132/143 (70/70) | Loss: 0.7785 | 0.89 steps/s | Step: 9k |  \n",
            "| Epoch: 133/143 (70/70) | Loss: 0.7764 | 0.89 steps/s | Step: 9k |  \n",
            "| Epoch: 134/143 (70/70) | Loss: 0.7763 | 0.89 steps/s | Step: 9k |  \n",
            "| Epoch: 135/143 (70/70) | Loss: 0.7751 | 0.89 steps/s | Step: 9k |  \n",
            "| Epoch: 136/143 (70/70) | Loss: 0.7679 | 0.89 steps/s | Step: 9k |  \n",
            "| Epoch: 137/143 (70/70) | Loss: 0.7700 | 0.89 steps/s | Step: 9k |  \n",
            "| Epoch: 138/143 (70/70) | Loss: 0.7648 | 0.89 steps/s | Step: 9k |  \n",
            "| Epoch: 139/143 (70/70) | Loss: 0.7728 | 0.89 steps/s | Step: 9k |  \n",
            "| Epoch: 140/143 (70/70) | Loss: 0.7690 | 0.89 steps/s | Step: 9k |  \n",
            "| Epoch: 141/143 (70/70) | Loss: 0.7659 | 0.89 steps/s | Step: 9k |  \n",
            "| Epoch: 142/143 (70/70) | Loss: 0.7693 | 0.77 steps/s | Step: 9k |  \n",
            "| Epoch: 143/143 (70/70) | Loss: 0.7672 | 0.87 steps/s | Step: 10k |  \n",
            "+----------------+------------+---------------+------------------+\n",
            "| Steps with r=5 | Batch Size | Learning Rate | Outputs/Step (r) |\n",
            "+----------------+------------+---------------+------------------+\n",
            "|   89k Steps    |     32     |    0.0001     |        5         |\n",
            "+----------------+------------+---------------+------------------+\n",
            " \n",
            "| Epoch: 1/1286 (70/70) | Loss: 0.8801 | 0.73 steps/s | Step: 10k |  \n",
            "| Epoch: 2/1286 (70/70) | Loss: 0.8455 | 0.73 steps/s | Step: 10k |  \n",
            "| Epoch: 3/1286 (70/70) | Loss: 0.8341 | 0.73 steps/s | Step: 10k |  \n",
            "| Epoch: 4/1286 (70/70) | Loss: 0.8279 | 0.73 steps/s | Step: 10k |  \n",
            "| Epoch: 5/1286 (70/70) | Loss: 0.8220 | 0.73 steps/s | Step: 10k |  \n",
            "| Epoch: 6/1286 (70/70) | Loss: 0.8183 | 0.73 steps/s | Step: 10k |  \n",
            "| Epoch: 7/1286 (70/70) | Loss: 0.8148 | 0.73 steps/s | Step: 10k |  \n",
            "| Epoch: 8/1286 (70/70) | Loss: 0.8111 | 0.73 steps/s | Step: 10k |  \n",
            "| Epoch: 9/1286 (29/70) | Loss: 0.8009 | 0.85 steps/s | Step: 10k | Exception ignored in: <function _MultiProcessingDataLoaderIter.__del__ at 0x7fbcb45d23b0>\n",
            "Traceback (most recent call last):\n",
            "  File \"/usr/local/lib/python3.7/dist-packages/torch/utils/data/dataloader.py\", line 1328, in __del__\n",
            "    self._shutdown_workers()\n",
            "  File \"/usr/local/lib/python3.7/dist-packages/torch/utils/data/dataloader.py\", line 1283, in _shutdown_workers\n",
            "    self._pin_memory_thread.join()\n",
            "  File \"/usr/lib/python3.7/threading.py\", line 1044, in join\n",
            "    self._wait_for_tstate_lock()\n",
            "  File \"/usr/lib/python3.7/threading.py\", line 1060, in _wait_for_tstate_lock\n",
            "    elif lock.acquire(block, timeout):\n",
            "KeyboardInterrupt: \n",
            "Traceback (most recent call last):\n",
            "  File \"train_tacotron.py\", line 203, in <module>\n",
            "    main()\n",
            "  File \"train_tacotron.py\", line 98, in main\n",
            "    tts_train_loop(paths, model, optimizer, train_set, lr, training_steps, attn_example)\n",
            "  File \"train_tacotron.py\", line 134, in tts_train_loop\n",
            "    m1_hat, m2_hat, attention = model(x, m)\n",
            "  File \"/usr/local/lib/python3.7/dist-packages/torch/nn/modules/module.py\", line 1102, in _call_impl\n",
            "    return forward_call(*input, **kwargs)\n",
            "  File \"/content/WaveRNN/models/tacotron.py\", line 352, in forward\n",
            "    hidden_states, cell_states, context_vec, t)\n",
            "  File \"/usr/local/lib/python3.7/dist-packages/torch/nn/modules/module.py\", line 1102, in _call_impl\n",
            "    return forward_call(*input, **kwargs)\n",
            "  File \"/content/WaveRNN/models/tacotron.py\", line 255, in forward\n",
            "    x = self.rnn_input(x)\n",
            "  File \"/usr/local/lib/python3.7/dist-packages/torch/nn/modules/module.py\", line 1102, in _call_impl\n",
            "    return forward_call(*input, **kwargs)\n",
            "  File \"/usr/local/lib/python3.7/dist-packages/torch/nn/modules/linear.py\", line 103, in forward\n",
            "    return F.linear(input, self.weight, self.bias)\n",
            "  File \"/usr/local/lib/python3.7/dist-packages/torch/nn/functional.py\", line 1848, in linear\n",
            "    return torch._C._nn.linear(input, weight, bias)\n",
            "KeyboardInterrupt\n"
          ]
        }
      ]
    },
    {
      "cell_type": "code",
      "source": [
        "os.chdir(\"/content/drive/MyDrive/Voice Cloning/Synthesizer\")"
      ],
      "metadata": {
        "id": "rbSiwg4lNOdi"
      },
      "execution_count": null,
      "outputs": []
    },
    {
      "cell_type": "code",
      "source": [
        "shutil.make_archive(\"trained_wavernn\",'tar',\"/content/WaveRNN\")"
      ],
      "metadata": {
        "colab": {
          "base_uri": "https://localhost:8080/",
          "height": 36
        },
        "id": "cMxS_gDyeV0h",
        "outputId": "153d8f7e-3913-4e87-f77c-913a9d26440f"
      },
      "execution_count": null,
      "outputs": [
        {
          "output_type": "execute_result",
          "data": {
            "application/vnd.google.colaboratory.intrinsic+json": {
              "type": "string"
            },
            "text/plain": [
              "'/content/drive/MyDrive/Voice Cloning/Synthesizer/trained_wavernn.tar'"
            ]
          },
          "metadata": {},
          "execution_count": 20
        }
      ]
    },
    {
      "cell_type": "code",
      "source": [
        ""
      ],
      "metadata": {
        "id": "7YOD7z6bNlUr"
      },
      "execution_count": null,
      "outputs": []
    }
  ],
  "metadata": {
    "accelerator": "GPU",
    "colab": {
      "collapsed_sections": [
        "yuHB68HwNQ3d",
        "V6vGafZbr89I",
        "FWNs0GWJNdsC"
      ],
      "name": "WaveRNN+TTS_V1.ipynb",
      "provenance": [],
      "authorship_tag": "ABX9TyNaH1o9KfoHsTDJmcLaPUGg",
      "include_colab_link": true
    },
    "kernelspec": {
      "display_name": "Python 3",
      "name": "python3"
    },
    "language_info": {
      "name": "python"
    }
  },
  "nbformat": 4,
  "nbformat_minor": 0
}